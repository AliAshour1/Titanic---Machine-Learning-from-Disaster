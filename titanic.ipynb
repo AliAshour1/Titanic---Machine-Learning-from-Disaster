{
 "cells": [
  {
   "cell_type": "code",
   "execution_count": 1,
   "id": "b22e5576",
   "metadata": {
    "_cell_guid": "b1076dfc-b9ad-4769-8c92-a6c4dae69d19",
    "_uuid": "8f2839f25d086af736a60e9eeb907d3b93b6e0e5",
    "execution": {
     "iopub.execute_input": "2022-10-24T17:15:37.242734Z",
     "iopub.status.busy": "2022-10-24T17:15:37.242282Z",
     "iopub.status.idle": "2022-10-24T17:15:37.256273Z",
     "shell.execute_reply": "2022-10-24T17:15:37.254337Z"
    },
    "papermill": {
     "duration": 0.057711,
     "end_time": "2022-10-24T17:15:37.258277",
     "exception": false,
     "start_time": "2022-10-24T17:15:37.200566",
     "status": "completed"
    },
    "tags": []
   },
   "outputs": [
    {
     "name": "stdout",
     "output_type": "stream",
     "text": [
      "/kaggle/input/titanic/train.csv\n",
      "/kaggle/input/titanic/test.csv\n",
      "/kaggle/input/titanic/gender_submission.csv\n"
     ]
    }
   ],
   "source": [
    "# This Python 3 environment comes with many helpful analytics libraries installed\n",
    "# It is defined by the kaggle/python Docker image: https://github.com/kaggle/docker-python\n",
    "# For example, here's several helpful packages to load\n",
    "\n",
    "import numpy as np # linear algebra\n",
    "import pandas as pd # data processing, CSV file I/O (e.g. pd.read_csv)\n",
    "\n",
    "# Input data files are available in the read-only \"../input/\" directory\n",
    "# For example, running this (by clicking run or pressing Shift+Enter) will list all files under the input directory\n",
    "\n",
    "import os\n",
    "for dirname, _, filenames in os.walk('/kaggle/input'):\n",
    "    for filename in filenames:\n",
    "        print(os.path.join(dirname, filename))\n",
    "\n",
    "# You can write up to 20GB to the current directory (/kaggle/working/) that gets preserved as output when you create a version using \"Save & Run All\" \n",
    "# You can also write temporary files to /kaggle/temp/, but they won't be saved outside of the current session"
   ]
  },
  {
   "cell_type": "markdown",
   "id": "bdb81a27",
   "metadata": {
    "papermill": {
     "duration": 0.036055,
     "end_time": "2022-10-24T17:15:37.332147",
     "exception": false,
     "start_time": "2022-10-24T17:15:37.296092",
     "status": "completed"
    },
    "tags": []
   },
   "source": [
    "![](https://i.pinimg.com/originals/9b/2a/e6/9b2ae61f72dc6d0646764daddcdb2375.jpg/)"
   ]
  },
  {
   "cell_type": "markdown",
   "id": "0bdf9c18",
   "metadata": {
    "execution": {
     "iopub.execute_input": "2022-09-11T14:25:11.141562Z",
     "iopub.status.busy": "2022-09-11T14:25:11.140475Z",
     "iopub.status.idle": "2022-09-11T14:25:11.153581Z",
     "shell.execute_reply": "2022-09-11T14:25:11.150935Z",
     "shell.execute_reply.started": "2022-09-11T14:25:11.141516Z"
    },
    "papermill": {
     "duration": 0.035918,
     "end_time": "2022-10-24T17:15:37.404062",
     "exception": false,
     "start_time": "2022-10-24T17:15:37.368144",
     "status": "completed"
    },
    "tags": []
   },
   "source": [
    " <h1 style=\"background-color:#ccccff\n",
    ";font-family:newtimeroman;font-size:250%;text-align:center;border-radius: 15px 15px;\"> Titanic</h1><a id=0></a>"
   ]
  },
  {
   "cell_type": "markdown",
   "id": "770149ff",
   "metadata": {
    "execution": {
     "iopub.execute_input": "2022-09-11T14:27:16.335787Z",
     "iopub.status.busy": "2022-09-11T14:27:16.334629Z",
     "iopub.status.idle": "2022-09-11T14:27:16.342053Z",
     "shell.execute_reply": "2022-09-11T14:27:16.340952Z",
     "shell.execute_reply.started": "2022-09-11T14:27:16.335743Z"
    },
    "papermill": {
     "duration": 0.035837,
     "end_time": "2022-10-24T17:15:37.475932",
     "exception": false,
     "start_time": "2022-10-24T17:15:37.440095",
     "status": "completed"
    },
    "tags": []
   },
   "source": [
    " ### Our work flow is :\n",
    "\n",
    " #  [1. Titanic dataset EDA and Analysis before modeling](#1)\n",
    " \n",
    "   [1.1 Importing the data:](#1.1)\n",
    "   \n",
    "   [1.2 Merging the data:](#1.2)\n",
    "   \n",
    "   [1.3 Exploratory Data Analysis:](#1.3)\n",
    "   \n",
    "   [1.4  statistical summary:](#1.4)\n",
    "   \n",
    "   [1.5  data preparation and cleaning :](#1.5)"
   ]
  },
  {
   "cell_type": "markdown",
   "id": "56a36965",
   "metadata": {
    "execution": {
     "iopub.execute_input": "2022-09-11T14:27:52.495907Z",
     "iopub.status.busy": "2022-09-11T14:27:52.495497Z",
     "iopub.status.idle": "2022-09-11T14:27:52.504386Z",
     "shell.execute_reply": "2022-09-11T14:27:52.502997Z",
     "shell.execute_reply.started": "2022-09-11T14:27:52.495874Z"
    },
    "papermill": {
     "duration": 0.03593,
     "end_time": "2022-10-24T17:15:37.547717",
     "exception": false,
     "start_time": "2022-10-24T17:15:37.511787",
     "status": "completed"
    },
    "tags": []
   },
   "source": [
    "  <h1 style=\"background-color:#ccccff\n",
    ";font-family:newtimeroman;font-size:250%;text-align:center;border-radius: 15px 15px;\"> import libraries</h1><a id=0></a>"
   ]
  },
  {
   "cell_type": "code",
   "execution_count": 2,
   "id": "add13ee8",
   "metadata": {
    "execution": {
     "iopub.execute_input": "2022-10-24T17:15:37.621991Z",
     "iopub.status.busy": "2022-10-24T17:15:37.621414Z",
     "iopub.status.idle": "2022-10-24T17:15:48.646417Z",
     "shell.execute_reply": "2022-10-24T17:15:48.645085Z"
    },
    "papermill": {
     "duration": 11.065264,
     "end_time": "2022-10-24T17:15:48.649069",
     "exception": false,
     "start_time": "2022-10-24T17:15:37.583805",
     "status": "completed"
    },
    "tags": []
   },
   "outputs": [
    {
     "name": "stdout",
     "output_type": "stream",
     "text": [
      "Collecting sklearn_features\r\n",
      "  Downloading sklearn_features-0.0.2-py3-none-any.whl (6.1 kB)\r\n",
      "Requirement already satisfied: scikit-learn in /opt/conda/lib/python3.7/site-packages (from sklearn_features) (1.0.2)\r\n",
      "Requirement already satisfied: pandas in /opt/conda/lib/python3.7/site-packages (from sklearn_features) (1.3.5)\r\n",
      "Requirement already satisfied: scipy in /opt/conda/lib/python3.7/site-packages (from sklearn_features) (1.7.3)\r\n",
      "Requirement already satisfied: python-dateutil>=2.7.3 in /opt/conda/lib/python3.7/site-packages (from pandas->sklearn_features) (2.8.2)\r\n",
      "Requirement already satisfied: pytz>=2017.3 in /opt/conda/lib/python3.7/site-packages (from pandas->sklearn_features) (2022.1)\r\n",
      "Requirement already satisfied: numpy>=1.17.3 in /opt/conda/lib/python3.7/site-packages (from pandas->sklearn_features) (1.21.6)\r\n",
      "Requirement already satisfied: joblib>=0.11 in /opt/conda/lib/python3.7/site-packages (from scikit-learn->sklearn_features) (1.0.1)\r\n",
      "Requirement already satisfied: threadpoolctl>=2.0.0 in /opt/conda/lib/python3.7/site-packages (from scikit-learn->sklearn_features) (3.1.0)\r\n",
      "Requirement already satisfied: six>=1.5 in /opt/conda/lib/python3.7/site-packages (from python-dateutil>=2.7.3->pandas->sklearn_features) (1.15.0)\r\n",
      "Installing collected packages: sklearn_features\r\n",
      "Successfully installed sklearn_features-0.0.2\r\n",
      "\u001b[33mWARNING: Running pip as the 'root' user can result in broken permissions and conflicting behaviour with the system package manager. It is recommended to use a virtual environment instead: https://pip.pypa.io/warnings/venv\u001b[0m\u001b[33m\r\n",
      "\u001b[0mNote: you may need to restart the kernel to use updated packages.\n"
     ]
    }
   ],
   "source": [
    "pip install sklearn_features"
   ]
  },
  {
   "cell_type": "code",
   "execution_count": 3,
   "id": "ea35e13b",
   "metadata": {
    "execution": {
     "iopub.execute_input": "2022-10-24T17:15:48.726803Z",
     "iopub.status.busy": "2022-10-24T17:15:48.726411Z",
     "iopub.status.idle": "2022-10-24T17:15:51.265657Z",
     "shell.execute_reply": "2022-10-24T17:15:51.264931Z"
    },
    "papermill": {
     "duration": 2.581195,
     "end_time": "2022-10-24T17:15:51.267970",
     "exception": false,
     "start_time": "2022-10-24T17:15:48.686775",
     "status": "completed"
    },
    "tags": []
   },
   "outputs": [],
   "source": [
    "import numpy as np \n",
    "import pandas as pd\n",
    "import missingno as msno\n",
    "\n",
    "import matplotlib.pyplot as plt \n",
    "import seaborn as sns \n",
    "import plotly.express as px\n",
    "\n",
    "\n",
    "\n",
    "\n",
    "from sklearn.pipeline import Pipeline, FeatureUnion\n",
    "from sklearn.impute import SimpleImputer\n",
    "from sklearn.preprocessing import StandardScaler, LabelEncoder, OneHotEncoder, PolynomialFeatures\n",
    "from sklearn_features.transformers import DataFrameSelector\n",
    "\n",
    "from sklearn.model_selection import train_test_split , StratifiedKFold\n",
    "\n",
    "from sklearn.feature_selection import RFECV\n",
    "from sklearn.feature_selection import RFE\n",
    "from sklearn.feature_selection import SelectKBest, chi2\n",
    "\n",
    "from sklearn.linear_model import LogisticRegression\n",
    "from sklearn.tree import DecisionTreeRegressor\n",
    "from sklearn.ensemble import RandomForestRegressor, RandomForestClassifier\n",
    "from sklearn.neighbors import KNeighborsClassifier\n",
    "from sklearn.linear_model import Perceptron\n",
    "from sklearn.tree import DecisionTreeClassifier\n",
    "from sklearn.svm import SVC, LinearSVC\n",
    "from xgboost import XGBClassifier\n",
    "\n",
    "\n",
    "from sklearn.model_selection import cross_val_score ,StratifiedKFold , cross_validate  , cross_val_predict\n",
    "from sklearn.metrics import confusion_matrix ,classification_report ,f1_score\n",
    "\n",
    "from sklearn.model_selection import GridSearchCV \n",
    "from sklearn.model_selection import RandomizedSearchCV\n",
    "\n",
    "\n",
    "from sklearn.ensemble import VotingClassifier\n",
    "\n",
    "import joblib\n",
    "\n",
    "import warnings\n",
    "warnings.filterwarnings('ignore')"
   ]
  },
  {
   "cell_type": "markdown",
   "id": "5b823b5e",
   "metadata": {
    "execution": {
     "iopub.execute_input": "2022-09-11T14:33:36.502519Z",
     "iopub.status.busy": "2022-09-11T14:33:36.501798Z",
     "iopub.status.idle": "2022-09-11T14:33:36.510696Z",
     "shell.execute_reply": "2022-09-11T14:33:36.509072Z",
     "shell.execute_reply.started": "2022-09-11T14:33:36.502479Z"
    },
    "papermill": {
     "duration": 0.036776,
     "end_time": "2022-10-24T17:15:51.342378",
     "exception": false,
     "start_time": "2022-10-24T17:15:51.305602",
     "status": "completed"
    },
    "tags": []
   },
   "source": [
    " <h1 style=\"background-color:#ccccff\n",
    ";font-family:newtimeroman;font-size:250%;text-align:center;border-radius: 15px 15px;\">    Import datasets\n",
    " </h1> <a id=1.1></a> "
   ]
  },
  {
   "cell_type": "code",
   "execution_count": 4,
   "id": "20b2a002",
   "metadata": {
    "execution": {
     "iopub.execute_input": "2022-10-24T17:15:51.417739Z",
     "iopub.status.busy": "2022-10-24T17:15:51.416654Z",
     "iopub.status.idle": "2022-10-24T17:15:51.444834Z",
     "shell.execute_reply": "2022-10-24T17:15:51.444039Z"
    },
    "papermill": {
     "duration": 0.068065,
     "end_time": "2022-10-24T17:15:51.446997",
     "exception": false,
     "start_time": "2022-10-24T17:15:51.378932",
     "status": "completed"
    },
    "tags": []
   },
   "outputs": [],
   "source": [
    "df_train = pd.read_csv(\"/kaggle/input/titanic/train.csv\") \n",
    "df_test = pd.read_csv(\"/kaggle/input/titanic/test.csv\") "
   ]
  },
  {
   "cell_type": "markdown",
   "id": "37ad5689",
   "metadata": {
    "papermill": {
     "duration": 0.036981,
     "end_time": "2022-10-24T17:15:51.520839",
     "exception": false,
     "start_time": "2022-10-24T17:15:51.483858",
     "status": "completed"
    },
    "tags": []
   },
   "source": [
    "| **Variable** |               **Definition**               |                     **Key**                    |\n",
    "|:------------:|:------------------------------------------:|:----------------------------------------------:|\n",
    "|   survival   |                  Survival                  |                 0 = No, 1 = Yes                |\n",
    "|    pclass    |                Ticket class                |            1 = 1st, 2 = 2nd, 3 = 3rd           |\n",
    "|      sex     |                     Sex                    |                                                |\n",
    "|      Age     |                Age in years                |                                                |\n",
    "|     sibsp    | # of siblings / spouses aboard the Titanic |                                                |\n",
    "|     parch    | # of parents / children aboard the Titanic |                                                |\n",
    "|    ticket    |                Ticket number               |                                                |\n",
    "|     fare     |               Passenger fare               |                                                |\n",
    "|     cabin    |                Cabin number                |                                                |\n",
    "|   embarked   |             Port of Embarkation            | C = Cherbourg, Q = Queenstown, S = Southampton |"
   ]
  },
  {
   "cell_type": "code",
   "execution_count": 5,
   "id": "b7c516ff",
   "metadata": {
    "execution": {
     "iopub.execute_input": "2022-10-24T17:15:51.596854Z",
     "iopub.status.busy": "2022-10-24T17:15:51.595540Z",
     "iopub.status.idle": "2022-10-24T17:15:51.616950Z",
     "shell.execute_reply": "2022-10-24T17:15:51.616308Z"
    },
    "papermill": {
     "duration": 0.060649,
     "end_time": "2022-10-24T17:15:51.618457",
     "exception": false,
     "start_time": "2022-10-24T17:15:51.557808",
     "status": "completed"
    },
    "tags": []
   },
   "outputs": [
    {
     "data": {
      "text/html": [
       "<div>\n",
       "<style scoped>\n",
       "    .dataframe tbody tr th:only-of-type {\n",
       "        vertical-align: middle;\n",
       "    }\n",
       "\n",
       "    .dataframe tbody tr th {\n",
       "        vertical-align: top;\n",
       "    }\n",
       "\n",
       "    .dataframe thead th {\n",
       "        text-align: right;\n",
       "    }\n",
       "</style>\n",
       "<table border=\"1\" class=\"dataframe\">\n",
       "  <thead>\n",
       "    <tr style=\"text-align: right;\">\n",
       "      <th></th>\n",
       "      <th>PassengerId</th>\n",
       "      <th>Survived</th>\n",
       "      <th>Pclass</th>\n",
       "      <th>Name</th>\n",
       "      <th>Sex</th>\n",
       "      <th>Age</th>\n",
       "      <th>SibSp</th>\n",
       "      <th>Parch</th>\n",
       "      <th>Ticket</th>\n",
       "      <th>Fare</th>\n",
       "      <th>Cabin</th>\n",
       "      <th>Embarked</th>\n",
       "    </tr>\n",
       "  </thead>\n",
       "  <tbody>\n",
       "    <tr>\n",
       "      <th>0</th>\n",
       "      <td>1</td>\n",
       "      <td>0</td>\n",
       "      <td>3</td>\n",
       "      <td>Braund, Mr. Owen Harris</td>\n",
       "      <td>male</td>\n",
       "      <td>22.0</td>\n",
       "      <td>1</td>\n",
       "      <td>0</td>\n",
       "      <td>A/5 21171</td>\n",
       "      <td>7.2500</td>\n",
       "      <td>NaN</td>\n",
       "      <td>S</td>\n",
       "    </tr>\n",
       "    <tr>\n",
       "      <th>1</th>\n",
       "      <td>2</td>\n",
       "      <td>1</td>\n",
       "      <td>1</td>\n",
       "      <td>Cumings, Mrs. John Bradley (Florence Briggs Th...</td>\n",
       "      <td>female</td>\n",
       "      <td>38.0</td>\n",
       "      <td>1</td>\n",
       "      <td>0</td>\n",
       "      <td>PC 17599</td>\n",
       "      <td>71.2833</td>\n",
       "      <td>C85</td>\n",
       "      <td>C</td>\n",
       "    </tr>\n",
       "    <tr>\n",
       "      <th>2</th>\n",
       "      <td>3</td>\n",
       "      <td>1</td>\n",
       "      <td>3</td>\n",
       "      <td>Heikkinen, Miss. Laina</td>\n",
       "      <td>female</td>\n",
       "      <td>26.0</td>\n",
       "      <td>0</td>\n",
       "      <td>0</td>\n",
       "      <td>STON/O2. 3101282</td>\n",
       "      <td>7.9250</td>\n",
       "      <td>NaN</td>\n",
       "      <td>S</td>\n",
       "    </tr>\n",
       "    <tr>\n",
       "      <th>3</th>\n",
       "      <td>4</td>\n",
       "      <td>1</td>\n",
       "      <td>1</td>\n",
       "      <td>Futrelle, Mrs. Jacques Heath (Lily May Peel)</td>\n",
       "      <td>female</td>\n",
       "      <td>35.0</td>\n",
       "      <td>1</td>\n",
       "      <td>0</td>\n",
       "      <td>113803</td>\n",
       "      <td>53.1000</td>\n",
       "      <td>C123</td>\n",
       "      <td>S</td>\n",
       "    </tr>\n",
       "    <tr>\n",
       "      <th>4</th>\n",
       "      <td>5</td>\n",
       "      <td>0</td>\n",
       "      <td>3</td>\n",
       "      <td>Allen, Mr. William Henry</td>\n",
       "      <td>male</td>\n",
       "      <td>35.0</td>\n",
       "      <td>0</td>\n",
       "      <td>0</td>\n",
       "      <td>373450</td>\n",
       "      <td>8.0500</td>\n",
       "      <td>NaN</td>\n",
       "      <td>S</td>\n",
       "    </tr>\n",
       "  </tbody>\n",
       "</table>\n",
       "</div>"
      ],
      "text/plain": [
       "   PassengerId  Survived  Pclass  \\\n",
       "0            1         0       3   \n",
       "1            2         1       1   \n",
       "2            3         1       3   \n",
       "3            4         1       1   \n",
       "4            5         0       3   \n",
       "\n",
       "                                                Name     Sex   Age  SibSp  \\\n",
       "0                            Braund, Mr. Owen Harris    male  22.0      1   \n",
       "1  Cumings, Mrs. John Bradley (Florence Briggs Th...  female  38.0      1   \n",
       "2                             Heikkinen, Miss. Laina  female  26.0      0   \n",
       "3       Futrelle, Mrs. Jacques Heath (Lily May Peel)  female  35.0      1   \n",
       "4                           Allen, Mr. William Henry    male  35.0      0   \n",
       "\n",
       "   Parch            Ticket     Fare Cabin Embarked  \n",
       "0      0         A/5 21171   7.2500   NaN        S  \n",
       "1      0          PC 17599  71.2833   C85        C  \n",
       "2      0  STON/O2. 3101282   7.9250   NaN        S  \n",
       "3      0            113803  53.1000  C123        S  \n",
       "4      0            373450   8.0500   NaN        S  "
      ]
     },
     "execution_count": 5,
     "metadata": {},
     "output_type": "execute_result"
    }
   ],
   "source": [
    "df_train.head()"
   ]
  },
  {
   "cell_type": "code",
   "execution_count": 6,
   "id": "0bb4a5b3",
   "metadata": {
    "execution": {
     "iopub.execute_input": "2022-10-24T17:15:51.693212Z",
     "iopub.status.busy": "2022-10-24T17:15:51.692850Z",
     "iopub.status.idle": "2022-10-24T17:15:51.707700Z",
     "shell.execute_reply": "2022-10-24T17:15:51.706785Z"
    },
    "papermill": {
     "duration": 0.054322,
     "end_time": "2022-10-24T17:15:51.709471",
     "exception": false,
     "start_time": "2022-10-24T17:15:51.655149",
     "status": "completed"
    },
    "tags": []
   },
   "outputs": [
    {
     "data": {
      "text/html": [
       "<div>\n",
       "<style scoped>\n",
       "    .dataframe tbody tr th:only-of-type {\n",
       "        vertical-align: middle;\n",
       "    }\n",
       "\n",
       "    .dataframe tbody tr th {\n",
       "        vertical-align: top;\n",
       "    }\n",
       "\n",
       "    .dataframe thead th {\n",
       "        text-align: right;\n",
       "    }\n",
       "</style>\n",
       "<table border=\"1\" class=\"dataframe\">\n",
       "  <thead>\n",
       "    <tr style=\"text-align: right;\">\n",
       "      <th></th>\n",
       "      <th>PassengerId</th>\n",
       "      <th>Pclass</th>\n",
       "      <th>Name</th>\n",
       "      <th>Sex</th>\n",
       "      <th>Age</th>\n",
       "      <th>SibSp</th>\n",
       "      <th>Parch</th>\n",
       "      <th>Ticket</th>\n",
       "      <th>Fare</th>\n",
       "      <th>Cabin</th>\n",
       "      <th>Embarked</th>\n",
       "    </tr>\n",
       "  </thead>\n",
       "  <tbody>\n",
       "    <tr>\n",
       "      <th>0</th>\n",
       "      <td>892</td>\n",
       "      <td>3</td>\n",
       "      <td>Kelly, Mr. James</td>\n",
       "      <td>male</td>\n",
       "      <td>34.5</td>\n",
       "      <td>0</td>\n",
       "      <td>0</td>\n",
       "      <td>330911</td>\n",
       "      <td>7.8292</td>\n",
       "      <td>NaN</td>\n",
       "      <td>Q</td>\n",
       "    </tr>\n",
       "    <tr>\n",
       "      <th>1</th>\n",
       "      <td>893</td>\n",
       "      <td>3</td>\n",
       "      <td>Wilkes, Mrs. James (Ellen Needs)</td>\n",
       "      <td>female</td>\n",
       "      <td>47.0</td>\n",
       "      <td>1</td>\n",
       "      <td>0</td>\n",
       "      <td>363272</td>\n",
       "      <td>7.0000</td>\n",
       "      <td>NaN</td>\n",
       "      <td>S</td>\n",
       "    </tr>\n",
       "    <tr>\n",
       "      <th>2</th>\n",
       "      <td>894</td>\n",
       "      <td>2</td>\n",
       "      <td>Myles, Mr. Thomas Francis</td>\n",
       "      <td>male</td>\n",
       "      <td>62.0</td>\n",
       "      <td>0</td>\n",
       "      <td>0</td>\n",
       "      <td>240276</td>\n",
       "      <td>9.6875</td>\n",
       "      <td>NaN</td>\n",
       "      <td>Q</td>\n",
       "    </tr>\n",
       "    <tr>\n",
       "      <th>3</th>\n",
       "      <td>895</td>\n",
       "      <td>3</td>\n",
       "      <td>Wirz, Mr. Albert</td>\n",
       "      <td>male</td>\n",
       "      <td>27.0</td>\n",
       "      <td>0</td>\n",
       "      <td>0</td>\n",
       "      <td>315154</td>\n",
       "      <td>8.6625</td>\n",
       "      <td>NaN</td>\n",
       "      <td>S</td>\n",
       "    </tr>\n",
       "    <tr>\n",
       "      <th>4</th>\n",
       "      <td>896</td>\n",
       "      <td>3</td>\n",
       "      <td>Hirvonen, Mrs. Alexander (Helga E Lindqvist)</td>\n",
       "      <td>female</td>\n",
       "      <td>22.0</td>\n",
       "      <td>1</td>\n",
       "      <td>1</td>\n",
       "      <td>3101298</td>\n",
       "      <td>12.2875</td>\n",
       "      <td>NaN</td>\n",
       "      <td>S</td>\n",
       "    </tr>\n",
       "  </tbody>\n",
       "</table>\n",
       "</div>"
      ],
      "text/plain": [
       "   PassengerId  Pclass                                          Name     Sex  \\\n",
       "0          892       3                              Kelly, Mr. James    male   \n",
       "1          893       3              Wilkes, Mrs. James (Ellen Needs)  female   \n",
       "2          894       2                     Myles, Mr. Thomas Francis    male   \n",
       "3          895       3                              Wirz, Mr. Albert    male   \n",
       "4          896       3  Hirvonen, Mrs. Alexander (Helga E Lindqvist)  female   \n",
       "\n",
       "    Age  SibSp  Parch   Ticket     Fare Cabin Embarked  \n",
       "0  34.5      0      0   330911   7.8292   NaN        Q  \n",
       "1  47.0      1      0   363272   7.0000   NaN        S  \n",
       "2  62.0      0      0   240276   9.6875   NaN        Q  \n",
       "3  27.0      0      0   315154   8.6625   NaN        S  \n",
       "4  22.0      1      1  3101298  12.2875   NaN        S  "
      ]
     },
     "execution_count": 6,
     "metadata": {},
     "output_type": "execute_result"
    }
   ],
   "source": [
    "df_test.head()"
   ]
  },
  {
   "cell_type": "markdown",
   "id": "a7e56b08",
   "metadata": {
    "papermill": {
     "duration": 0.036883,
     "end_time": "2022-10-24T17:15:51.783715",
     "exception": false,
     "start_time": "2022-10-24T17:15:51.746832",
     "status": "completed"
    },
    "tags": []
   },
   "source": [
    " <h1 style=\"background-color:#ccccff\n",
    ";font-family:newtimeroman;font-size:250%;text-align:left;border-radius: 15px 15px;\">                    Explotary data analysis\n",
    " </h1> <a id=1.1></a> "
   ]
  },
  {
   "cell_type": "markdown",
   "id": "871d9f91",
   "metadata": {
    "papermill": {
     "duration": 0.038125,
     "end_time": "2022-10-24T17:15:51.859348",
     "exception": false,
     "start_time": "2022-10-24T17:15:51.821223",
     "status": "completed"
    },
    "tags": []
   },
   "source": [
    "#### - First at all we will merge the df_trian and df_test to make EDA faster "
   ]
  },
  {
   "cell_type": "markdown",
   "id": "20d9b5d2",
   "metadata": {
    "papermill": {
     "duration": 0.036472,
     "end_time": "2022-10-24T17:15:51.932545",
     "exception": false,
     "start_time": "2022-10-24T17:15:51.896073",
     "status": "completed"
    },
    "tags": []
   },
   "source": [
    "#### - Data quality assessment"
   ]
  },
  {
   "cell_type": "code",
   "execution_count": 7,
   "id": "eb0dbfbf",
   "metadata": {
    "execution": {
     "iopub.execute_input": "2022-10-24T17:15:52.007691Z",
     "iopub.status.busy": "2022-10-24T17:15:52.007345Z",
     "iopub.status.idle": "2022-10-24T17:15:52.020042Z",
     "shell.execute_reply": "2022-10-24T17:15:52.019326Z"
    },
    "papermill": {
     "duration": 0.053013,
     "end_time": "2022-10-24T17:15:52.022179",
     "exception": false,
     "start_time": "2022-10-24T17:15:51.969166",
     "status": "completed"
    },
    "tags": []
   },
   "outputs": [],
   "source": [
    "df =  pd.concat(objs=[df_train, df_test], axis=0).reset_index(drop=True)"
   ]
  },
  {
   "cell_type": "code",
   "execution_count": 8,
   "id": "a58e6d31",
   "metadata": {
    "execution": {
     "iopub.execute_input": "2022-10-24T17:15:52.098616Z",
     "iopub.status.busy": "2022-10-24T17:15:52.097865Z",
     "iopub.status.idle": "2022-10-24T17:15:52.105842Z",
     "shell.execute_reply": "2022-10-24T17:15:52.104846Z"
    },
    "papermill": {
     "duration": 0.048676,
     "end_time": "2022-10-24T17:15:52.108218",
     "exception": false,
     "start_time": "2022-10-24T17:15:52.059542",
     "status": "completed"
    },
    "tags": []
   },
   "outputs": [
    {
     "data": {
      "text/plain": [
       "PassengerId       0\n",
       "Survived        418\n",
       "Pclass            0\n",
       "Name              0\n",
       "Sex               0\n",
       "Age             263\n",
       "SibSp             0\n",
       "Parch             0\n",
       "Ticket            0\n",
       "Fare              1\n",
       "Cabin          1014\n",
       "Embarked          2\n",
       "dtype: int64"
      ]
     },
     "execution_count": 8,
     "metadata": {},
     "output_type": "execute_result"
    }
   ],
   "source": [
    "df.isna().sum()"
   ]
  },
  {
   "cell_type": "code",
   "execution_count": 9,
   "id": "b8ea4445",
   "metadata": {
    "execution": {
     "iopub.execute_input": "2022-10-24T17:15:52.202761Z",
     "iopub.status.busy": "2022-10-24T17:15:52.201874Z",
     "iopub.status.idle": "2022-10-24T17:15:52.217965Z",
     "shell.execute_reply": "2022-10-24T17:15:52.217285Z"
    },
    "papermill": {
     "duration": 0.06672,
     "end_time": "2022-10-24T17:15:52.219682",
     "exception": false,
     "start_time": "2022-10-24T17:15:52.152962",
     "status": "completed"
    },
    "tags": []
   },
   "outputs": [
    {
     "data": {
      "text/html": [
       "<div>\n",
       "<style scoped>\n",
       "    .dataframe tbody tr th:only-of-type {\n",
       "        vertical-align: middle;\n",
       "    }\n",
       "\n",
       "    .dataframe tbody tr th {\n",
       "        vertical-align: top;\n",
       "    }\n",
       "\n",
       "    .dataframe thead th {\n",
       "        text-align: right;\n",
       "    }\n",
       "</style>\n",
       "<table border=\"1\" class=\"dataframe\">\n",
       "  <thead>\n",
       "    <tr style=\"text-align: right;\">\n",
       "      <th></th>\n",
       "      <th>PassengerId</th>\n",
       "      <th>Survived</th>\n",
       "      <th>Pclass</th>\n",
       "      <th>Name</th>\n",
       "      <th>Sex</th>\n",
       "      <th>Age</th>\n",
       "      <th>SibSp</th>\n",
       "      <th>Parch</th>\n",
       "      <th>Ticket</th>\n",
       "      <th>Fare</th>\n",
       "      <th>Cabin</th>\n",
       "      <th>Embarked</th>\n",
       "    </tr>\n",
       "  </thead>\n",
       "  <tbody>\n",
       "    <tr>\n",
       "      <th>0</th>\n",
       "      <td>1</td>\n",
       "      <td>0.0</td>\n",
       "      <td>3</td>\n",
       "      <td>Braund, Mr. Owen Harris</td>\n",
       "      <td>male</td>\n",
       "      <td>22.0</td>\n",
       "      <td>1</td>\n",
       "      <td>0</td>\n",
       "      <td>A/5 21171</td>\n",
       "      <td>7.2500</td>\n",
       "      <td>NaN</td>\n",
       "      <td>S</td>\n",
       "    </tr>\n",
       "    <tr>\n",
       "      <th>1</th>\n",
       "      <td>2</td>\n",
       "      <td>1.0</td>\n",
       "      <td>1</td>\n",
       "      <td>Cumings, Mrs. John Bradley (Florence Briggs Th...</td>\n",
       "      <td>female</td>\n",
       "      <td>38.0</td>\n",
       "      <td>1</td>\n",
       "      <td>0</td>\n",
       "      <td>PC 17599</td>\n",
       "      <td>71.2833</td>\n",
       "      <td>C85</td>\n",
       "      <td>C</td>\n",
       "    </tr>\n",
       "    <tr>\n",
       "      <th>2</th>\n",
       "      <td>3</td>\n",
       "      <td>1.0</td>\n",
       "      <td>3</td>\n",
       "      <td>Heikkinen, Miss. Laina</td>\n",
       "      <td>female</td>\n",
       "      <td>26.0</td>\n",
       "      <td>0</td>\n",
       "      <td>0</td>\n",
       "      <td>STON/O2. 3101282</td>\n",
       "      <td>7.9250</td>\n",
       "      <td>NaN</td>\n",
       "      <td>S</td>\n",
       "    </tr>\n",
       "    <tr>\n",
       "      <th>3</th>\n",
       "      <td>4</td>\n",
       "      <td>1.0</td>\n",
       "      <td>1</td>\n",
       "      <td>Futrelle, Mrs. Jacques Heath (Lily May Peel)</td>\n",
       "      <td>female</td>\n",
       "      <td>35.0</td>\n",
       "      <td>1</td>\n",
       "      <td>0</td>\n",
       "      <td>113803</td>\n",
       "      <td>53.1000</td>\n",
       "      <td>C123</td>\n",
       "      <td>S</td>\n",
       "    </tr>\n",
       "    <tr>\n",
       "      <th>4</th>\n",
       "      <td>5</td>\n",
       "      <td>0.0</td>\n",
       "      <td>3</td>\n",
       "      <td>Allen, Mr. William Henry</td>\n",
       "      <td>male</td>\n",
       "      <td>35.0</td>\n",
       "      <td>0</td>\n",
       "      <td>0</td>\n",
       "      <td>373450</td>\n",
       "      <td>8.0500</td>\n",
       "      <td>NaN</td>\n",
       "      <td>S</td>\n",
       "    </tr>\n",
       "  </tbody>\n",
       "</table>\n",
       "</div>"
      ],
      "text/plain": [
       "   PassengerId  Survived  Pclass  \\\n",
       "0            1       0.0       3   \n",
       "1            2       1.0       1   \n",
       "2            3       1.0       3   \n",
       "3            4       1.0       1   \n",
       "4            5       0.0       3   \n",
       "\n",
       "                                                Name     Sex   Age  SibSp  \\\n",
       "0                            Braund, Mr. Owen Harris    male  22.0      1   \n",
       "1  Cumings, Mrs. John Bradley (Florence Briggs Th...  female  38.0      1   \n",
       "2                             Heikkinen, Miss. Laina  female  26.0      0   \n",
       "3       Futrelle, Mrs. Jacques Heath (Lily May Peel)  female  35.0      1   \n",
       "4                           Allen, Mr. William Henry    male  35.0      0   \n",
       "\n",
       "   Parch            Ticket     Fare Cabin Embarked  \n",
       "0      0         A/5 21171   7.2500   NaN        S  \n",
       "1      0          PC 17599  71.2833   C85        C  \n",
       "2      0  STON/O2. 3101282   7.9250   NaN        S  \n",
       "3      0            113803  53.1000  C123        S  \n",
       "4      0            373450   8.0500   NaN        S  "
      ]
     },
     "execution_count": 9,
     "metadata": {},
     "output_type": "execute_result"
    }
   ],
   "source": [
    "df.head()"
   ]
  },
  {
   "cell_type": "code",
   "execution_count": 10,
   "id": "cfe8c6b9",
   "metadata": {
    "execution": {
     "iopub.execute_input": "2022-10-24T17:15:52.297400Z",
     "iopub.status.busy": "2022-10-24T17:15:52.296793Z",
     "iopub.status.idle": "2022-10-24T17:15:52.310463Z",
     "shell.execute_reply": "2022-10-24T17:15:52.309693Z"
    },
    "papermill": {
     "duration": 0.0546,
     "end_time": "2022-10-24T17:15:52.312248",
     "exception": false,
     "start_time": "2022-10-24T17:15:52.257648",
     "status": "completed"
    },
    "tags": []
   },
   "outputs": [
    {
     "data": {
      "text/html": [
       "<div>\n",
       "<style scoped>\n",
       "    .dataframe tbody tr th:only-of-type {\n",
       "        vertical-align: middle;\n",
       "    }\n",
       "\n",
       "    .dataframe tbody tr th {\n",
       "        vertical-align: top;\n",
       "    }\n",
       "\n",
       "    .dataframe thead th {\n",
       "        text-align: right;\n",
       "    }\n",
       "</style>\n",
       "<table border=\"1\" class=\"dataframe\">\n",
       "  <thead>\n",
       "    <tr style=\"text-align: right;\">\n",
       "      <th></th>\n",
       "      <th>PassengerId</th>\n",
       "      <th>Survived</th>\n",
       "      <th>Pclass</th>\n",
       "      <th>Name</th>\n",
       "      <th>Sex</th>\n",
       "      <th>Age</th>\n",
       "      <th>SibSp</th>\n",
       "      <th>Parch</th>\n",
       "      <th>Ticket</th>\n",
       "      <th>Fare</th>\n",
       "      <th>Cabin</th>\n",
       "      <th>Embarked</th>\n",
       "    </tr>\n",
       "  </thead>\n",
       "  <tbody>\n",
       "    <tr>\n",
       "      <th>1304</th>\n",
       "      <td>1305</td>\n",
       "      <td>NaN</td>\n",
       "      <td>3</td>\n",
       "      <td>Spector, Mr. Woolf</td>\n",
       "      <td>male</td>\n",
       "      <td>NaN</td>\n",
       "      <td>0</td>\n",
       "      <td>0</td>\n",
       "      <td>A.5. 3236</td>\n",
       "      <td>8.0500</td>\n",
       "      <td>NaN</td>\n",
       "      <td>S</td>\n",
       "    </tr>\n",
       "    <tr>\n",
       "      <th>1305</th>\n",
       "      <td>1306</td>\n",
       "      <td>NaN</td>\n",
       "      <td>1</td>\n",
       "      <td>Oliva y Ocana, Dona. Fermina</td>\n",
       "      <td>female</td>\n",
       "      <td>39.0</td>\n",
       "      <td>0</td>\n",
       "      <td>0</td>\n",
       "      <td>PC 17758</td>\n",
       "      <td>108.9000</td>\n",
       "      <td>C105</td>\n",
       "      <td>C</td>\n",
       "    </tr>\n",
       "    <tr>\n",
       "      <th>1306</th>\n",
       "      <td>1307</td>\n",
       "      <td>NaN</td>\n",
       "      <td>3</td>\n",
       "      <td>Saether, Mr. Simon Sivertsen</td>\n",
       "      <td>male</td>\n",
       "      <td>38.5</td>\n",
       "      <td>0</td>\n",
       "      <td>0</td>\n",
       "      <td>SOTON/O.Q. 3101262</td>\n",
       "      <td>7.2500</td>\n",
       "      <td>NaN</td>\n",
       "      <td>S</td>\n",
       "    </tr>\n",
       "    <tr>\n",
       "      <th>1307</th>\n",
       "      <td>1308</td>\n",
       "      <td>NaN</td>\n",
       "      <td>3</td>\n",
       "      <td>Ware, Mr. Frederick</td>\n",
       "      <td>male</td>\n",
       "      <td>NaN</td>\n",
       "      <td>0</td>\n",
       "      <td>0</td>\n",
       "      <td>359309</td>\n",
       "      <td>8.0500</td>\n",
       "      <td>NaN</td>\n",
       "      <td>S</td>\n",
       "    </tr>\n",
       "    <tr>\n",
       "      <th>1308</th>\n",
       "      <td>1309</td>\n",
       "      <td>NaN</td>\n",
       "      <td>3</td>\n",
       "      <td>Peter, Master. Michael J</td>\n",
       "      <td>male</td>\n",
       "      <td>NaN</td>\n",
       "      <td>1</td>\n",
       "      <td>1</td>\n",
       "      <td>2668</td>\n",
       "      <td>22.3583</td>\n",
       "      <td>NaN</td>\n",
       "      <td>C</td>\n",
       "    </tr>\n",
       "  </tbody>\n",
       "</table>\n",
       "</div>"
      ],
      "text/plain": [
       "      PassengerId  Survived  Pclass                          Name     Sex  \\\n",
       "1304         1305       NaN       3            Spector, Mr. Woolf    male   \n",
       "1305         1306       NaN       1  Oliva y Ocana, Dona. Fermina  female   \n",
       "1306         1307       NaN       3  Saether, Mr. Simon Sivertsen    male   \n",
       "1307         1308       NaN       3           Ware, Mr. Frederick    male   \n",
       "1308         1309       NaN       3      Peter, Master. Michael J    male   \n",
       "\n",
       "       Age  SibSp  Parch              Ticket      Fare Cabin Embarked  \n",
       "1304   NaN      0      0           A.5. 3236    8.0500   NaN        S  \n",
       "1305  39.0      0      0            PC 17758  108.9000  C105        C  \n",
       "1306  38.5      0      0  SOTON/O.Q. 3101262    7.2500   NaN        S  \n",
       "1307   NaN      0      0              359309    8.0500   NaN        S  \n",
       "1308   NaN      1      1                2668   22.3583   NaN        C  "
      ]
     },
     "execution_count": 10,
     "metadata": {},
     "output_type": "execute_result"
    }
   ],
   "source": [
    "df.tail()"
   ]
  },
  {
   "cell_type": "code",
   "execution_count": 11,
   "id": "936de47b",
   "metadata": {
    "execution": {
     "iopub.execute_input": "2022-10-24T17:15:52.389452Z",
     "iopub.status.busy": "2022-10-24T17:15:52.388897Z",
     "iopub.status.idle": "2022-10-24T17:15:52.394205Z",
     "shell.execute_reply": "2022-10-24T17:15:52.393084Z"
    },
    "papermill": {
     "duration": 0.045705,
     "end_time": "2022-10-24T17:15:52.395968",
     "exception": false,
     "start_time": "2022-10-24T17:15:52.350263",
     "status": "completed"
    },
    "tags": []
   },
   "outputs": [
    {
     "data": {
      "text/plain": [
       "(1309, 12)"
      ]
     },
     "execution_count": 11,
     "metadata": {},
     "output_type": "execute_result"
    }
   ],
   "source": [
    "df.shape"
   ]
  },
  {
   "cell_type": "code",
   "execution_count": 12,
   "id": "aeaf2c30",
   "metadata": {
    "execution": {
     "iopub.execute_input": "2022-10-24T17:15:52.473236Z",
     "iopub.status.busy": "2022-10-24T17:15:52.472861Z",
     "iopub.status.idle": "2022-10-24T17:15:52.494452Z",
     "shell.execute_reply": "2022-10-24T17:15:52.493339Z"
    },
    "papermill": {
     "duration": 0.06231,
     "end_time": "2022-10-24T17:15:52.496518",
     "exception": false,
     "start_time": "2022-10-24T17:15:52.434208",
     "status": "completed"
    },
    "tags": []
   },
   "outputs": [
    {
     "name": "stdout",
     "output_type": "stream",
     "text": [
      "<class 'pandas.core.frame.DataFrame'>\n",
      "RangeIndex: 1309 entries, 0 to 1308\n",
      "Data columns (total 12 columns):\n",
      " #   Column       Non-Null Count  Dtype  \n",
      "---  ------       --------------  -----  \n",
      " 0   PassengerId  1309 non-null   int64  \n",
      " 1   Survived     891 non-null    float64\n",
      " 2   Pclass       1309 non-null   int64  \n",
      " 3   Name         1309 non-null   object \n",
      " 4   Sex          1309 non-null   object \n",
      " 5   Age          1046 non-null   float64\n",
      " 6   SibSp        1309 non-null   int64  \n",
      " 7   Parch        1309 non-null   int64  \n",
      " 8   Ticket       1309 non-null   object \n",
      " 9   Fare         1308 non-null   float64\n",
      " 10  Cabin        295 non-null    object \n",
      " 11  Embarked     1307 non-null   object \n",
      "dtypes: float64(3), int64(4), object(5)\n",
      "memory usage: 122.8+ KB\n"
     ]
    }
   ],
   "source": [
    "df.info()"
   ]
  },
  {
   "cell_type": "code",
   "execution_count": 13,
   "id": "be25682a",
   "metadata": {
    "execution": {
     "iopub.execute_input": "2022-10-24T17:15:52.573668Z",
     "iopub.status.busy": "2022-10-24T17:15:52.573265Z",
     "iopub.status.idle": "2022-10-24T17:15:52.579962Z",
     "shell.execute_reply": "2022-10-24T17:15:52.579086Z"
    },
    "papermill": {
     "duration": 0.047203,
     "end_time": "2022-10-24T17:15:52.581630",
     "exception": false,
     "start_time": "2022-10-24T17:15:52.534427",
     "status": "completed"
    },
    "tags": []
   },
   "outputs": [
    {
     "data": {
      "text/plain": [
       "Index(['PassengerId', 'Survived', 'Pclass', 'Name', 'Sex', 'Age', 'SibSp',\n",
       "       'Parch', 'Ticket', 'Fare', 'Cabin', 'Embarked'],\n",
       "      dtype='object')"
      ]
     },
     "execution_count": 13,
     "metadata": {},
     "output_type": "execute_result"
    }
   ],
   "source": [
    "df.columns"
   ]
  },
  {
   "cell_type": "code",
   "execution_count": 14,
   "id": "885f3c54",
   "metadata": {
    "execution": {
     "iopub.execute_input": "2022-10-24T17:15:52.662661Z",
     "iopub.status.busy": "2022-10-24T17:15:52.661742Z",
     "iopub.status.idle": "2022-10-24T17:15:52.691993Z",
     "shell.execute_reply": "2022-10-24T17:15:52.691082Z"
    },
    "papermill": {
     "duration": 0.073539,
     "end_time": "2022-10-24T17:15:52.694721",
     "exception": false,
     "start_time": "2022-10-24T17:15:52.621182",
     "status": "completed"
    },
    "tags": []
   },
   "outputs": [
    {
     "data": {
      "text/html": [
       "<div>\n",
       "<style scoped>\n",
       "    .dataframe tbody tr th:only-of-type {\n",
       "        vertical-align: middle;\n",
       "    }\n",
       "\n",
       "    .dataframe tbody tr th {\n",
       "        vertical-align: top;\n",
       "    }\n",
       "\n",
       "    .dataframe thead th {\n",
       "        text-align: right;\n",
       "    }\n",
       "</style>\n",
       "<table border=\"1\" class=\"dataframe\">\n",
       "  <thead>\n",
       "    <tr style=\"text-align: right;\">\n",
       "      <th></th>\n",
       "      <th>PassengerId</th>\n",
       "      <th>Survived</th>\n",
       "      <th>Pclass</th>\n",
       "      <th>Age</th>\n",
       "      <th>SibSp</th>\n",
       "      <th>Parch</th>\n",
       "      <th>Fare</th>\n",
       "    </tr>\n",
       "  </thead>\n",
       "  <tbody>\n",
       "    <tr>\n",
       "      <th>count</th>\n",
       "      <td>1309.000000</td>\n",
       "      <td>891.000000</td>\n",
       "      <td>1309.000000</td>\n",
       "      <td>1046.000000</td>\n",
       "      <td>1309.000000</td>\n",
       "      <td>1309.000000</td>\n",
       "      <td>1308.000000</td>\n",
       "    </tr>\n",
       "    <tr>\n",
       "      <th>mean</th>\n",
       "      <td>655.000000</td>\n",
       "      <td>0.383838</td>\n",
       "      <td>2.294882</td>\n",
       "      <td>29.881138</td>\n",
       "      <td>0.498854</td>\n",
       "      <td>0.385027</td>\n",
       "      <td>33.295479</td>\n",
       "    </tr>\n",
       "    <tr>\n",
       "      <th>std</th>\n",
       "      <td>378.020061</td>\n",
       "      <td>0.486592</td>\n",
       "      <td>0.837836</td>\n",
       "      <td>14.413493</td>\n",
       "      <td>1.041658</td>\n",
       "      <td>0.865560</td>\n",
       "      <td>51.758668</td>\n",
       "    </tr>\n",
       "    <tr>\n",
       "      <th>min</th>\n",
       "      <td>1.000000</td>\n",
       "      <td>0.000000</td>\n",
       "      <td>1.000000</td>\n",
       "      <td>0.170000</td>\n",
       "      <td>0.000000</td>\n",
       "      <td>0.000000</td>\n",
       "      <td>0.000000</td>\n",
       "    </tr>\n",
       "    <tr>\n",
       "      <th>25%</th>\n",
       "      <td>328.000000</td>\n",
       "      <td>0.000000</td>\n",
       "      <td>2.000000</td>\n",
       "      <td>21.000000</td>\n",
       "      <td>0.000000</td>\n",
       "      <td>0.000000</td>\n",
       "      <td>7.895800</td>\n",
       "    </tr>\n",
       "    <tr>\n",
       "      <th>50%</th>\n",
       "      <td>655.000000</td>\n",
       "      <td>0.000000</td>\n",
       "      <td>3.000000</td>\n",
       "      <td>28.000000</td>\n",
       "      <td>0.000000</td>\n",
       "      <td>0.000000</td>\n",
       "      <td>14.454200</td>\n",
       "    </tr>\n",
       "    <tr>\n",
       "      <th>75%</th>\n",
       "      <td>982.000000</td>\n",
       "      <td>1.000000</td>\n",
       "      <td>3.000000</td>\n",
       "      <td>39.000000</td>\n",
       "      <td>1.000000</td>\n",
       "      <td>0.000000</td>\n",
       "      <td>31.275000</td>\n",
       "    </tr>\n",
       "    <tr>\n",
       "      <th>max</th>\n",
       "      <td>1309.000000</td>\n",
       "      <td>1.000000</td>\n",
       "      <td>3.000000</td>\n",
       "      <td>80.000000</td>\n",
       "      <td>8.000000</td>\n",
       "      <td>9.000000</td>\n",
       "      <td>512.329200</td>\n",
       "    </tr>\n",
       "  </tbody>\n",
       "</table>\n",
       "</div>"
      ],
      "text/plain": [
       "       PassengerId    Survived       Pclass          Age        SibSp  \\\n",
       "count  1309.000000  891.000000  1309.000000  1046.000000  1309.000000   \n",
       "mean    655.000000    0.383838     2.294882    29.881138     0.498854   \n",
       "std     378.020061    0.486592     0.837836    14.413493     1.041658   \n",
       "min       1.000000    0.000000     1.000000     0.170000     0.000000   \n",
       "25%     328.000000    0.000000     2.000000    21.000000     0.000000   \n",
       "50%     655.000000    0.000000     3.000000    28.000000     0.000000   \n",
       "75%     982.000000    1.000000     3.000000    39.000000     1.000000   \n",
       "max    1309.000000    1.000000     3.000000    80.000000     8.000000   \n",
       "\n",
       "             Parch         Fare  \n",
       "count  1309.000000  1308.000000  \n",
       "mean      0.385027    33.295479  \n",
       "std       0.865560    51.758668  \n",
       "min       0.000000     0.000000  \n",
       "25%       0.000000     7.895800  \n",
       "50%       0.000000    14.454200  \n",
       "75%       0.000000    31.275000  \n",
       "max       9.000000   512.329200  "
      ]
     },
     "execution_count": 14,
     "metadata": {},
     "output_type": "execute_result"
    }
   ],
   "source": [
    "df.describe()"
   ]
  },
  {
   "cell_type": "code",
   "execution_count": 15,
   "id": "fac7342b",
   "metadata": {
    "execution": {
     "iopub.execute_input": "2022-10-24T17:15:52.774269Z",
     "iopub.status.busy": "2022-10-24T17:15:52.773913Z",
     "iopub.status.idle": "2022-10-24T17:15:52.792738Z",
     "shell.execute_reply": "2022-10-24T17:15:52.792039Z"
    },
    "papermill": {
     "duration": 0.060542,
     "end_time": "2022-10-24T17:15:52.794725",
     "exception": false,
     "start_time": "2022-10-24T17:15:52.734183",
     "status": "completed"
    },
    "tags": []
   },
   "outputs": [
    {
     "data": {
      "text/html": [
       "<div>\n",
       "<style scoped>\n",
       "    .dataframe tbody tr th:only-of-type {\n",
       "        vertical-align: middle;\n",
       "    }\n",
       "\n",
       "    .dataframe tbody tr th {\n",
       "        vertical-align: top;\n",
       "    }\n",
       "\n",
       "    .dataframe thead th {\n",
       "        text-align: right;\n",
       "    }\n",
       "</style>\n",
       "<table border=\"1\" class=\"dataframe\">\n",
       "  <thead>\n",
       "    <tr style=\"text-align: right;\">\n",
       "      <th></th>\n",
       "      <th>Name</th>\n",
       "      <th>Sex</th>\n",
       "      <th>Ticket</th>\n",
       "      <th>Cabin</th>\n",
       "      <th>Embarked</th>\n",
       "    </tr>\n",
       "  </thead>\n",
       "  <tbody>\n",
       "    <tr>\n",
       "      <th>count</th>\n",
       "      <td>1309</td>\n",
       "      <td>1309</td>\n",
       "      <td>1309</td>\n",
       "      <td>295</td>\n",
       "      <td>1307</td>\n",
       "    </tr>\n",
       "    <tr>\n",
       "      <th>unique</th>\n",
       "      <td>1307</td>\n",
       "      <td>2</td>\n",
       "      <td>929</td>\n",
       "      <td>186</td>\n",
       "      <td>3</td>\n",
       "    </tr>\n",
       "    <tr>\n",
       "      <th>top</th>\n",
       "      <td>Connolly, Miss. Kate</td>\n",
       "      <td>male</td>\n",
       "      <td>CA. 2343</td>\n",
       "      <td>C23 C25 C27</td>\n",
       "      <td>S</td>\n",
       "    </tr>\n",
       "    <tr>\n",
       "      <th>freq</th>\n",
       "      <td>2</td>\n",
       "      <td>843</td>\n",
       "      <td>11</td>\n",
       "      <td>6</td>\n",
       "      <td>914</td>\n",
       "    </tr>\n",
       "  </tbody>\n",
       "</table>\n",
       "</div>"
      ],
      "text/plain": [
       "                        Name   Sex    Ticket        Cabin Embarked\n",
       "count                   1309  1309      1309          295     1307\n",
       "unique                  1307     2       929          186        3\n",
       "top     Connolly, Miss. Kate  male  CA. 2343  C23 C25 C27        S\n",
       "freq                       2   843        11            6      914"
      ]
     },
     "execution_count": 15,
     "metadata": {},
     "output_type": "execute_result"
    }
   ],
   "source": [
    "df.describe(include=['O'])"
   ]
  },
  {
   "cell_type": "code",
   "execution_count": 16,
   "id": "188a91fd",
   "metadata": {
    "execution": {
     "iopub.execute_input": "2022-10-24T17:15:52.872914Z",
     "iopub.status.busy": "2022-10-24T17:15:52.872585Z",
     "iopub.status.idle": "2022-10-24T17:15:52.911901Z",
     "shell.execute_reply": "2022-10-24T17:15:52.910651Z"
    },
    "papermill": {
     "duration": 0.081097,
     "end_time": "2022-10-24T17:15:52.914242",
     "exception": false,
     "start_time": "2022-10-24T17:15:52.833145",
     "status": "completed"
    },
    "tags": []
   },
   "outputs": [
    {
     "data": {
      "text/html": [
       "<div>\n",
       "<style scoped>\n",
       "    .dataframe tbody tr th:only-of-type {\n",
       "        vertical-align: middle;\n",
       "    }\n",
       "\n",
       "    .dataframe tbody tr th {\n",
       "        vertical-align: top;\n",
       "    }\n",
       "\n",
       "    .dataframe thead th {\n",
       "        text-align: right;\n",
       "    }\n",
       "</style>\n",
       "<table border=\"1\" class=\"dataframe\">\n",
       "  <thead>\n",
       "    <tr style=\"text-align: right;\">\n",
       "      <th></th>\n",
       "      <th>PassengerId</th>\n",
       "      <th>Survived</th>\n",
       "      <th>Pclass</th>\n",
       "      <th>Name</th>\n",
       "      <th>Sex</th>\n",
       "      <th>Age</th>\n",
       "      <th>SibSp</th>\n",
       "      <th>Parch</th>\n",
       "      <th>Ticket</th>\n",
       "      <th>Fare</th>\n",
       "      <th>Cabin</th>\n",
       "      <th>Embarked</th>\n",
       "    </tr>\n",
       "  </thead>\n",
       "  <tbody>\n",
       "    <tr>\n",
       "      <th>count</th>\n",
       "      <td>1309.000000</td>\n",
       "      <td>891.000000</td>\n",
       "      <td>1309.000000</td>\n",
       "      <td>1309</td>\n",
       "      <td>1309</td>\n",
       "      <td>1046.000000</td>\n",
       "      <td>1309.000000</td>\n",
       "      <td>1309.000000</td>\n",
       "      <td>1309</td>\n",
       "      <td>1308.000000</td>\n",
       "      <td>295</td>\n",
       "      <td>1307</td>\n",
       "    </tr>\n",
       "    <tr>\n",
       "      <th>unique</th>\n",
       "      <td>NaN</td>\n",
       "      <td>NaN</td>\n",
       "      <td>NaN</td>\n",
       "      <td>1307</td>\n",
       "      <td>2</td>\n",
       "      <td>NaN</td>\n",
       "      <td>NaN</td>\n",
       "      <td>NaN</td>\n",
       "      <td>929</td>\n",
       "      <td>NaN</td>\n",
       "      <td>186</td>\n",
       "      <td>3</td>\n",
       "    </tr>\n",
       "    <tr>\n",
       "      <th>top</th>\n",
       "      <td>NaN</td>\n",
       "      <td>NaN</td>\n",
       "      <td>NaN</td>\n",
       "      <td>Connolly, Miss. Kate</td>\n",
       "      <td>male</td>\n",
       "      <td>NaN</td>\n",
       "      <td>NaN</td>\n",
       "      <td>NaN</td>\n",
       "      <td>CA. 2343</td>\n",
       "      <td>NaN</td>\n",
       "      <td>C23 C25 C27</td>\n",
       "      <td>S</td>\n",
       "    </tr>\n",
       "    <tr>\n",
       "      <th>freq</th>\n",
       "      <td>NaN</td>\n",
       "      <td>NaN</td>\n",
       "      <td>NaN</td>\n",
       "      <td>2</td>\n",
       "      <td>843</td>\n",
       "      <td>NaN</td>\n",
       "      <td>NaN</td>\n",
       "      <td>NaN</td>\n",
       "      <td>11</td>\n",
       "      <td>NaN</td>\n",
       "      <td>6</td>\n",
       "      <td>914</td>\n",
       "    </tr>\n",
       "    <tr>\n",
       "      <th>mean</th>\n",
       "      <td>655.000000</td>\n",
       "      <td>0.383838</td>\n",
       "      <td>2.294882</td>\n",
       "      <td>NaN</td>\n",
       "      <td>NaN</td>\n",
       "      <td>29.881138</td>\n",
       "      <td>0.498854</td>\n",
       "      <td>0.385027</td>\n",
       "      <td>NaN</td>\n",
       "      <td>33.295479</td>\n",
       "      <td>NaN</td>\n",
       "      <td>NaN</td>\n",
       "    </tr>\n",
       "    <tr>\n",
       "      <th>std</th>\n",
       "      <td>378.020061</td>\n",
       "      <td>0.486592</td>\n",
       "      <td>0.837836</td>\n",
       "      <td>NaN</td>\n",
       "      <td>NaN</td>\n",
       "      <td>14.413493</td>\n",
       "      <td>1.041658</td>\n",
       "      <td>0.865560</td>\n",
       "      <td>NaN</td>\n",
       "      <td>51.758668</td>\n",
       "      <td>NaN</td>\n",
       "      <td>NaN</td>\n",
       "    </tr>\n",
       "    <tr>\n",
       "      <th>min</th>\n",
       "      <td>1.000000</td>\n",
       "      <td>0.000000</td>\n",
       "      <td>1.000000</td>\n",
       "      <td>NaN</td>\n",
       "      <td>NaN</td>\n",
       "      <td>0.170000</td>\n",
       "      <td>0.000000</td>\n",
       "      <td>0.000000</td>\n",
       "      <td>NaN</td>\n",
       "      <td>0.000000</td>\n",
       "      <td>NaN</td>\n",
       "      <td>NaN</td>\n",
       "    </tr>\n",
       "    <tr>\n",
       "      <th>25%</th>\n",
       "      <td>328.000000</td>\n",
       "      <td>0.000000</td>\n",
       "      <td>2.000000</td>\n",
       "      <td>NaN</td>\n",
       "      <td>NaN</td>\n",
       "      <td>21.000000</td>\n",
       "      <td>0.000000</td>\n",
       "      <td>0.000000</td>\n",
       "      <td>NaN</td>\n",
       "      <td>7.895800</td>\n",
       "      <td>NaN</td>\n",
       "      <td>NaN</td>\n",
       "    </tr>\n",
       "    <tr>\n",
       "      <th>50%</th>\n",
       "      <td>655.000000</td>\n",
       "      <td>0.000000</td>\n",
       "      <td>3.000000</td>\n",
       "      <td>NaN</td>\n",
       "      <td>NaN</td>\n",
       "      <td>28.000000</td>\n",
       "      <td>0.000000</td>\n",
       "      <td>0.000000</td>\n",
       "      <td>NaN</td>\n",
       "      <td>14.454200</td>\n",
       "      <td>NaN</td>\n",
       "      <td>NaN</td>\n",
       "    </tr>\n",
       "    <tr>\n",
       "      <th>75%</th>\n",
       "      <td>982.000000</td>\n",
       "      <td>1.000000</td>\n",
       "      <td>3.000000</td>\n",
       "      <td>NaN</td>\n",
       "      <td>NaN</td>\n",
       "      <td>39.000000</td>\n",
       "      <td>1.000000</td>\n",
       "      <td>0.000000</td>\n",
       "      <td>NaN</td>\n",
       "      <td>31.275000</td>\n",
       "      <td>NaN</td>\n",
       "      <td>NaN</td>\n",
       "    </tr>\n",
       "    <tr>\n",
       "      <th>max</th>\n",
       "      <td>1309.000000</td>\n",
       "      <td>1.000000</td>\n",
       "      <td>3.000000</td>\n",
       "      <td>NaN</td>\n",
       "      <td>NaN</td>\n",
       "      <td>80.000000</td>\n",
       "      <td>8.000000</td>\n",
       "      <td>9.000000</td>\n",
       "      <td>NaN</td>\n",
       "      <td>512.329200</td>\n",
       "      <td>NaN</td>\n",
       "      <td>NaN</td>\n",
       "    </tr>\n",
       "  </tbody>\n",
       "</table>\n",
       "</div>"
      ],
      "text/plain": [
       "        PassengerId    Survived       Pclass                  Name   Sex  \\\n",
       "count   1309.000000  891.000000  1309.000000                  1309  1309   \n",
       "unique          NaN         NaN          NaN                  1307     2   \n",
       "top             NaN         NaN          NaN  Connolly, Miss. Kate  male   \n",
       "freq            NaN         NaN          NaN                     2   843   \n",
       "mean     655.000000    0.383838     2.294882                   NaN   NaN   \n",
       "std      378.020061    0.486592     0.837836                   NaN   NaN   \n",
       "min        1.000000    0.000000     1.000000                   NaN   NaN   \n",
       "25%      328.000000    0.000000     2.000000                   NaN   NaN   \n",
       "50%      655.000000    0.000000     3.000000                   NaN   NaN   \n",
       "75%      982.000000    1.000000     3.000000                   NaN   NaN   \n",
       "max     1309.000000    1.000000     3.000000                   NaN   NaN   \n",
       "\n",
       "                Age        SibSp        Parch    Ticket         Fare  \\\n",
       "count   1046.000000  1309.000000  1309.000000      1309  1308.000000   \n",
       "unique          NaN          NaN          NaN       929          NaN   \n",
       "top             NaN          NaN          NaN  CA. 2343          NaN   \n",
       "freq            NaN          NaN          NaN        11          NaN   \n",
       "mean      29.881138     0.498854     0.385027       NaN    33.295479   \n",
       "std       14.413493     1.041658     0.865560       NaN    51.758668   \n",
       "min        0.170000     0.000000     0.000000       NaN     0.000000   \n",
       "25%       21.000000     0.000000     0.000000       NaN     7.895800   \n",
       "50%       28.000000     0.000000     0.000000       NaN    14.454200   \n",
       "75%       39.000000     1.000000     0.000000       NaN    31.275000   \n",
       "max       80.000000     8.000000     9.000000       NaN   512.329200   \n",
       "\n",
       "              Cabin Embarked  \n",
       "count           295     1307  \n",
       "unique          186        3  \n",
       "top     C23 C25 C27        S  \n",
       "freq              6      914  \n",
       "mean            NaN      NaN  \n",
       "std             NaN      NaN  \n",
       "min             NaN      NaN  \n",
       "25%             NaN      NaN  \n",
       "50%             NaN      NaN  \n",
       "75%             NaN      NaN  \n",
       "max             NaN      NaN  "
      ]
     },
     "execution_count": 16,
     "metadata": {},
     "output_type": "execute_result"
    }
   ],
   "source": [
    "df.describe(include=\"all\")"
   ]
  },
  {
   "cell_type": "code",
   "execution_count": null,
   "id": "5e7e678c",
   "metadata": {
    "papermill": {
     "duration": 0.038346,
     "end_time": "2022-10-24T17:15:52.992227",
     "exception": false,
     "start_time": "2022-10-24T17:15:52.953881",
     "status": "completed"
    },
    "tags": []
   },
   "outputs": [],
   "source": []
  },
  {
   "cell_type": "code",
   "execution_count": 17,
   "id": "6c6f0710",
   "metadata": {
    "execution": {
     "iopub.execute_input": "2022-10-24T17:15:53.072721Z",
     "iopub.status.busy": "2022-10-24T17:15:53.072356Z",
     "iopub.status.idle": "2022-10-24T17:15:53.080584Z",
     "shell.execute_reply": "2022-10-24T17:15:53.079715Z"
    },
    "papermill": {
     "duration": 0.050372,
     "end_time": "2022-10-24T17:15:53.082213",
     "exception": false,
     "start_time": "2022-10-24T17:15:53.031841",
     "status": "completed"
    },
    "tags": []
   },
   "outputs": [
    {
     "data": {
      "text/plain": [
       "PassengerId       0\n",
       "Survived        418\n",
       "Pclass            0\n",
       "Name              0\n",
       "Sex               0\n",
       "Age             263\n",
       "SibSp             0\n",
       "Parch             0\n",
       "Ticket            0\n",
       "Fare              1\n",
       "Cabin          1014\n",
       "Embarked          2\n",
       "dtype: int64"
      ]
     },
     "execution_count": 17,
     "metadata": {},
     "output_type": "execute_result"
    }
   ],
   "source": [
    "df.isna().sum()"
   ]
  },
  {
   "cell_type": "markdown",
   "id": "7863458d",
   "metadata": {
    "papermill": {
     "duration": 0.037922,
     "end_time": "2022-10-24T17:15:53.158149",
     "exception": false,
     "start_time": "2022-10-24T17:15:53.120227",
     "status": "completed"
    },
    "tags": []
   },
   "source": [
    "### Desplay missing values"
   ]
  },
  {
   "cell_type": "code",
   "execution_count": 18,
   "id": "ea18e27d",
   "metadata": {
    "execution": {
     "iopub.execute_input": "2022-10-24T17:15:53.238046Z",
     "iopub.status.busy": "2022-10-24T17:15:53.237409Z",
     "iopub.status.idle": "2022-10-24T17:15:54.060716Z",
     "shell.execute_reply": "2022-10-24T17:15:54.059987Z"
    },
    "papermill": {
     "duration": 0.864842,
     "end_time": "2022-10-24T17:15:54.062430",
     "exception": false,
     "start_time": "2022-10-24T17:15:53.197588",
     "status": "completed"
    },
    "tags": []
   },
   "outputs": [
    {
     "data": {
      "text/plain": [
       "<AxesSubplot:>"
      ]
     },
     "execution_count": 18,
     "metadata": {},
     "output_type": "execute_result"
    },
    {
     "data": {
      "image/png": "[encoded data removed]",
      "text/plain": [
       "<Figure size 1728x720 with 3 Axes>"
      ]
     },
     "metadata": {
      "needs_background": "light"
     },
     "output_type": "display_data"
    }
   ],
   "source": [
    "msno.bar(df)"
   ]
  },
  {
   "cell_type": "code",
   "execution_count": 19,
   "id": "cb24253f",
   "metadata": {
    "execution": {
     "iopub.execute_input": "2022-10-24T17:15:54.143877Z",
     "iopub.status.busy": "2022-10-24T17:15:54.143044Z",
     "iopub.status.idle": "2022-10-24T17:15:54.445620Z",
     "shell.execute_reply": "2022-10-24T17:15:54.444381Z"
    },
    "papermill": {
     "duration": 0.34529,
     "end_time": "2022-10-24T17:15:54.447694",
     "exception": false,
     "start_time": "2022-10-24T17:15:54.102404",
     "status": "completed"
    },
    "tags": []
   },
   "outputs": [
    {
     "data": {
      "text/plain": [
       "<AxesSubplot:>"
      ]
     },
     "execution_count": 19,
     "metadata": {},
     "output_type": "execute_result"
    },
    {
     "data": {
      "image/png": "[encoded data removed]",
      "text/plain": [
       "<Figure size 1440x864 with 2 Axes>"
      ]
     },
     "metadata": {
      "needs_background": "light"
     },
     "output_type": "display_data"
    }
   ],
   "source": [
    "msno.heatmap(df)"
   ]
  },
  {
   "cell_type": "markdown",
   "id": "9e32a4f5",
   "metadata": {
    "papermill": {
     "duration": 0.040002,
     "end_time": "2022-10-24T17:15:54.528407",
     "exception": false,
     "start_time": "2022-10-24T17:15:54.488405",
     "status": "completed"
    },
    "tags": []
   },
   "source": [
    "### Data visualization "
   ]
  },
  {
   "cell_type": "markdown",
   "id": "1d46e9ee",
   "metadata": {
    "papermill": {
     "duration": 0.040267,
     "end_time": "2022-10-24T17:15:54.607337",
     "exception": false,
     "start_time": "2022-10-24T17:15:54.567070",
     "status": "completed"
    },
    "tags": []
   },
   "source": [
    "##### check the relation between feature "
   ]
  },
  {
   "cell_type": "code",
   "execution_count": 20,
   "id": "f926064d",
   "metadata": {
    "execution": {
     "iopub.execute_input": "2022-10-24T17:15:54.688273Z",
     "iopub.status.busy": "2022-10-24T17:15:54.687937Z",
     "iopub.status.idle": "2022-10-24T17:15:54.692989Z",
     "shell.execute_reply": "2022-10-24T17:15:54.692439Z"
    },
    "papermill": {
     "duration": 0.048072,
     "end_time": "2022-10-24T17:15:54.695395",
     "exception": false,
     "start_time": "2022-10-24T17:15:54.647323",
     "status": "completed"
    },
    "tags": []
   },
   "outputs": [
    {
     "data": {
      "text/plain": [
       "Index(['PassengerId', 'Survived', 'Pclass', 'Name', 'Sex', 'Age', 'SibSp',\n",
       "       'Parch', 'Ticket', 'Fare', 'Cabin', 'Embarked'],\n",
       "      dtype='object')"
      ]
     },
     "execution_count": 20,
     "metadata": {},
     "output_type": "execute_result"
    }
   ],
   "source": [
    "df.columns"
   ]
  },
  {
   "cell_type": "code",
   "execution_count": 21,
   "id": "7fa51261",
   "metadata": {
    "execution": {
     "iopub.execute_input": "2022-10-24T17:15:54.777093Z",
     "iopub.status.busy": "2022-10-24T17:15:54.776623Z",
     "iopub.status.idle": "2022-10-24T17:15:55.121651Z",
     "shell.execute_reply": "2022-10-24T17:15:55.120788Z"
    },
    "papermill": {
     "duration": 0.38811,
     "end_time": "2022-10-24T17:15:55.123555",
     "exception": false,
     "start_time": "2022-10-24T17:15:54.735445",
     "status": "completed"
    },
    "tags": []
   },
   "outputs": [
    {
     "data": {
      "image/png": "[encoded data removed]",
      "text/plain": [
       "<Figure size 864x504 with 2 Axes>"
      ]
     },
     "metadata": {
      "needs_background": "light"
     },
     "output_type": "display_data"
    }
   ],
   "source": [
    "plt.figure(figsize=(12,7))\n",
    "sns.heatmap(df.corr(),annot=True,cmap='viridis')\n",
    "plt.title(\"Correlations Between Variables\", size=17)\n",
    "plt.show()"
   ]
  },
  {
   "cell_type": "markdown",
   "id": "4bd1903e",
   "metadata": {
    "papermill": {
     "duration": 0.039918,
     "end_time": "2022-10-24T17:15:55.204338",
     "exception": false,
     "start_time": "2022-10-24T17:15:55.164420",
     "status": "completed"
    },
    "tags": []
   },
   "source": [
    "## Data visualization "
   ]
  },
  {
   "cell_type": "markdown",
   "id": "2ca54cf1",
   "metadata": {
    "papermill": {
     "duration": 0.040495,
     "end_time": "2022-10-24T17:15:55.286495",
     "exception": false,
     "start_time": "2022-10-24T17:15:55.246000",
     "status": "completed"
    },
    "tags": []
   },
   "source": [
    "#### we'll make comparison between all columns and survival column "
   ]
  },
  {
   "cell_type": "markdown",
   "id": "8d5b1e76",
   "metadata": {
    "papermill": {
     "duration": 0.041386,
     "end_time": "2022-10-24T17:15:55.368369",
     "exception": false,
     "start_time": "2022-10-24T17:15:55.326983",
     "status": "completed"
    },
    "tags": []
   },
   "source": [
    "### check colleration between sex and survived or not "
   ]
  },
  {
   "cell_type": "code",
   "execution_count": 22,
   "id": "0f6e1119",
   "metadata": {
    "execution": {
     "iopub.execute_input": "2022-10-24T17:15:55.450722Z",
     "iopub.status.busy": "2022-10-24T17:15:55.449887Z",
     "iopub.status.idle": "2022-10-24T17:15:55.455473Z",
     "shell.execute_reply": "2022-10-24T17:15:55.454891Z"
    },
    "papermill": {
     "duration": 0.048312,
     "end_time": "2022-10-24T17:15:55.457066",
     "exception": false,
     "start_time": "2022-10-24T17:15:55.408754",
     "status": "completed"
    },
    "tags": []
   },
   "outputs": [],
   "source": [
    "sex=df[\"Sex\"].value_counts().reset_index()\n",
    "sex.columns=[\"sex\",\"count\"]"
   ]
  },
  {
   "cell_type": "code",
   "execution_count": 23,
   "id": "d5aa2e74",
   "metadata": {
    "execution": {
     "iopub.execute_input": "2022-10-24T17:15:55.538823Z",
     "iopub.status.busy": "2022-10-24T17:15:55.538453Z",
     "iopub.status.idle": "2022-10-24T17:15:55.656587Z",
     "shell.execute_reply": "2022-10-24T17:15:55.655854Z"
    },
    "papermill": {
     "duration": 0.161218,
     "end_time": "2022-10-24T17:15:55.658487",
     "exception": false,
     "start_time": "2022-10-24T17:15:55.497269",
     "status": "completed"
    },
    "tags": []
   },
   "outputs": [
    {
     "data": {
      "image/png": "[encoded data removed]",
      "text/plain": [
       "<Figure size 576x360 with 1 Axes>"
      ]
     },
     "metadata": {
      "needs_background": "light"
     },
     "output_type": "display_data"
    }
   ],
   "source": [
    "#draw a bar plot  to count of survival by sex\n",
    "plt.figure(figsize=(8,5))\n",
    "sns.barplot(x=\"sex\", y=\"count\" ,data=sex,palette=\"mako\")\n",
    "plt.title(\"Male vs Female\",size=15)\n",
    "plt.xlabel(\"Sex\",size=13)\n",
    "plt.ylabel(\"Survived\",size=13)\n",
    "plt.show()\n"
   ]
  },
  {
   "cell_type": "code",
   "execution_count": 24,
   "id": "e8798e41",
   "metadata": {
    "execution": {
     "iopub.execute_input": "2022-10-24T17:15:55.746336Z",
     "iopub.status.busy": "2022-10-24T17:15:55.745764Z",
     "iopub.status.idle": "2022-10-24T17:15:55.885467Z",
     "shell.execute_reply": "2022-10-24T17:15:55.884474Z"
    },
    "papermill": {
     "duration": 0.182856,
     "end_time": "2022-10-24T17:15:55.887480",
     "exception": false,
     "start_time": "2022-10-24T17:15:55.704624",
     "status": "completed"
    },
    "tags": []
   },
   "outputs": [
    {
     "data": {
      "image/png": "[encoded data removed]",
      "text/plain": [
       "<Figure size 864x504 with 1 Axes>"
      ]
     },
     "metadata": {
      "needs_background": "light"
     },
     "output_type": "display_data"
    }
   ],
   "source": [
    "plt.figure(figsize=(12,7))\n",
    "sns.countplot(x=\"Sex\",hue =\"Survived\" ,data=df,palette=\"mako\")\n",
    "plt.title(\"Male vs Female count of survived\",size=15)\n",
    "plt.xlabel(\"Sex\",size=13)\n",
    "plt.ylabel(\"count\",size=13)\n",
    "plt.show()"
   ]
  },
  {
   "cell_type": "code",
   "execution_count": 25,
   "id": "c363392b",
   "metadata": {
    "execution": {
     "iopub.execute_input": "2022-10-24T17:15:56.033680Z",
     "iopub.status.busy": "2022-10-24T17:15:56.032861Z",
     "iopub.status.idle": "2022-10-24T17:15:56.042846Z",
     "shell.execute_reply": "2022-10-24T17:15:56.041794Z"
    },
    "papermill": {
     "duration": 0.113974,
     "end_time": "2022-10-24T17:15:56.044981",
     "exception": false,
     "start_time": "2022-10-24T17:15:55.931007",
     "status": "completed"
    },
    "tags": []
   },
   "outputs": [
    {
     "name": "stdout",
     "output_type": "stream",
     "text": [
      "Percentage of females who survived: 74.20382165605095\n",
      "Percentage of males who survived: 18.890814558058924\n"
     ]
    }
   ],
   "source": [
    "#print percentages of females vs. males that survive\n",
    "print(\"Percentage of females who survived:\", df[\"Survived\"][df[\"Sex\"] == 'female'].value_counts(normalize = True)[1]*100)\n",
    "print(\"Percentage of males who survived:\",df[\"Survived\"][df[\"Sex\"] == 'male'].value_counts(normalize = True)[1]*100)"
   ]
  },
  {
   "cell_type": "code",
   "execution_count": 26,
   "id": "712b9d25",
   "metadata": {
    "execution": {
     "iopub.execute_input": "2022-10-24T17:15:56.129558Z",
     "iopub.status.busy": "2022-10-24T17:15:56.129173Z",
     "iopub.status.idle": "2022-10-24T17:15:56.137802Z",
     "shell.execute_reply": "2022-10-24T17:15:56.136799Z"
    },
    "papermill": {
     "duration": 0.053351,
     "end_time": "2022-10-24T17:15:56.139528",
     "exception": false,
     "start_time": "2022-10-24T17:15:56.086177",
     "status": "completed"
    },
    "tags": []
   },
   "outputs": [
    {
     "data": {
      "text/plain": [
       "468"
      ]
     },
     "execution_count": 26,
     "metadata": {},
     "output_type": "execute_result"
    }
   ],
   "source": [
    "df[(df[\"Sex\"]==\"male\")&(df[\"Survived\"]== 0)][\"Survived\"].count()"
   ]
  },
  {
   "cell_type": "code",
   "execution_count": 27,
   "id": "c366d8ff",
   "metadata": {
    "execution": {
     "iopub.execute_input": "2022-10-24T17:15:56.225330Z",
     "iopub.status.busy": "2022-10-24T17:15:56.224773Z",
     "iopub.status.idle": "2022-10-24T17:15:56.231552Z",
     "shell.execute_reply": "2022-10-24T17:15:56.230880Z"
    },
    "papermill": {
     "duration": 0.051936,
     "end_time": "2022-10-24T17:15:56.233413",
     "exception": false,
     "start_time": "2022-10-24T17:15:56.181477",
     "status": "completed"
    },
    "tags": []
   },
   "outputs": [
    {
     "data": {
      "text/plain": [
       "109"
      ]
     },
     "execution_count": 27,
     "metadata": {},
     "output_type": "execute_result"
    }
   ],
   "source": [
    "df[(df[\"Sex\"]==\"male\")&(df[\"Survived\"]== 1)][\"Survived\"].count()"
   ]
  },
  {
   "cell_type": "markdown",
   "id": "7fa8d5d4",
   "metadata": {
    "papermill": {
     "duration": 0.041704,
     "end_time": "2022-10-24T17:15:56.321234",
     "exception": false,
     "start_time": "2022-10-24T17:15:56.279530",
     "status": "completed"
    },
    "tags": []
   },
   "source": [
    "## The number fo passengers"
   ]
  },
  {
   "cell_type": "code",
   "execution_count": 28,
   "id": "1a9bbe5e",
   "metadata": {
    "execution": {
     "iopub.execute_input": "2022-10-24T17:15:56.406145Z",
     "iopub.status.busy": "2022-10-24T17:15:56.405615Z",
     "iopub.status.idle": "2022-10-24T17:15:56.414932Z",
     "shell.execute_reply": "2022-10-24T17:15:56.414334Z"
    },
    "papermill": {
     "duration": 0.053753,
     "end_time": "2022-10-24T17:15:56.416520",
     "exception": false,
     "start_time": "2022-10-24T17:15:56.362767",
     "status": "completed"
    },
    "tags": []
   },
   "outputs": [
    {
     "data": {
      "text/html": [
       "<div>\n",
       "<style scoped>\n",
       "    .dataframe tbody tr th:only-of-type {\n",
       "        vertical-align: middle;\n",
       "    }\n",
       "\n",
       "    .dataframe tbody tr th {\n",
       "        vertical-align: top;\n",
       "    }\n",
       "\n",
       "    .dataframe thead th {\n",
       "        text-align: right;\n",
       "    }\n",
       "</style>\n",
       "<table border=\"1\" class=\"dataframe\">\n",
       "  <thead>\n",
       "    <tr style=\"text-align: right;\">\n",
       "      <th></th>\n",
       "      <th>sex</th>\n",
       "      <th>count</th>\n",
       "    </tr>\n",
       "  </thead>\n",
       "  <tbody>\n",
       "    <tr>\n",
       "      <th>0</th>\n",
       "      <td>male</td>\n",
       "      <td>843</td>\n",
       "    </tr>\n",
       "    <tr>\n",
       "      <th>1</th>\n",
       "      <td>female</td>\n",
       "      <td>466</td>\n",
       "    </tr>\n",
       "  </tbody>\n",
       "</table>\n",
       "</div>"
      ],
      "text/plain": [
       "      sex  count\n",
       "0    male    843\n",
       "1  female    466"
      ]
     },
     "execution_count": 28,
     "metadata": {},
     "output_type": "execute_result"
    }
   ],
   "source": [
    "pie=df[\"Sex\"].value_counts().reset_index()\n",
    "pie.columns=[\"sex\",\"count\"]\n",
    "pie"
   ]
  },
  {
   "cell_type": "code",
   "execution_count": 29,
   "id": "4393dbe1",
   "metadata": {
    "execution": {
     "iopub.execute_input": "2022-10-24T17:15:56.501247Z",
     "iopub.status.busy": "2022-10-24T17:15:56.500703Z",
     "iopub.status.idle": "2022-10-24T17:15:56.585845Z",
     "shell.execute_reply": "2022-10-24T17:15:56.584974Z"
    },
    "papermill": {
     "duration": 0.12955,
     "end_time": "2022-10-24T17:15:56.587813",
     "exception": false,
     "start_time": "2022-10-24T17:15:56.458263",
     "status": "completed"
    },
    "tags": []
   },
   "outputs": [
    {
     "data": {
      "image/png": "[encoded data removed]",
      "text/plain": [
       "<Figure size 864x504 with 1 Axes>"
      ]
     },
     "metadata": {},
     "output_type": "display_data"
    }
   ],
   "source": [
    "plt.figure(figsize=(12,7))\n",
    "color=sns.color_palette(\"pastel\")\n",
    "plt.pie(pie[\"count\"],colors=color,autopct='%.0f%%',labels=pie[\"sex\"])\n",
    "plt.show()"
   ]
  },
  {
   "cell_type": "code",
   "execution_count": 30,
   "id": "906b1cc6",
   "metadata": {
    "execution": {
     "iopub.execute_input": "2022-10-24T17:15:56.693653Z",
     "iopub.status.busy": "2022-10-24T17:15:56.693117Z",
     "iopub.status.idle": "2022-10-24T17:15:56.707181Z",
     "shell.execute_reply": "2022-10-24T17:15:56.706060Z"
    },
    "papermill": {
     "duration": 0.06719,
     "end_time": "2022-10-24T17:15:56.709969",
     "exception": false,
     "start_time": "2022-10-24T17:15:56.642779",
     "status": "completed"
    },
    "tags": []
   },
   "outputs": [
    {
     "data": {
      "text/html": [
       "<div>\n",
       "<style scoped>\n",
       "    .dataframe tbody tr th:only-of-type {\n",
       "        vertical-align: middle;\n",
       "    }\n",
       "\n",
       "    .dataframe tbody tr th {\n",
       "        vertical-align: top;\n",
       "    }\n",
       "\n",
       "    .dataframe thead th {\n",
       "        text-align: right;\n",
       "    }\n",
       "</style>\n",
       "<table border=\"1\" class=\"dataframe\">\n",
       "  <thead>\n",
       "    <tr style=\"text-align: right;\">\n",
       "      <th></th>\n",
       "      <th>Sex</th>\n",
       "      <th>Survived</th>\n",
       "    </tr>\n",
       "  </thead>\n",
       "  <tbody>\n",
       "    <tr>\n",
       "      <th>0</th>\n",
       "      <td>female</td>\n",
       "      <td>0.742038</td>\n",
       "    </tr>\n",
       "    <tr>\n",
       "      <th>1</th>\n",
       "      <td>male</td>\n",
       "      <td>0.188908</td>\n",
       "    </tr>\n",
       "  </tbody>\n",
       "</table>\n",
       "</div>"
      ],
      "text/plain": [
       "      Sex  Survived\n",
       "0  female  0.742038\n",
       "1    male  0.188908"
      ]
     },
     "execution_count": 30,
     "metadata": {},
     "output_type": "execute_result"
    }
   ],
   "source": [
    "df[[\"Sex\", \"Survived\"]].groupby(['Sex'], as_index=False).mean().sort_values(by='Survived', ascending=False)"
   ]
  },
  {
   "cell_type": "markdown",
   "id": "a1cf432a",
   "metadata": {
    "papermill": {
     "duration": 0.042962,
     "end_time": "2022-10-24T17:15:56.796233",
     "exception": false,
     "start_time": "2022-10-24T17:15:56.753271",
     "status": "completed"
    },
    "tags": []
   },
   "source": [
    "## Summaries :\n",
    "#### as we can see that the most survived are Females with 74.2% of passengers and 18.8 of Males only\n",
    "#### and the most of passengers were Males so the numbes of deith from males "
   ]
  },
  {
   "cell_type": "markdown",
   "id": "cd8d563e",
   "metadata": {
    "papermill": {
     "duration": 0.042694,
     "end_time": "2022-10-24T17:15:56.882628",
     "exception": false,
     "start_time": "2022-10-24T17:15:56.839934",
     "status": "completed"
    },
    "tags": []
   },
   "source": [
    " "
   ]
  },
  {
   "cell_type": "markdown",
   "id": "8587809d",
   "metadata": {
    "papermill": {
     "duration": 0.041964,
     "end_time": "2022-10-24T17:15:56.967549",
     "exception": false,
     "start_time": "2022-10-24T17:15:56.925585",
     "status": "completed"
    },
    "tags": []
   },
   "source": [
    "                  \n",
    "                  "
   ]
  },
  {
   "cell_type": "markdown",
   "id": "393c7f21",
   "metadata": {
    "execution": {
     "iopub.execute_input": "2022-09-11T18:20:19.107873Z",
     "iopub.status.busy": "2022-09-11T18:20:19.107458Z",
     "iopub.status.idle": "2022-09-11T18:20:19.113184Z",
     "shell.execute_reply": "2022-09-11T18:20:19.111900Z",
     "shell.execute_reply.started": "2022-09-11T18:20:19.107839Z"
    },
    "papermill": {
     "duration": 0.042432,
     "end_time": "2022-10-24T17:15:57.052700",
     "exception": false,
     "start_time": "2022-10-24T17:15:57.010268",
     "status": "completed"
    },
    "tags": []
   },
   "source": [
    "# Check colleration between passenger class and survived  : "
   ]
  },
  {
   "cell_type": "code",
   "execution_count": 31,
   "id": "69947d64",
   "metadata": {
    "execution": {
     "iopub.execute_input": "2022-10-24T17:15:57.139628Z",
     "iopub.status.busy": "2022-10-24T17:15:57.139263Z",
     "iopub.status.idle": "2022-10-24T17:15:57.149909Z",
     "shell.execute_reply": "2022-10-24T17:15:57.149312Z"
    },
    "papermill": {
     "duration": 0.056079,
     "end_time": "2022-10-24T17:15:57.151480",
     "exception": false,
     "start_time": "2022-10-24T17:15:57.095401",
     "status": "completed"
    },
    "tags": []
   },
   "outputs": [
    {
     "data": {
      "text/html": [
       "<div>\n",
       "<style scoped>\n",
       "    .dataframe tbody tr th:only-of-type {\n",
       "        vertical-align: middle;\n",
       "    }\n",
       "\n",
       "    .dataframe tbody tr th {\n",
       "        vertical-align: top;\n",
       "    }\n",
       "\n",
       "    .dataframe thead th {\n",
       "        text-align: right;\n",
       "    }\n",
       "</style>\n",
       "<table border=\"1\" class=\"dataframe\">\n",
       "  <thead>\n",
       "    <tr style=\"text-align: right;\">\n",
       "      <th></th>\n",
       "      <th>Class</th>\n",
       "      <th>count</th>\n",
       "    </tr>\n",
       "  </thead>\n",
       "  <tbody>\n",
       "    <tr>\n",
       "      <th>0</th>\n",
       "      <td>2</td>\n",
       "      <td>277</td>\n",
       "    </tr>\n",
       "    <tr>\n",
       "      <th>1</th>\n",
       "      <td>1</td>\n",
       "      <td>323</td>\n",
       "    </tr>\n",
       "    <tr>\n",
       "      <th>2</th>\n",
       "      <td>3</td>\n",
       "      <td>709</td>\n",
       "    </tr>\n",
       "  </tbody>\n",
       "</table>\n",
       "</div>"
      ],
      "text/plain": [
       "   Class  count\n",
       "0      2    277\n",
       "1      1    323\n",
       "2      3    709"
      ]
     },
     "execution_count": 31,
     "metadata": {},
     "output_type": "execute_result"
    }
   ],
   "source": [
    "class_count=df[\"Pclass\"].value_counts().reset_index()\n",
    "class_count.columns=[\"Class\",\"count\"]\n",
    "class_count.sort_values(by='count',ascending=False)\n",
    "class_count.sort_values(['count']).reset_index(drop=True)"
   ]
  },
  {
   "cell_type": "code",
   "execution_count": 32,
   "id": "1a337683",
   "metadata": {
    "execution": {
     "iopub.execute_input": "2022-10-24T17:15:57.240051Z",
     "iopub.status.busy": "2022-10-24T17:15:57.239429Z",
     "iopub.status.idle": "2022-10-24T17:15:57.361609Z",
     "shell.execute_reply": "2022-10-24T17:15:57.360609Z"
    },
    "papermill": {
     "duration": 0.169295,
     "end_time": "2022-10-24T17:15:57.363642",
     "exception": false,
     "start_time": "2022-10-24T17:15:57.194347",
     "status": "completed"
    },
    "tags": []
   },
   "outputs": [
    {
     "data": {
      "image/png": "[encoded data removed]",
      "text/plain": [
       "<Figure size 576x360 with 1 Axes>"
      ]
     },
     "metadata": {
      "needs_background": "light"
     },
     "output_type": "display_data"
    }
   ],
   "source": [
    "#draw a bar plot to count the number in eaxh class \n",
    "plt.figure(figsize=(8,5))\n",
    "sns.barplot(x='Class', y=\"count\", data=class_count,palette=\"mako\")\n",
    "plt.title(\"colleration between class and survival\",size=15)\n",
    "plt.xlabel(\"Class\",size=13)\n",
    "plt.ylabel(\"count\",size=13)\n",
    "plt.show()"
   ]
  },
  {
   "cell_type": "code",
   "execution_count": 33,
   "id": "299c4d67",
   "metadata": {
    "execution": {
     "iopub.execute_input": "2022-10-24T17:15:57.461262Z",
     "iopub.status.busy": "2022-10-24T17:15:57.460699Z",
     "iopub.status.idle": "2022-10-24T17:15:57.470179Z",
     "shell.execute_reply": "2022-10-24T17:15:57.469612Z"
    },
    "papermill": {
     "duration": 0.056888,
     "end_time": "2022-10-24T17:15:57.471752",
     "exception": false,
     "start_time": "2022-10-24T17:15:57.414864",
     "status": "completed"
    },
    "tags": []
   },
   "outputs": [
    {
     "data": {
      "text/html": [
       "<div>\n",
       "<style scoped>\n",
       "    .dataframe tbody tr th:only-of-type {\n",
       "        vertical-align: middle;\n",
       "    }\n",
       "\n",
       "    .dataframe tbody tr th {\n",
       "        vertical-align: top;\n",
       "    }\n",
       "\n",
       "    .dataframe thead th {\n",
       "        text-align: right;\n",
       "    }\n",
       "</style>\n",
       "<table border=\"1\" class=\"dataframe\">\n",
       "  <thead>\n",
       "    <tr style=\"text-align: right;\">\n",
       "      <th></th>\n",
       "      <th>0</th>\n",
       "      <th>1</th>\n",
       "      <th>2</th>\n",
       "    </tr>\n",
       "  </thead>\n",
       "  <tbody>\n",
       "    <tr>\n",
       "      <th>class</th>\n",
       "      <td>3</td>\n",
       "      <td>1</td>\n",
       "      <td>2</td>\n",
       "    </tr>\n",
       "    <tr>\n",
       "      <th>count</th>\n",
       "      <td>709</td>\n",
       "      <td>323</td>\n",
       "      <td>277</td>\n",
       "    </tr>\n",
       "  </tbody>\n",
       "</table>\n",
       "</div>"
      ],
      "text/plain": [
       "         0    1    2\n",
       "class    3    1    2\n",
       "count  709  323  277"
      ]
     },
     "execution_count": 33,
     "metadata": {},
     "output_type": "execute_result"
    }
   ],
   "source": [
    "pasengers_class=df[\"Pclass\"].value_counts().reset_index()\n",
    "pasengers_class.columns=[\"class\",\"count\"]\n",
    "pasengers_class.T"
   ]
  },
  {
   "cell_type": "code",
   "execution_count": 34,
   "id": "b6cec665",
   "metadata": {
    "execution": {
     "iopub.execute_input": "2022-10-24T17:15:57.559604Z",
     "iopub.status.busy": "2022-10-24T17:15:57.558995Z",
     "iopub.status.idle": "2022-10-24T17:15:57.570093Z",
     "shell.execute_reply": "2022-10-24T17:15:57.569501Z"
    },
    "papermill": {
     "duration": 0.05704,
     "end_time": "2022-10-24T17:15:57.571707",
     "exception": false,
     "start_time": "2022-10-24T17:15:57.514667",
     "status": "completed"
    },
    "tags": []
   },
   "outputs": [
    {
     "data": {
      "text/html": [
       "<div>\n",
       "<style scoped>\n",
       "    .dataframe tbody tr th:only-of-type {\n",
       "        vertical-align: middle;\n",
       "    }\n",
       "\n",
       "    .dataframe tbody tr th {\n",
       "        vertical-align: top;\n",
       "    }\n",
       "\n",
       "    .dataframe thead th {\n",
       "        text-align: right;\n",
       "    }\n",
       "</style>\n",
       "<table border=\"1\" class=\"dataframe\">\n",
       "  <thead>\n",
       "    <tr style=\"text-align: right;\">\n",
       "      <th></th>\n",
       "      <th>Pclass</th>\n",
       "      <th>Survived</th>\n",
       "    </tr>\n",
       "  </thead>\n",
       "  <tbody>\n",
       "    <tr>\n",
       "      <th>0</th>\n",
       "      <td>1</td>\n",
       "      <td>0.629630</td>\n",
       "    </tr>\n",
       "    <tr>\n",
       "      <th>1</th>\n",
       "      <td>2</td>\n",
       "      <td>0.472826</td>\n",
       "    </tr>\n",
       "    <tr>\n",
       "      <th>2</th>\n",
       "      <td>3</td>\n",
       "      <td>0.242363</td>\n",
       "    </tr>\n",
       "  </tbody>\n",
       "</table>\n",
       "</div>"
      ],
      "text/plain": [
       "   Pclass  Survived\n",
       "0       1  0.629630\n",
       "1       2  0.472826\n",
       "2       3  0.242363"
      ]
     },
     "execution_count": 34,
     "metadata": {},
     "output_type": "execute_result"
    }
   ],
   "source": [
    "df[['Pclass', 'Survived']].groupby(['Pclass'], as_index=False).mean().sort_values(by='Survived', ascending=False)"
   ]
  },
  {
   "cell_type": "code",
   "execution_count": 35,
   "id": "5e447379",
   "metadata": {
    "execution": {
     "iopub.execute_input": "2022-10-24T17:15:57.659610Z",
     "iopub.status.busy": "2022-10-24T17:15:57.658744Z",
     "iopub.status.idle": "2022-10-24T17:15:57.818610Z",
     "shell.execute_reply": "2022-10-24T17:15:57.817689Z"
    },
    "papermill": {
     "duration": 0.205669,
     "end_time": "2022-10-24T17:15:57.820453",
     "exception": false,
     "start_time": "2022-10-24T17:15:57.614784",
     "status": "completed"
    },
    "tags": []
   },
   "outputs": [
    {
     "data": {
      "image/png": "[encoded data removed]",
      "text/plain": [
       "<Figure size 864x504 with 1 Axes>"
      ]
     },
     "metadata": {
      "needs_background": "light"
     },
     "output_type": "display_data"
    }
   ],
   "source": [
    "plt.figure(figsize=(12,7))\n",
    "sns.countplot(x=\"Pclass\",hue =\"Survived\" ,data=df,palette=\"mako\")\n",
    "plt.title(\"Class count of survived\",size=15)\n",
    "plt.xlabel(\"class\",size=13)\n",
    "plt.ylabel(\"count\",size=13)\n",
    "plt.show()"
   ]
  },
  {
   "cell_type": "code",
   "execution_count": 36,
   "id": "7694ea32",
   "metadata": {
    "execution": {
     "iopub.execute_input": "2022-10-24T17:15:57.907419Z",
     "iopub.status.busy": "2022-10-24T17:15:57.907024Z",
     "iopub.status.idle": "2022-10-24T17:15:58.066771Z",
     "shell.execute_reply": "2022-10-24T17:15:58.065768Z"
    },
    "papermill": {
     "duration": 0.205407,
     "end_time": "2022-10-24T17:15:58.068593",
     "exception": false,
     "start_time": "2022-10-24T17:15:57.863186",
     "status": "completed"
    },
    "tags": []
   },
   "outputs": [
    {
     "data": {
      "image/png": "[encoded data removed]",
      "text/plain": [
       "<Figure size 864x504 with 1 Axes>"
      ]
     },
     "metadata": {
      "needs_background": "light"
     },
     "output_type": "display_data"
    }
   ],
   "source": [
    "plt.figure(figsize=(12,7))\n",
    "sns.countplot(x=\"Survived\",hue =\"Pclass\" ,data=df,palette=\"mako\")\n",
    "plt.title(\"Class count of survived\",size=15)\n",
    "plt.xlabel(\"class\",size=13)\n",
    "plt.ylabel(\"count\",size=13)\n",
    "plt.show()"
   ]
  },
  {
   "cell_type": "code",
   "execution_count": 37,
   "id": "94c173c3",
   "metadata": {
    "execution": {
     "iopub.execute_input": "2022-10-24T17:15:58.156827Z",
     "iopub.status.busy": "2022-10-24T17:15:58.156488Z",
     "iopub.status.idle": "2022-10-24T17:15:59.355331Z",
     "shell.execute_reply": "2022-10-24T17:15:59.354307Z"
    },
    "papermill": {
     "duration": 1.245235,
     "end_time": "2022-10-24T17:15:59.357163",
     "exception": false,
     "start_time": "2022-10-24T17:15:58.111928",
     "status": "completed"
    },
    "tags": []
   },
   "outputs": [
    {
     "data": {
      "text/plain": [
       "<seaborn.axisgrid.FacetGrid at 0x7f5b9fd05a10>"
      ]
     },
     "execution_count": 37,
     "metadata": {},
     "output_type": "execute_result"
    },
    {
     "data": {
      "image/png": "[encoded data removed]",
      "text/plain": [
       "<Figure size 699.875x432 with 6 Axes>"
      ]
     },
     "metadata": {
      "needs_background": "light"
     },
     "output_type": "display_data"
    }
   ],
   "source": [
    "#histogram comparison of sex, class, and age by survival\n",
    "plot = sns.FacetGrid(df, row = 'Sex', col = 'Pclass', hue = 'Survived',palette=\"mako\")\n",
    "plot.map(plt.hist, 'Age', alpha = .55)\n",
    "plot.add_legend()"
   ]
  },
  {
   "cell_type": "code",
   "execution_count": 38,
   "id": "3055c850",
   "metadata": {
    "execution": {
     "iopub.execute_input": "2022-10-24T17:15:59.448970Z",
     "iopub.status.busy": "2022-10-24T17:15:59.448617Z",
     "iopub.status.idle": "2022-10-24T17:15:59.634816Z",
     "shell.execute_reply": "2022-10-24T17:15:59.633413Z"
    },
    "papermill": {
     "duration": 0.235118,
     "end_time": "2022-10-24T17:15:59.636738",
     "exception": false,
     "start_time": "2022-10-24T17:15:59.401620",
     "status": "completed"
    },
    "tags": []
   },
   "outputs": [
    {
     "data": {
      "text/plain": [
       "<AxesSubplot:xlabel='Survived', ylabel='Pclass'>"
      ]
     },
     "execution_count": 38,
     "metadata": {},
     "output_type": "execute_result"
    },
    {
     "data": {
      "image/png": "[encoded data removed]",
      "text/plain": [
       "<Figure size 432x288 with 2 Axes>"
      ]
     },
     "metadata": {
      "needs_background": "light"
     },
     "output_type": "display_data"
    }
   ],
   "source": [
    "\n",
    "# Group the dataset by Pclass and Survived and then unstack them\n",
    "group = df.groupby(['Pclass', 'Survived'])\n",
    "pclass_survived = group.size().unstack()\n",
    " \n",
    "\n",
    "sns.heatmap(pclass_survived, annot = True, fmt =\"d\")"
   ]
  },
  {
   "cell_type": "code",
   "execution_count": 39,
   "id": "e323e16a",
   "metadata": {
    "execution": {
     "iopub.execute_input": "2022-10-24T17:15:59.726486Z",
     "iopub.status.busy": "2022-10-24T17:15:59.726066Z",
     "iopub.status.idle": "2022-10-24T17:16:01.013590Z",
     "shell.execute_reply": "2022-10-24T17:16:01.012745Z"
    },
    "papermill": {
     "duration": 1.334837,
     "end_time": "2022-10-24T17:16:01.015447",
     "exception": false,
     "start_time": "2022-10-24T17:15:59.680610",
     "status": "completed"
    },
    "tags": []
   },
   "outputs": [
    {
     "data": {
      "image/png": "[encoded data removed]",
      "text/plain": [
       "<Figure size 514.88x475.2 with 6 Axes>"
      ]
     },
     "metadata": {
      "needs_background": "light"
     },
     "output_type": "display_data"
    }
   ],
   "source": [
    "grid = sns.FacetGrid(df, col='Survived', row='Pclass', size=2.2, aspect=1.6)\n",
    "grid.map(plt.hist, 'Age', alpha=.5, bins=20)\n",
    "grid.add_legend();"
   ]
  },
  {
   "cell_type": "markdown",
   "id": "c07a4375",
   "metadata": {
    "papermill": {
     "duration": 0.044219,
     "end_time": "2022-10-24T17:16:01.105991",
     "exception": false,
     "start_time": "2022-10-24T17:16:01.061772",
     "status": "completed"
    },
    "tags": []
   },
   "source": [
    "# Summaries :\n",
    "### - So as we can see here that class 1 is most survived  and  2 then 3 \n",
    "### - Most of passnegers where in class 3 and class  1 then class 2 \n"
   ]
  },
  {
   "cell_type": "markdown",
   "id": "618f78c2",
   "metadata": {
    "papermill": {
     "duration": 0.044167,
     "end_time": "2022-10-24T17:16:01.194220",
     "exception": false,
     "start_time": "2022-10-24T17:16:01.150053",
     "status": "completed"
    },
    "tags": []
   },
   "source": [
    "  "
   ]
  },
  {
   "cell_type": "markdown",
   "id": "16fc2743",
   "metadata": {
    "papermill": {
     "duration": 0.044999,
     "end_time": "2022-10-24T17:16:01.283340",
     "exception": false,
     "start_time": "2022-10-24T17:16:01.238341",
     "status": "completed"
    },
    "tags": []
   },
   "source": [
    "                     "
   ]
  },
  {
   "cell_type": "markdown",
   "id": "8f81a4c2",
   "metadata": {
    "papermill": {
     "duration": 0.044353,
     "end_time": "2022-10-24T17:16:01.372505",
     "exception": false,
     "start_time": "2022-10-24T17:16:01.328152",
     "status": "completed"
    },
    "tags": []
   },
   "source": [
    "  "
   ]
  },
  {
   "cell_type": "markdown",
   "id": "ddfe2246",
   "metadata": {
    "papermill": {
     "duration": 0.043563,
     "end_time": "2022-10-24T17:16:01.459830",
     "exception": false,
     "start_time": "2022-10-24T17:16:01.416267",
     "status": "completed"
    },
    "tags": []
   },
   "source": [
    "   "
   ]
  },
  {
   "cell_type": "markdown",
   "id": "fea4da10",
   "metadata": {
    "papermill": {
     "duration": 0.044356,
     "end_time": "2022-10-24T17:16:01.548374",
     "exception": false,
     "start_time": "2022-10-24T17:16:01.504018",
     "status": "completed"
    },
    "tags": []
   },
   "source": [
    "# Check colleration between siblings and survived  :"
   ]
  },
  {
   "cell_type": "code",
   "execution_count": 40,
   "id": "fe9267fb",
   "metadata": {
    "execution": {
     "iopub.execute_input": "2022-10-24T17:16:01.637434Z",
     "iopub.status.busy": "2022-10-24T17:16:01.636852Z",
     "iopub.status.idle": "2022-10-24T17:16:01.653895Z",
     "shell.execute_reply": "2022-10-24T17:16:01.652588Z"
    },
    "papermill": {
     "duration": 0.063568,
     "end_time": "2022-10-24T17:16:01.655815",
     "exception": false,
     "start_time": "2022-10-24T17:16:01.592247",
     "status": "completed"
    },
    "tags": []
   },
   "outputs": [
    {
     "data": {
      "text/html": [
       "<div>\n",
       "<style scoped>\n",
       "    .dataframe tbody tr th:only-of-type {\n",
       "        vertical-align: middle;\n",
       "    }\n",
       "\n",
       "    .dataframe tbody tr th {\n",
       "        vertical-align: top;\n",
       "    }\n",
       "\n",
       "    .dataframe thead th {\n",
       "        text-align: right;\n",
       "    }\n",
       "</style>\n",
       "<table border=\"1\" class=\"dataframe\">\n",
       "  <thead>\n",
       "    <tr style=\"text-align: right;\">\n",
       "      <th></th>\n",
       "      <th>1</th>\n",
       "      <th>2</th>\n",
       "      <th>0</th>\n",
       "      <th>3</th>\n",
       "      <th>4</th>\n",
       "      <th>5</th>\n",
       "      <th>6</th>\n",
       "    </tr>\n",
       "  </thead>\n",
       "  <tbody>\n",
       "    <tr>\n",
       "      <th>SibSp</th>\n",
       "      <td>1.000000</td>\n",
       "      <td>2.000000</td>\n",
       "      <td>0.000000</td>\n",
       "      <td>3.00</td>\n",
       "      <td>4.000000</td>\n",
       "      <td>5.0</td>\n",
       "      <td>8.0</td>\n",
       "    </tr>\n",
       "    <tr>\n",
       "      <th>Survived</th>\n",
       "      <td>0.535885</td>\n",
       "      <td>0.464286</td>\n",
       "      <td>0.345395</td>\n",
       "      <td>0.25</td>\n",
       "      <td>0.166667</td>\n",
       "      <td>0.0</td>\n",
       "      <td>0.0</td>\n",
       "    </tr>\n",
       "  </tbody>\n",
       "</table>\n",
       "</div>"
      ],
      "text/plain": [
       "                 1         2         0     3         4    5    6\n",
       "SibSp     1.000000  2.000000  0.000000  3.00  4.000000  5.0  8.0\n",
       "Survived  0.535885  0.464286  0.345395  0.25  0.166667  0.0  0.0"
      ]
     },
     "execution_count": 40,
     "metadata": {},
     "output_type": "execute_result"
    }
   ],
   "source": [
    "df[[\"SibSp\", \"Survived\"]].groupby(['SibSp'], as_index=False).mean().sort_values(by='Survived', ascending=False).T"
   ]
  },
  {
   "cell_type": "code",
   "execution_count": 41,
   "id": "dece6a25",
   "metadata": {
    "execution": {
     "iopub.execute_input": "2022-10-24T17:16:01.745688Z",
     "iopub.status.busy": "2022-10-24T17:16:01.745020Z",
     "iopub.status.idle": "2022-10-24T17:16:01.941523Z",
     "shell.execute_reply": "2022-10-24T17:16:01.940694Z"
    },
    "papermill": {
     "duration": 0.243342,
     "end_time": "2022-10-24T17:16:01.943386",
     "exception": false,
     "start_time": "2022-10-24T17:16:01.700044",
     "status": "completed"
    },
    "tags": []
   },
   "outputs": [
    {
     "data": {
      "image/png": "[encoded data removed]",
      "text/plain": [
       "<Figure size 864x504 with 1 Axes>"
      ]
     },
     "metadata": {
      "needs_background": "light"
     },
     "output_type": "display_data"
    }
   ],
   "source": [
    "plt.figure(figsize=(12,7))\n",
    "sns.countplot(x=\"Survived\",hue =\"SibSp\" ,data=df,palette=\"mako\")\n",
    "plt.title(\"siblings count of survived\",size=15)\n",
    "plt.xlabel(\"siblings\",size=13)\n",
    "plt.ylabel(\"count\",size=13)\n",
    "plt.show()\n"
   ]
  },
  {
   "cell_type": "markdown",
   "id": "2c0b25a7",
   "metadata": {
    "papermill": {
     "duration": 0.044664,
     "end_time": "2022-10-24T17:16:02.033591",
     "exception": false,
     "start_time": "2022-10-24T17:16:01.988927",
     "status": "completed"
    },
    "tags": []
   },
   "source": [
    "# Summaries :\n",
    "#### where number of siblings increase the number of death too"
   ]
  },
  {
   "cell_type": "markdown",
   "id": "24a8c85c",
   "metadata": {
    "papermill": {
     "duration": 0.046633,
     "end_time": "2022-10-24T17:16:02.125617",
     "exception": false,
     "start_time": "2022-10-24T17:16:02.078984",
     "status": "completed"
    },
    "tags": []
   },
   "source": [
    "        "
   ]
  },
  {
   "cell_type": "markdown",
   "id": "ba00a026",
   "metadata": {
    "papermill": {
     "duration": 0.046248,
     "end_time": "2022-10-24T17:16:02.218726",
     "exception": false,
     "start_time": "2022-10-24T17:16:02.172478",
     "status": "completed"
    },
    "tags": []
   },
   "source": [
    "# Check colleration between parch and survived  :"
   ]
  },
  {
   "cell_type": "code",
   "execution_count": 42,
   "id": "6ae6054c",
   "metadata": {
    "execution": {
     "iopub.execute_input": "2022-10-24T17:16:02.313092Z",
     "iopub.status.busy": "2022-10-24T17:16:02.312670Z",
     "iopub.status.idle": "2022-10-24T17:16:02.331799Z",
     "shell.execute_reply": "2022-10-24T17:16:02.330812Z"
    },
    "papermill": {
     "duration": 0.069072,
     "end_time": "2022-10-24T17:16:02.333512",
     "exception": false,
     "start_time": "2022-10-24T17:16:02.264440",
     "status": "completed"
    },
    "tags": []
   },
   "outputs": [
    {
     "data": {
      "text/html": [
       "<div>\n",
       "<style scoped>\n",
       "    .dataframe tbody tr th:only-of-type {\n",
       "        vertical-align: middle;\n",
       "    }\n",
       "\n",
       "    .dataframe tbody tr th {\n",
       "        vertical-align: top;\n",
       "    }\n",
       "\n",
       "    .dataframe thead th {\n",
       "        text-align: right;\n",
       "    }\n",
       "</style>\n",
       "<table border=\"1\" class=\"dataframe\">\n",
       "  <thead>\n",
       "    <tr style=\"text-align: right;\">\n",
       "      <th></th>\n",
       "      <th>3</th>\n",
       "      <th>1</th>\n",
       "      <th>2</th>\n",
       "      <th>0</th>\n",
       "      <th>5</th>\n",
       "      <th>4</th>\n",
       "      <th>6</th>\n",
       "      <th>7</th>\n",
       "    </tr>\n",
       "  </thead>\n",
       "  <tbody>\n",
       "    <tr>\n",
       "      <th>Parch</th>\n",
       "      <td>3.0</td>\n",
       "      <td>1.000000</td>\n",
       "      <td>2.0</td>\n",
       "      <td>0.000000</td>\n",
       "      <td>5.0</td>\n",
       "      <td>4.0</td>\n",
       "      <td>6.0</td>\n",
       "      <td>9.0</td>\n",
       "    </tr>\n",
       "    <tr>\n",
       "      <th>Survived</th>\n",
       "      <td>0.6</td>\n",
       "      <td>0.550847</td>\n",
       "      <td>0.5</td>\n",
       "      <td>0.343658</td>\n",
       "      <td>0.2</td>\n",
       "      <td>0.0</td>\n",
       "      <td>0.0</td>\n",
       "      <td>NaN</td>\n",
       "    </tr>\n",
       "  </tbody>\n",
       "</table>\n",
       "</div>"
      ],
      "text/plain": [
       "            3         1    2         0    5    4    6    7\n",
       "Parch     3.0  1.000000  2.0  0.000000  5.0  4.0  6.0  9.0\n",
       "Survived  0.6  0.550847  0.5  0.343658  0.2  0.0  0.0  NaN"
      ]
     },
     "execution_count": 42,
     "metadata": {},
     "output_type": "execute_result"
    }
   ],
   "source": [
    "df[[\"Parch\", \"Survived\"]].groupby(['Parch'], as_index=False).mean().sort_values(by='Survived', ascending=False).T"
   ]
  },
  {
   "cell_type": "code",
   "execution_count": 43,
   "id": "a66c438e",
   "metadata": {
    "execution": {
     "iopub.execute_input": "2022-10-24T17:16:02.428281Z",
     "iopub.status.busy": "2022-10-24T17:16:02.427846Z",
     "iopub.status.idle": "2022-10-24T17:16:02.622698Z",
     "shell.execute_reply": "2022-10-24T17:16:02.621627Z"
    },
    "papermill": {
     "duration": 0.245069,
     "end_time": "2022-10-24T17:16:02.624637",
     "exception": false,
     "start_time": "2022-10-24T17:16:02.379568",
     "status": "completed"
    },
    "tags": []
   },
   "outputs": [
    {
     "data": {
      "image/png": "[encoded data removed]",
      "text/plain": [
       "<Figure size 864x504 with 1 Axes>"
      ]
     },
     "metadata": {
      "needs_background": "light"
     },
     "output_type": "display_data"
    }
   ],
   "source": [
    "plt.figure(figsize=(12,7))\n",
    "sns.countplot(x=\"Survived\",hue =\"Parch\" ,data=df,palette=\"mako\")\n",
    "plt.title(\"Parch count of survived\",size=15)\n",
    "plt.xlabel(\"Parch\",size=13)\n",
    "plt.ylabel(\"count\",size=13)\n",
    "plt.show()"
   ]
  },
  {
   "cell_type": "code",
   "execution_count": 44,
   "id": "1052df07",
   "metadata": {
    "execution": {
     "iopub.execute_input": "2022-10-24T17:16:02.719187Z",
     "iopub.status.busy": "2022-10-24T17:16:02.718118Z",
     "iopub.status.idle": "2022-10-24T17:16:02.729711Z",
     "shell.execute_reply": "2022-10-24T17:16:02.728642Z"
    },
    "papermill": {
     "duration": 0.060857,
     "end_time": "2022-10-24T17:16:02.731662",
     "exception": false,
     "start_time": "2022-10-24T17:16:02.670805",
     "status": "completed"
    },
    "tags": []
   },
   "outputs": [
    {
     "data": {
      "text/html": [
       "<div>\n",
       "<style scoped>\n",
       "    .dataframe tbody tr th:only-of-type {\n",
       "        vertical-align: middle;\n",
       "    }\n",
       "\n",
       "    .dataframe tbody tr th {\n",
       "        vertical-align: top;\n",
       "    }\n",
       "\n",
       "    .dataframe thead th {\n",
       "        text-align: right;\n",
       "    }\n",
       "</style>\n",
       "<table border=\"1\" class=\"dataframe\">\n",
       "  <thead>\n",
       "    <tr style=\"text-align: right;\">\n",
       "      <th></th>\n",
       "      <th>Parch</th>\n",
       "      <th>count</th>\n",
       "    </tr>\n",
       "  </thead>\n",
       "  <tbody>\n",
       "    <tr>\n",
       "      <th>0</th>\n",
       "      <td>0</td>\n",
       "      <td>1002</td>\n",
       "    </tr>\n",
       "    <tr>\n",
       "      <th>1</th>\n",
       "      <td>1</td>\n",
       "      <td>170</td>\n",
       "    </tr>\n",
       "    <tr>\n",
       "      <th>2</th>\n",
       "      <td>2</td>\n",
       "      <td>113</td>\n",
       "    </tr>\n",
       "    <tr>\n",
       "      <th>3</th>\n",
       "      <td>3</td>\n",
       "      <td>8</td>\n",
       "    </tr>\n",
       "    <tr>\n",
       "      <th>4</th>\n",
       "      <td>5</td>\n",
       "      <td>6</td>\n",
       "    </tr>\n",
       "    <tr>\n",
       "      <th>5</th>\n",
       "      <td>4</td>\n",
       "      <td>6</td>\n",
       "    </tr>\n",
       "    <tr>\n",
       "      <th>6</th>\n",
       "      <td>6</td>\n",
       "      <td>2</td>\n",
       "    </tr>\n",
       "    <tr>\n",
       "      <th>7</th>\n",
       "      <td>9</td>\n",
       "      <td>2</td>\n",
       "    </tr>\n",
       "  </tbody>\n",
       "</table>\n",
       "</div>"
      ],
      "text/plain": [
       "   Parch  count\n",
       "0      0   1002\n",
       "1      1    170\n",
       "2      2    113\n",
       "3      3      8\n",
       "4      5      6\n",
       "5      4      6\n",
       "6      6      2\n",
       "7      9      2"
      ]
     },
     "execution_count": 44,
     "metadata": {},
     "output_type": "execute_result"
    }
   ],
   "source": [
    "parch=df[\"Parch\"].value_counts().reset_index()\n",
    "parch.columns=[\"Parch\",\"count\"]\n",
    "parch"
   ]
  },
  {
   "cell_type": "markdown",
   "id": "bd0e1a3b",
   "metadata": {
    "papermill": {
     "duration": 0.046559,
     "end_time": "2022-10-24T17:16:02.824261",
     "exception": false,
     "start_time": "2022-10-24T17:16:02.777702",
     "status": "completed"
    },
    "tags": []
   },
   "source": [
    "#### - As number of parch increase the number of death too"
   ]
  },
  {
   "cell_type": "markdown",
   "id": "fd4be8fa",
   "metadata": {
    "papermill": {
     "duration": 0.047852,
     "end_time": "2022-10-24T17:16:02.918707",
     "exception": false,
     "start_time": "2022-10-24T17:16:02.870855",
     "status": "completed"
    },
    "tags": []
   },
   "source": [
    "                "
   ]
  },
  {
   "cell_type": "markdown",
   "id": "bf68e0a3",
   "metadata": {
    "papermill": {
     "duration": 0.046167,
     "end_time": "2022-10-24T17:16:03.010473",
     "exception": false,
     "start_time": "2022-10-24T17:16:02.964306",
     "status": "completed"
    },
    "tags": []
   },
   "source": [
    "   "
   ]
  },
  {
   "cell_type": "markdown",
   "id": "6e78e012",
   "metadata": {
    "execution": {
     "iopub.execute_input": "2022-09-13T15:50:12.891178Z",
     "iopub.status.busy": "2022-09-13T15:50:12.890686Z",
     "iopub.status.idle": "2022-09-13T15:50:12.896610Z",
     "shell.execute_reply": "2022-09-13T15:50:12.895290Z",
     "shell.execute_reply.started": "2022-09-13T15:50:12.891141Z"
    },
    "papermill": {
     "duration": 0.047515,
     "end_time": "2022-10-24T17:16:03.103948",
     "exception": false,
     "start_time": "2022-10-24T17:16:03.056433",
     "status": "completed"
    },
    "tags": []
   },
   "source": [
    "# Age vs survived  : "
   ]
  },
  {
   "cell_type": "markdown",
   "id": "beb159e4",
   "metadata": {
    "papermill": {
     "duration": 0.053443,
     "end_time": "2022-10-24T17:16:03.212426",
     "exception": false,
     "start_time": "2022-10-24T17:16:03.158983",
     "status": "completed"
    },
    "tags": []
   },
   "source": [
    "#### - check the range of ages "
   ]
  },
  {
   "cell_type": "code",
   "execution_count": 45,
   "id": "52fa313e",
   "metadata": {
    "execution": {
     "iopub.execute_input": "2022-10-24T17:16:03.306547Z",
     "iopub.status.busy": "2022-10-24T17:16:03.305803Z",
     "iopub.status.idle": "2022-10-24T17:16:03.419613Z",
     "shell.execute_reply": "2022-10-24T17:16:03.418880Z"
    },
    "papermill": {
     "duration": 0.162855,
     "end_time": "2022-10-24T17:16:03.421473",
     "exception": false,
     "start_time": "2022-10-24T17:16:03.258618",
     "status": "completed"
    },
    "tags": []
   },
   "outputs": [
    {
     "data": {
      "image/png": "[encoded data removed]",
      "text/plain": [
       "<Figure size 864x504 with 1 Axes>"
      ]
     },
     "metadata": {
      "needs_background": "light"
     },
     "output_type": "display_data"
    }
   ],
   "source": [
    "plt.figure(figsize=(12,7))\n",
    "sns.boxplot(df['Age'],color=\"#E6E6FA\")\n",
    "plt.show()"
   ]
  },
  {
   "cell_type": "code",
   "execution_count": 46,
   "id": "d1ac0a46",
   "metadata": {
    "execution": {
     "iopub.execute_input": "2022-10-24T17:16:03.518791Z",
     "iopub.status.busy": "2022-10-24T17:16:03.518259Z",
     "iopub.status.idle": "2022-10-24T17:16:03.523672Z",
     "shell.execute_reply": "2022-10-24T17:16:03.523078Z"
    },
    "papermill": {
     "duration": 0.053003,
     "end_time": "2022-10-24T17:16:03.525208",
     "exception": false,
     "start_time": "2022-10-24T17:16:03.472205",
     "status": "completed"
    },
    "tags": []
   },
   "outputs": [],
   "source": [
    "class_count=df[\"Pclass\"].value_counts().reset_index()\n",
    "class_count.columns=[\"Class\",\"count\"]"
   ]
  },
  {
   "cell_type": "markdown",
   "id": "fe580d06",
   "metadata": {
    "papermill": {
     "duration": 0.043663,
     "end_time": "2022-10-24T17:16:03.613672",
     "exception": false,
     "start_time": "2022-10-24T17:16:03.570009",
     "status": "completed"
    },
    "tags": []
   },
   "source": [
    "# check the distribution of age "
   ]
  },
  {
   "cell_type": "code",
   "execution_count": 47,
   "id": "5c74679c",
   "metadata": {
    "execution": {
     "iopub.execute_input": "2022-10-24T17:16:03.704281Z",
     "iopub.status.busy": "2022-10-24T17:16:03.703738Z",
     "iopub.status.idle": "2022-10-24T17:16:03.950960Z",
     "shell.execute_reply": "2022-10-24T17:16:03.950332Z"
    },
    "papermill": {
     "duration": 0.294925,
     "end_time": "2022-10-24T17:16:03.952615",
     "exception": false,
     "start_time": "2022-10-24T17:16:03.657690",
     "status": "completed"
    },
    "tags": []
   },
   "outputs": [
    {
     "data": {
      "image/png": "[encoded data removed]",
      "text/plain": [
       "<Figure size 864x504 with 1 Axes>"
      ]
     },
     "metadata": {
      "needs_background": "light"
     },
     "output_type": "display_data"
    }
   ],
   "source": [
    "plt.figure(figsize=(12,7))\n",
    "sns.histplot(x=\"Age\",hue =\"Survived\" ,data=df, multiple=\"stack\",\n",
    "    palette=\"mako\",\n",
    "    edgecolor=\".3\",\n",
    "    linewidth=.5,\n",
    "    )\n",
    "plt.title(\"Age survived\",size=15)\n",
    "plt.xlabel(\"Age\",size=13)\n",
    "plt.ylabel(\"count\",size=13)\n",
    "plt.show()\n"
   ]
  },
  {
   "cell_type": "code",
   "execution_count": 48,
   "id": "131094d6",
   "metadata": {
    "execution": {
     "iopub.execute_input": "2022-10-24T17:16:04.045199Z",
     "iopub.status.busy": "2022-10-24T17:16:04.044647Z",
     "iopub.status.idle": "2022-10-24T17:16:04.315561Z",
     "shell.execute_reply": "2022-10-24T17:16:04.314801Z"
    },
    "papermill": {
     "duration": 0.319341,
     "end_time": "2022-10-24T17:16:04.317470",
     "exception": false,
     "start_time": "2022-10-24T17:16:03.998129",
     "status": "completed"
    },
    "tags": []
   },
   "outputs": [
    {
     "data": {
      "image/png": "[encoded data removed]",
      "text/plain": [
       "<Figure size 864x504 with 1 Axes>"
      ]
     },
     "metadata": {
      "needs_background": "light"
     },
     "output_type": "display_data"
    }
   ],
   "source": [
    "plt.figure(figsize=(12,7))\n",
    "sns.barplot(x=\"Survived\",y=\"Age\",data=df,hue=\"Pclass\",palette=\"mako\")\n",
    "plt.title(\"(age & passenger class) vs  Survived\",size=15)\n",
    "plt.xlabel(\"Survived\",size=13)\n",
    "plt.ylabel(\"Age\" , size=13)\n",
    "\n",
    "plt.show()"
   ]
  },
  {
   "cell_type": "code",
   "execution_count": 49,
   "id": "60e04cd5",
   "metadata": {
    "execution": {
     "iopub.execute_input": "2022-10-24T17:16:04.412066Z",
     "iopub.status.busy": "2022-10-24T17:16:04.411380Z",
     "iopub.status.idle": "2022-10-24T17:16:04.425221Z",
     "shell.execute_reply": "2022-10-24T17:16:04.424594Z"
    },
    "papermill": {
     "duration": 0.06324,
     "end_time": "2022-10-24T17:16:04.426855",
     "exception": false,
     "start_time": "2022-10-24T17:16:04.363615",
     "status": "completed"
    },
    "tags": []
   },
   "outputs": [
    {
     "data": {
      "text/html": [
       "<div>\n",
       "<style scoped>\n",
       "    .dataframe tbody tr th:only-of-type {\n",
       "        vertical-align: middle;\n",
       "    }\n",
       "\n",
       "    .dataframe tbody tr th {\n",
       "        vertical-align: top;\n",
       "    }\n",
       "\n",
       "    .dataframe thead th {\n",
       "        text-align: right;\n",
       "    }\n",
       "</style>\n",
       "<table border=\"1\" class=\"dataframe\">\n",
       "  <thead>\n",
       "    <tr style=\"text-align: right;\">\n",
       "      <th></th>\n",
       "      <th>Pclass</th>\n",
       "      <th>Survived</th>\n",
       "    </tr>\n",
       "  </thead>\n",
       "  <tbody>\n",
       "    <tr>\n",
       "      <th>0</th>\n",
       "      <td>1</td>\n",
       "      <td>0.629630</td>\n",
       "    </tr>\n",
       "    <tr>\n",
       "      <th>1</th>\n",
       "      <td>2</td>\n",
       "      <td>0.472826</td>\n",
       "    </tr>\n",
       "    <tr>\n",
       "      <th>2</th>\n",
       "      <td>3</td>\n",
       "      <td>0.242363</td>\n",
       "    </tr>\n",
       "  </tbody>\n",
       "</table>\n",
       "</div>"
      ],
      "text/plain": [
       "   Pclass  Survived\n",
       "0       1  0.629630\n",
       "1       2  0.472826\n",
       "2       3  0.242363"
      ]
     },
     "execution_count": 49,
     "metadata": {},
     "output_type": "execute_result"
    }
   ],
   "source": [
    "df[['Pclass', 'Survived']].groupby(['Pclass'], as_index=False).mean().sort_values(by='Survived', ascending=False) "
   ]
  },
  {
   "cell_type": "code",
   "execution_count": 50,
   "id": "b409d10c",
   "metadata": {
    "execution": {
     "iopub.execute_input": "2022-10-24T17:16:04.519520Z",
     "iopub.status.busy": "2022-10-24T17:16:04.518691Z",
     "iopub.status.idle": "2022-10-24T17:16:04.530674Z",
     "shell.execute_reply": "2022-10-24T17:16:04.529938Z"
    },
    "papermill": {
     "duration": 0.059785,
     "end_time": "2022-10-24T17:16:04.532269",
     "exception": false,
     "start_time": "2022-10-24T17:16:04.472484",
     "status": "completed"
    },
    "tags": []
   },
   "outputs": [
    {
     "data": {
      "text/html": [
       "<div>\n",
       "<style scoped>\n",
       "    .dataframe tbody tr th:only-of-type {\n",
       "        vertical-align: middle;\n",
       "    }\n",
       "\n",
       "    .dataframe tbody tr th {\n",
       "        vertical-align: top;\n",
       "    }\n",
       "\n",
       "    .dataframe thead th {\n",
       "        text-align: right;\n",
       "    }\n",
       "</style>\n",
       "<table border=\"1\" class=\"dataframe\">\n",
       "  <thead>\n",
       "    <tr style=\"text-align: right;\">\n",
       "      <th></th>\n",
       "      <th>Sex</th>\n",
       "      <th>Survived</th>\n",
       "    </tr>\n",
       "  </thead>\n",
       "  <tbody>\n",
       "    <tr>\n",
       "      <th>0</th>\n",
       "      <td>female</td>\n",
       "      <td>0.742038</td>\n",
       "    </tr>\n",
       "    <tr>\n",
       "      <th>1</th>\n",
       "      <td>male</td>\n",
       "      <td>0.188908</td>\n",
       "    </tr>\n",
       "  </tbody>\n",
       "</table>\n",
       "</div>"
      ],
      "text/plain": [
       "      Sex  Survived\n",
       "0  female  0.742038\n",
       "1    male  0.188908"
      ]
     },
     "execution_count": 50,
     "metadata": {},
     "output_type": "execute_result"
    }
   ],
   "source": [
    "df[[\"Sex\", \"Survived\"]].groupby(['Sex'], as_index=False).mean().sort_values(by='Survived', ascending=False)"
   ]
  },
  {
   "cell_type": "markdown",
   "id": "11498505",
   "metadata": {
    "papermill": {
     "duration": 0.0469,
     "end_time": "2022-10-24T17:16:04.624220",
     "exception": false,
     "start_time": "2022-10-24T17:16:04.577320",
     "status": "completed"
    },
    "tags": []
   },
   "source": [
    "### "
   ]
  },
  {
   "cell_type": "code",
   "execution_count": 51,
   "id": "d556efd4",
   "metadata": {
    "execution": {
     "iopub.execute_input": "2022-10-24T17:16:04.719738Z",
     "iopub.status.busy": "2022-10-24T17:16:04.719388Z",
     "iopub.status.idle": "2022-10-24T17:16:05.081181Z",
     "shell.execute_reply": "2022-10-24T17:16:05.080346Z"
    },
    "papermill": {
     "duration": 0.412505,
     "end_time": "2022-10-24T17:16:05.083475",
     "exception": false,
     "start_time": "2022-10-24T17:16:04.670970",
     "status": "completed"
    },
    "tags": []
   },
   "outputs": [
    {
     "data": {
      "text/plain": [
       "<Figure size 864x504 with 0 Axes>"
      ]
     },
     "metadata": {},
     "output_type": "display_data"
    },
    {
     "data": {
      "image/png": "[encoded data removed]",
      "text/plain": [
       "<Figure size 432x216 with 2 Axes>"
      ]
     },
     "metadata": {
      "needs_background": "light"
     },
     "output_type": "display_data"
    }
   ],
   "source": [
    "plt.figure(figsize=(12,7))\n",
    "plot = sns.FacetGrid(df, col='Survived')\n",
    "plot = plot.map(sns.distplot, \"Age\" , bins=20)\n",
    "plt.show()"
   ]
  },
  {
   "cell_type": "code",
   "execution_count": 52,
   "id": "6a0183dc",
   "metadata": {
    "execution": {
     "iopub.execute_input": "2022-10-24T17:16:05.180159Z",
     "iopub.status.busy": "2022-10-24T17:16:05.179588Z",
     "iopub.status.idle": "2022-10-24T17:16:05.496541Z",
     "shell.execute_reply": "2022-10-24T17:16:05.495460Z"
    },
    "papermill": {
     "duration": 0.367695,
     "end_time": "2022-10-24T17:16:05.498761",
     "exception": false,
     "start_time": "2022-10-24T17:16:05.131066",
     "status": "completed"
    },
    "tags": []
   },
   "outputs": [
    {
     "data": {
      "text/plain": [
       "<Figure size 864x504 with 0 Axes>"
      ]
     },
     "metadata": {},
     "output_type": "display_data"
    },
    {
     "data": {
      "image/png": "[encoded data removed]",
      "text/plain": [
       "<Figure size 432x216 with 2 Axes>"
      ]
     },
     "metadata": {
      "needs_background": "light"
     },
     "output_type": "display_data"
    }
   ],
   "source": [
    "plt.figure(figsize=(12,7))\n",
    "plot = sns.FacetGrid(df, col='Survived')\n",
    "plot.map(plt.hist, 'Age', bins=20)\n",
    "plt.show()"
   ]
  },
  {
   "cell_type": "code",
   "execution_count": 53,
   "id": "54752376",
   "metadata": {
    "execution": {
     "iopub.execute_input": "2022-10-24T17:16:05.594111Z",
     "iopub.status.busy": "2022-10-24T17:16:05.593730Z",
     "iopub.status.idle": "2022-10-24T17:16:05.773572Z",
     "shell.execute_reply": "2022-10-24T17:16:05.772936Z"
    },
    "papermill": {
     "duration": 0.22969,
     "end_time": "2022-10-24T17:16:05.775240",
     "exception": false,
     "start_time": "2022-10-24T17:16:05.545550",
     "status": "completed"
    },
    "tags": []
   },
   "outputs": [
    {
     "data": {
      "image/png": "[encoded data removed]",
      "text/plain": [
       "<Figure size 864x504 with 1 Axes>"
      ]
     },
     "metadata": {
      "needs_background": "light"
     },
     "output_type": "display_data"
    }
   ],
   "source": [
    "plt.figure(figsize=(12,7))\n",
    "sns.distplot(df['Age'],kde=True  )\n",
    "plt.show()"
   ]
  },
  {
   "cell_type": "code",
   "execution_count": 54,
   "id": "6f177b56",
   "metadata": {
    "execution": {
     "iopub.execute_input": "2022-10-24T17:16:05.870494Z",
     "iopub.status.busy": "2022-10-24T17:16:05.869354Z",
     "iopub.status.idle": "2022-10-24T17:16:06.052434Z",
     "shell.execute_reply": "2022-10-24T17:16:06.051165Z"
    },
    "papermill": {
     "duration": 0.232588,
     "end_time": "2022-10-24T17:16:06.054343",
     "exception": false,
     "start_time": "2022-10-24T17:16:05.821755",
     "status": "completed"
    },
    "tags": []
   },
   "outputs": [
    {
     "data": {
      "image/png": "[encoded data removed]",
      "text/plain": [
       "<Figure size 864x504 with 1 Axes>"
      ]
     },
     "metadata": {
      "needs_background": "light"
     },
     "output_type": "display_data"
    }
   ],
   "source": [
    "plt.figure(figsize=(12,7))\n",
    "sns.kdeplot(data=df, x=\"Age\", hue=\"Survived\",palette=\"Paired\", multiple=\"stack\")\n",
    "plt.show()\n"
   ]
  },
  {
   "cell_type": "markdown",
   "id": "2c5526f0",
   "metadata": {
    "papermill": {
     "duration": 0.089937,
     "end_time": "2022-10-24T17:16:06.191782",
     "exception": false,
     "start_time": "2022-10-24T17:16:06.101845",
     "status": "completed"
    },
    "tags": []
   },
   "source": [
    "## Summaries for age :\n",
    "#### - the destribution of survived  for range of age and not survived is almost the same  .\n",
    "#### - most survived is Females and the high class ticket .\n",
    "#### - young people age <= 10 survived .\n",
    "#### - arge number of 15-25 year olds did not survive .\n",
    "#### - most passengers are in 15-35 age range .\n",
    "\n",
    "\n"
   ]
  },
  {
   "cell_type": "markdown",
   "id": "264b7d94",
   "metadata": {
    "papermill": {
     "duration": 0.046748,
     "end_time": "2022-10-24T17:16:06.285814",
     "exception": false,
     "start_time": "2022-10-24T17:16:06.239066",
     "status": "completed"
    },
    "tags": []
   },
   "source": [
    "   "
   ]
  },
  {
   "cell_type": "markdown",
   "id": "6050794e",
   "metadata": {
    "papermill": {
     "duration": 0.046067,
     "end_time": "2022-10-24T17:16:06.379046",
     "exception": false,
     "start_time": "2022-10-24T17:16:06.332979",
     "status": "completed"
    },
    "tags": []
   },
   "source": [
    " "
   ]
  },
  {
   "cell_type": "markdown",
   "id": "509b596c",
   "metadata": {
    "papermill": {
     "duration": 0.05062,
     "end_time": "2022-10-24T17:16:06.475784",
     "exception": false,
     "start_time": "2022-10-24T17:16:06.425164",
     "status": "completed"
    },
    "tags": []
   },
   "source": [
    "   "
   ]
  },
  {
   "cell_type": "markdown",
   "id": "d992c5d2",
   "metadata": {
    "papermill": {
     "duration": 0.046232,
     "end_time": "2022-10-24T17:16:06.568468",
     "exception": false,
     "start_time": "2022-10-24T17:16:06.522236",
     "status": "completed"
    },
    "tags": []
   },
   "source": [
    " "
   ]
  },
  {
   "cell_type": "markdown",
   "id": "4cd376c3",
   "metadata": {
    "papermill": {
     "duration": 0.046383,
     "end_time": "2022-10-24T17:16:06.661641",
     "exception": false,
     "start_time": "2022-10-24T17:16:06.615258",
     "status": "completed"
    },
    "tags": []
   },
   "source": [
    "# Cabin vs Survivel"
   ]
  },
  {
   "cell_type": "code",
   "execution_count": 55,
   "id": "f7d50f74",
   "metadata": {
    "execution": {
     "iopub.execute_input": "2022-10-24T17:16:06.761451Z",
     "iopub.status.busy": "2022-10-24T17:16:06.760220Z",
     "iopub.status.idle": "2022-10-24T17:16:06.766582Z",
     "shell.execute_reply": "2022-10-24T17:16:06.765750Z"
    },
    "papermill": {
     "duration": 0.058059,
     "end_time": "2022-10-24T17:16:06.768552",
     "exception": false,
     "start_time": "2022-10-24T17:16:06.710493",
     "status": "completed"
    },
    "tags": []
   },
   "outputs": [
    {
     "data": {
      "text/plain": [
       "Index(['PassengerId', 'Survived', 'Pclass', 'Name', 'Sex', 'Age', 'SibSp',\n",
       "       'Parch', 'Ticket', 'Fare', 'Cabin', 'Embarked'],\n",
       "      dtype='object')"
      ]
     },
     "execution_count": 55,
     "metadata": {},
     "output_type": "execute_result"
    }
   ],
   "source": [
    "df.columns "
   ]
  },
  {
   "cell_type": "code",
   "execution_count": 56,
   "id": "6361ee9d",
   "metadata": {
    "execution": {
     "iopub.execute_input": "2022-10-24T17:16:06.864618Z",
     "iopub.status.busy": "2022-10-24T17:16:06.863819Z",
     "iopub.status.idle": "2022-10-24T17:16:06.877867Z",
     "shell.execute_reply": "2022-10-24T17:16:06.876808Z"
    },
    "papermill": {
     "duration": 0.064739,
     "end_time": "2022-10-24T17:16:06.880505",
     "exception": false,
     "start_time": "2022-10-24T17:16:06.815766",
     "status": "completed"
    },
    "tags": []
   },
   "outputs": [
    {
     "data": {
      "text/html": [
       "<div>\n",
       "<style scoped>\n",
       "    .dataframe tbody tr th:only-of-type {\n",
       "        vertical-align: middle;\n",
       "    }\n",
       "\n",
       "    .dataframe tbody tr th {\n",
       "        vertical-align: top;\n",
       "    }\n",
       "\n",
       "    .dataframe thead th {\n",
       "        text-align: right;\n",
       "    }\n",
       "</style>\n",
       "<table border=\"1\" class=\"dataframe\">\n",
       "  <thead>\n",
       "    <tr style=\"text-align: right;\">\n",
       "      <th></th>\n",
       "      <th>Cabin</th>\n",
       "      <th>count</th>\n",
       "    </tr>\n",
       "  </thead>\n",
       "  <tbody>\n",
       "    <tr>\n",
       "      <th>0</th>\n",
       "      <td>C23 C25 C27</td>\n",
       "      <td>6</td>\n",
       "    </tr>\n",
       "    <tr>\n",
       "      <th>1</th>\n",
       "      <td>G6</td>\n",
       "      <td>5</td>\n",
       "    </tr>\n",
       "    <tr>\n",
       "      <th>2</th>\n",
       "      <td>B57 B59 B63 B66</td>\n",
       "      <td>5</td>\n",
       "    </tr>\n",
       "    <tr>\n",
       "      <th>3</th>\n",
       "      <td>C22 C26</td>\n",
       "      <td>4</td>\n",
       "    </tr>\n",
       "    <tr>\n",
       "      <th>4</th>\n",
       "      <td>F33</td>\n",
       "      <td>4</td>\n",
       "    </tr>\n",
       "    <tr>\n",
       "      <th>...</th>\n",
       "      <td>...</td>\n",
       "      <td>...</td>\n",
       "    </tr>\n",
       "    <tr>\n",
       "      <th>181</th>\n",
       "      <td>A14</td>\n",
       "      <td>1</td>\n",
       "    </tr>\n",
       "    <tr>\n",
       "      <th>182</th>\n",
       "      <td>E63</td>\n",
       "      <td>1</td>\n",
       "    </tr>\n",
       "    <tr>\n",
       "      <th>183</th>\n",
       "      <td>E12</td>\n",
       "      <td>1</td>\n",
       "    </tr>\n",
       "    <tr>\n",
       "      <th>184</th>\n",
       "      <td>E38</td>\n",
       "      <td>1</td>\n",
       "    </tr>\n",
       "    <tr>\n",
       "      <th>185</th>\n",
       "      <td>C105</td>\n",
       "      <td>1</td>\n",
       "    </tr>\n",
       "  </tbody>\n",
       "</table>\n",
       "<p>186 rows × 2 columns</p>\n",
       "</div>"
      ],
      "text/plain": [
       "               Cabin  count\n",
       "0        C23 C25 C27      6\n",
       "1                 G6      5\n",
       "2    B57 B59 B63 B66      5\n",
       "3            C22 C26      4\n",
       "4                F33      4\n",
       "..               ...    ...\n",
       "181              A14      1\n",
       "182              E63      1\n",
       "183              E12      1\n",
       "184              E38      1\n",
       "185             C105      1\n",
       "\n",
       "[186 rows x 2 columns]"
      ]
     },
     "execution_count": 56,
     "metadata": {},
     "output_type": "execute_result"
    }
   ],
   "source": [
    "cabin=df[\"Cabin\"].value_counts().reset_index()\n",
    "cabin.columns=[\"Cabin\",\"count\"]\n",
    "cabin"
   ]
  },
  {
   "cell_type": "markdown",
   "id": "24c87390",
   "metadata": {
    "papermill": {
     "duration": 0.047347,
     "end_time": "2022-10-24T17:16:06.976016",
     "exception": false,
     "start_time": "2022-10-24T17:16:06.928669",
     "status": "completed"
    },
    "tags": []
   },
   "source": [
    " "
   ]
  },
  {
   "cell_type": "markdown",
   "id": "48f2740c",
   "metadata": {
    "papermill": {
     "duration": 0.04708,
     "end_time": "2022-10-24T17:16:07.070255",
     "exception": false,
     "start_time": "2022-10-24T17:16:07.023175",
     "status": "completed"
    },
    "tags": []
   },
   "source": [
    "     "
   ]
  },
  {
   "cell_type": "markdown",
   "id": "d7ceb9b3",
   "metadata": {
    "papermill": {
     "duration": 0.047609,
     "end_time": "2022-10-24T17:16:07.165937",
     "exception": false,
     "start_time": "2022-10-24T17:16:07.118328",
     "status": "completed"
    },
    "tags": []
   },
   "source": [
    "# Embarked vs Survived"
   ]
  },
  {
   "cell_type": "code",
   "execution_count": 57,
   "id": "21ac3185",
   "metadata": {
    "execution": {
     "iopub.execute_input": "2022-10-24T17:16:07.268034Z",
     "iopub.status.busy": "2022-10-24T17:16:07.266988Z",
     "iopub.status.idle": "2022-10-24T17:16:07.275821Z",
     "shell.execute_reply": "2022-10-24T17:16:07.274740Z"
    },
    "papermill": {
     "duration": 0.061815,
     "end_time": "2022-10-24T17:16:07.277625",
     "exception": false,
     "start_time": "2022-10-24T17:16:07.215810",
     "status": "completed"
    },
    "tags": []
   },
   "outputs": [
    {
     "name": "stdout",
     "output_type": "stream",
     "text": [
      "Number of people embarking in Southampton (S):\n",
      "914\n",
      "Number of people embarking in Cherbourg (C):\n",
      "270\n",
      "Number of people embarking in Queenstown (Q):\n",
      "123\n"
     ]
    }
   ],
   "source": [
    "#now we need to fill in the missing values in the Embarked feature\n",
    "print(\"Number of people embarking in Southampton (S):\")\n",
    "southampton = df[df[\"Embarked\"] == \"S\"].shape[0]\n",
    "print(southampton)\n",
    "\n",
    "print(\"Number of people embarking in Cherbourg (C):\")\n",
    "cherbourg = df[df[\"Embarked\"] == \"C\"].shape[0]\n",
    "print(cherbourg)\n",
    "\n",
    "print(\"Number of people embarking in Queenstown (Q):\")\n",
    "queenstown = df[df[\"Embarked\"] == \"Q\"].shape[0] \n",
    "print(queenstown)"
   ]
  },
  {
   "cell_type": "code",
   "execution_count": 58,
   "id": "f31477ec",
   "metadata": {
    "execution": {
     "iopub.execute_input": "2022-10-24T17:16:07.374063Z",
     "iopub.status.busy": "2022-10-24T17:16:07.373146Z",
     "iopub.status.idle": "2022-10-24T17:16:08.070917Z",
     "shell.execute_reply": "2022-10-24T17:16:08.070330Z"
    },
    "papermill": {
     "duration": 0.747024,
     "end_time": "2022-10-24T17:16:08.072497",
     "exception": false,
     "start_time": "2022-10-24T17:16:07.325473",
     "status": "completed"
    },
    "tags": []
   },
   "outputs": [
    {
     "data": {
      "text/plain": [
       "<seaborn.axisgrid.FacetGrid at 0x7f5b96c5fd10>"
      ]
     },
     "execution_count": 58,
     "metadata": {},
     "output_type": "execute_result"
    },
    {
     "data": {
      "image/png": "[encoded data removed]",
      "text/plain": [
       "<Figure size 514.88x475.2 with 6 Axes>"
      ]
     },
     "metadata": {
      "needs_background": "light"
     },
     "output_type": "display_data"
    }
   ],
   "source": [
    "grid = sns.FacetGrid(df, row='Embarked', col='Survived', size=2.2, aspect=1.6)\n",
    "grid.map(sns.barplot, 'Sex', 'Fare', alpha=.5, ci=None)\n",
    "grid.add_legend()"
   ]
  },
  {
   "cell_type": "code",
   "execution_count": 59,
   "id": "9345c3b8",
   "metadata": {
    "execution": {
     "iopub.execute_input": "2022-10-24T17:16:08.171468Z",
     "iopub.status.busy": "2022-10-24T17:16:08.170481Z",
     "iopub.status.idle": "2022-10-24T17:16:08.328195Z",
     "shell.execute_reply": "2022-10-24T17:16:08.327140Z"
    },
    "papermill": {
     "duration": 0.208876,
     "end_time": "2022-10-24T17:16:08.330338",
     "exception": false,
     "start_time": "2022-10-24T17:16:08.121462",
     "status": "completed"
    },
    "tags": []
   },
   "outputs": [
    {
     "data": {
      "image/png": "[encoded data removed]",
      "text/plain": [
       "<Figure size 720x432 with 1 Axes>"
      ]
     },
     "metadata": {
      "needs_background": "light"
     },
     "output_type": "display_data"
    }
   ],
   "source": [
    "plt.figure(figsize=(10, 6))\n",
    "sns.boxplot(y='Fare', data=df, x=\"Sex\" , hue =\"Survived\" ,palette=\"Paired\")\n",
    "plt.title('Fare value vs survived for each gender', fontsize=14)\n",
    "plt.xlabel('Sex', fontsize=14 )\n",
    "plt.ylabel('Fare', fontsize=14)\n",
    "plt.show()"
   ]
  },
  {
   "cell_type": "code",
   "execution_count": null,
   "id": "1221aba5",
   "metadata": {
    "papermill": {
     "duration": 0.04784,
     "end_time": "2022-10-24T17:16:08.426981",
     "exception": false,
     "start_time": "2022-10-24T17:16:08.379141",
     "status": "completed"
    },
    "tags": []
   },
   "outputs": [],
   "source": []
  },
  {
   "cell_type": "markdown",
   "id": "b6f1f873",
   "metadata": {
    "papermill": {
     "duration": 0.047935,
     "end_time": "2022-10-24T17:16:08.522842",
     "exception": false,
     "start_time": "2022-10-24T17:16:08.474907",
     "status": "completed"
    },
    "tags": []
   },
   "source": [
    "  "
   ]
  },
  {
   "cell_type": "code",
   "execution_count": null,
   "id": "995fab4b",
   "metadata": {
    "papermill": {
     "duration": 0.047881,
     "end_time": "2022-10-24T17:16:08.619316",
     "exception": false,
     "start_time": "2022-10-24T17:16:08.571435",
     "status": "completed"
    },
    "tags": []
   },
   "outputs": [],
   "source": []
  },
  {
   "cell_type": "markdown",
   "id": "d61739c2",
   "metadata": {
    "papermill": {
     "duration": 0.048301,
     "end_time": "2022-10-24T17:16:08.715737",
     "exception": false,
     "start_time": "2022-10-24T17:16:08.667436",
     "status": "completed"
    },
    "tags": []
   },
   "source": [
    "   "
   ]
  },
  {
   "cell_type": "markdown",
   "id": "92d3eec3",
   "metadata": {
    "papermill": {
     "duration": 0.048484,
     "end_time": "2022-10-24T17:16:08.812973",
     "exception": false,
     "start_time": "2022-10-24T17:16:08.764489",
     "status": "completed"
    },
    "tags": []
   },
   "source": [
    "# **Data preparation** :"
   ]
  },
  {
   "cell_type": "markdown",
   "id": "053bda4f",
   "metadata": {
    "papermill": {
     "duration": 0.048889,
     "end_time": "2022-10-24T17:16:08.910402",
     "exception": false,
     "start_time": "2022-10-24T17:16:08.861513",
     "status": "completed"
    },
    "tags": []
   },
   "source": [
    "### Feature engnerring"
   ]
  },
  {
   "cell_type": "code",
   "execution_count": 60,
   "id": "0580da30",
   "metadata": {
    "execution": {
     "iopub.execute_input": "2022-10-24T17:16:09.011460Z",
     "iopub.status.busy": "2022-10-24T17:16:09.011039Z",
     "iopub.status.idle": "2022-10-24T17:16:09.016665Z",
     "shell.execute_reply": "2022-10-24T17:16:09.016070Z"
    },
    "papermill": {
     "duration": 0.058463,
     "end_time": "2022-10-24T17:16:09.018224",
     "exception": false,
     "start_time": "2022-10-24T17:16:08.959761",
     "status": "completed"
    },
    "tags": []
   },
   "outputs": [
    {
     "data": {
      "text/plain": [
       "Index(['PassengerId', 'Survived', 'Pclass', 'Name', 'Sex', 'Age', 'SibSp',\n",
       "       'Parch', 'Ticket', 'Fare', 'Cabin', 'Embarked'],\n",
       "      dtype='object')"
      ]
     },
     "execution_count": 60,
     "metadata": {},
     "output_type": "execute_result"
    }
   ],
   "source": [
    "df.columns"
   ]
  },
  {
   "cell_type": "code",
   "execution_count": 61,
   "id": "609957dd",
   "metadata": {
    "execution": {
     "iopub.execute_input": "2022-10-24T17:16:09.121700Z",
     "iopub.status.busy": "2022-10-24T17:16:09.121041Z",
     "iopub.status.idle": "2022-10-24T17:16:09.147315Z",
     "shell.execute_reply": "2022-10-24T17:16:09.146683Z"
    },
    "papermill": {
     "duration": 0.080387,
     "end_time": "2022-10-24T17:16:09.149068",
     "exception": false,
     "start_time": "2022-10-24T17:16:09.068681",
     "status": "completed"
    },
    "tags": []
   },
   "outputs": [
    {
     "data": {
      "text/html": [
       "<div>\n",
       "<style scoped>\n",
       "    .dataframe tbody tr th:only-of-type {\n",
       "        vertical-align: middle;\n",
       "    }\n",
       "\n",
       "    .dataframe tbody tr th {\n",
       "        vertical-align: top;\n",
       "    }\n",
       "\n",
       "    .dataframe thead th {\n",
       "        text-align: right;\n",
       "    }\n",
       "</style>\n",
       "<table border=\"1\" class=\"dataframe\">\n",
       "  <thead>\n",
       "    <tr style=\"text-align: right;\">\n",
       "      <th></th>\n",
       "      <th>Survived</th>\n",
       "      <th>Pclass</th>\n",
       "      <th>Sex</th>\n",
       "      <th>Age</th>\n",
       "      <th>SibSp</th>\n",
       "      <th>Parch</th>\n",
       "      <th>Fare</th>\n",
       "      <th>Embarked</th>\n",
       "    </tr>\n",
       "  </thead>\n",
       "  <tbody>\n",
       "    <tr>\n",
       "      <th>0</th>\n",
       "      <td>0.0</td>\n",
       "      <td>3</td>\n",
       "      <td>male</td>\n",
       "      <td>22.0</td>\n",
       "      <td>1</td>\n",
       "      <td>0</td>\n",
       "      <td>7.2500</td>\n",
       "      <td>S</td>\n",
       "    </tr>\n",
       "    <tr>\n",
       "      <th>1</th>\n",
       "      <td>1.0</td>\n",
       "      <td>1</td>\n",
       "      <td>female</td>\n",
       "      <td>38.0</td>\n",
       "      <td>1</td>\n",
       "      <td>0</td>\n",
       "      <td>71.2833</td>\n",
       "      <td>C</td>\n",
       "    </tr>\n",
       "    <tr>\n",
       "      <th>2</th>\n",
       "      <td>1.0</td>\n",
       "      <td>3</td>\n",
       "      <td>female</td>\n",
       "      <td>26.0</td>\n",
       "      <td>0</td>\n",
       "      <td>0</td>\n",
       "      <td>7.9250</td>\n",
       "      <td>S</td>\n",
       "    </tr>\n",
       "    <tr>\n",
       "      <th>3</th>\n",
       "      <td>1.0</td>\n",
       "      <td>1</td>\n",
       "      <td>female</td>\n",
       "      <td>35.0</td>\n",
       "      <td>1</td>\n",
       "      <td>0</td>\n",
       "      <td>53.1000</td>\n",
       "      <td>S</td>\n",
       "    </tr>\n",
       "    <tr>\n",
       "      <th>4</th>\n",
       "      <td>0.0</td>\n",
       "      <td>3</td>\n",
       "      <td>male</td>\n",
       "      <td>35.0</td>\n",
       "      <td>0</td>\n",
       "      <td>0</td>\n",
       "      <td>8.0500</td>\n",
       "      <td>S</td>\n",
       "    </tr>\n",
       "    <tr>\n",
       "      <th>...</th>\n",
       "      <td>...</td>\n",
       "      <td>...</td>\n",
       "      <td>...</td>\n",
       "      <td>...</td>\n",
       "      <td>...</td>\n",
       "      <td>...</td>\n",
       "      <td>...</td>\n",
       "      <td>...</td>\n",
       "    </tr>\n",
       "    <tr>\n",
       "      <th>1304</th>\n",
       "      <td>NaN</td>\n",
       "      <td>3</td>\n",
       "      <td>male</td>\n",
       "      <td>NaN</td>\n",
       "      <td>0</td>\n",
       "      <td>0</td>\n",
       "      <td>8.0500</td>\n",
       "      <td>S</td>\n",
       "    </tr>\n",
       "    <tr>\n",
       "      <th>1305</th>\n",
       "      <td>NaN</td>\n",
       "      <td>1</td>\n",
       "      <td>female</td>\n",
       "      <td>39.0</td>\n",
       "      <td>0</td>\n",
       "      <td>0</td>\n",
       "      <td>108.9000</td>\n",
       "      <td>C</td>\n",
       "    </tr>\n",
       "    <tr>\n",
       "      <th>1306</th>\n",
       "      <td>NaN</td>\n",
       "      <td>3</td>\n",
       "      <td>male</td>\n",
       "      <td>38.5</td>\n",
       "      <td>0</td>\n",
       "      <td>0</td>\n",
       "      <td>7.2500</td>\n",
       "      <td>S</td>\n",
       "    </tr>\n",
       "    <tr>\n",
       "      <th>1307</th>\n",
       "      <td>NaN</td>\n",
       "      <td>3</td>\n",
       "      <td>male</td>\n",
       "      <td>NaN</td>\n",
       "      <td>0</td>\n",
       "      <td>0</td>\n",
       "      <td>8.0500</td>\n",
       "      <td>S</td>\n",
       "    </tr>\n",
       "    <tr>\n",
       "      <th>1308</th>\n",
       "      <td>NaN</td>\n",
       "      <td>3</td>\n",
       "      <td>male</td>\n",
       "      <td>NaN</td>\n",
       "      <td>1</td>\n",
       "      <td>1</td>\n",
       "      <td>22.3583</td>\n",
       "      <td>C</td>\n",
       "    </tr>\n",
       "  </tbody>\n",
       "</table>\n",
       "<p>1309 rows × 8 columns</p>\n",
       "</div>"
      ],
      "text/plain": [
       "      Survived  Pclass     Sex   Age  SibSp  Parch      Fare Embarked\n",
       "0          0.0       3    male  22.0      1      0    7.2500        S\n",
       "1          1.0       1  female  38.0      1      0   71.2833        C\n",
       "2          1.0       3  female  26.0      0      0    7.9250        S\n",
       "3          1.0       1  female  35.0      1      0   53.1000        S\n",
       "4          0.0       3    male  35.0      0      0    8.0500        S\n",
       "...        ...     ...     ...   ...    ...    ...       ...      ...\n",
       "1304       NaN       3    male   NaN      0      0    8.0500        S\n",
       "1305       NaN       1  female  39.0      0      0  108.9000        C\n",
       "1306       NaN       3    male  38.5      0      0    7.2500        S\n",
       "1307       NaN       3    male   NaN      0      0    8.0500        S\n",
       "1308       NaN       3    male   NaN      1      1   22.3583        C\n",
       "\n",
       "[1309 rows x 8 columns]"
      ]
     },
     "execution_count": 61,
     "metadata": {},
     "output_type": "execute_result"
    }
   ],
   "source": [
    "df.drop([\"PassengerId\",\"Name\",'Ticket','Cabin'] , axis=1)"
   ]
  },
  {
   "cell_type": "code",
   "execution_count": 62,
   "id": "da2ac045",
   "metadata": {
    "execution": {
     "iopub.execute_input": "2022-10-24T17:16:09.247644Z",
     "iopub.status.busy": "2022-10-24T17:16:09.247144Z",
     "iopub.status.idle": "2022-10-24T17:16:09.252930Z",
     "shell.execute_reply": "2022-10-24T17:16:09.251907Z"
    },
    "papermill": {
     "duration": 0.057489,
     "end_time": "2022-10-24T17:16:09.255410",
     "exception": false,
     "start_time": "2022-10-24T17:16:09.197921",
     "status": "completed"
    },
    "tags": []
   },
   "outputs": [],
   "source": [
    "df.dropna(subset=['Survived'],inplace = True)"
   ]
  },
  {
   "cell_type": "code",
   "execution_count": null,
   "id": "8b7566dc",
   "metadata": {
    "papermill": {
     "duration": 0.049795,
     "end_time": "2022-10-24T17:16:09.355329",
     "exception": false,
     "start_time": "2022-10-24T17:16:09.305534",
     "status": "completed"
    },
    "tags": []
   },
   "outputs": [],
   "source": []
  },
  {
   "cell_type": "code",
   "execution_count": 63,
   "id": "c62bd747",
   "metadata": {
    "execution": {
     "iopub.execute_input": "2022-10-24T17:16:09.455237Z",
     "iopub.status.busy": "2022-10-24T17:16:09.454656Z",
     "iopub.status.idle": "2022-10-24T17:16:09.471515Z",
     "shell.execute_reply": "2022-10-24T17:16:09.470738Z"
    },
    "papermill": {
     "duration": 0.069489,
     "end_time": "2022-10-24T17:16:09.473758",
     "exception": false,
     "start_time": "2022-10-24T17:16:09.404269",
     "status": "completed"
    },
    "tags": []
   },
   "outputs": [],
   "source": [
    "for i in df:\n",
    "    df['Title'] = df[\"Name\"].str.extract(' ([A-Za-z]+)\\.', expand=False)"
   ]
  },
  {
   "cell_type": "code",
   "execution_count": 64,
   "id": "4dca750a",
   "metadata": {
    "execution": {
     "iopub.execute_input": "2022-10-24T17:16:09.574940Z",
     "iopub.status.busy": "2022-10-24T17:16:09.574239Z",
     "iopub.status.idle": "2022-10-24T17:16:09.601569Z",
     "shell.execute_reply": "2022-10-24T17:16:09.600866Z"
    },
    "papermill": {
     "duration": 0.080655,
     "end_time": "2022-10-24T17:16:09.603768",
     "exception": false,
     "start_time": "2022-10-24T17:16:09.523113",
     "status": "completed"
    },
    "tags": []
   },
   "outputs": [],
   "source": [
    "for i in df:\n",
    "    df['Title'] = df['Title'].replace(['Lady', 'Countess','Capt', 'Col',\\\n",
    " \t'Don', 'Dr', 'Major', 'Rev', 'Sir', 'Jonkheer', 'Dona'], 'Rare')\n",
    "\n",
    "    df['Title'] = df['Title'].replace('Mlle', 'Miss')\n",
    "    df['Title'] = df['Title'].replace('Ms', 'Miss')\n",
    "    df['Title'] = df['Title'].replace('Mme', 'Mrs')"
   ]
  },
  {
   "cell_type": "code",
   "execution_count": 65,
   "id": "36994b04",
   "metadata": {
    "execution": {
     "iopub.execute_input": "2022-10-24T17:16:09.703545Z",
     "iopub.status.busy": "2022-10-24T17:16:09.703184Z",
     "iopub.status.idle": "2022-10-24T17:16:09.719924Z",
     "shell.execute_reply": "2022-10-24T17:16:09.719340Z"
    },
    "papermill": {
     "duration": 0.068132,
     "end_time": "2022-10-24T17:16:09.721479",
     "exception": false,
     "start_time": "2022-10-24T17:16:09.653347",
     "status": "completed"
    },
    "tags": []
   },
   "outputs": [
    {
     "data": {
      "text/html": [
       "<div>\n",
       "<style scoped>\n",
       "    .dataframe tbody tr th:only-of-type {\n",
       "        vertical-align: middle;\n",
       "    }\n",
       "\n",
       "    .dataframe tbody tr th {\n",
       "        vertical-align: top;\n",
       "    }\n",
       "\n",
       "    .dataframe thead th {\n",
       "        text-align: right;\n",
       "    }\n",
       "</style>\n",
       "<table border=\"1\" class=\"dataframe\">\n",
       "  <thead>\n",
       "    <tr style=\"text-align: right;\">\n",
       "      <th></th>\n",
       "      <th>FamilySize</th>\n",
       "      <th>Survived</th>\n",
       "    </tr>\n",
       "  </thead>\n",
       "  <tbody>\n",
       "    <tr>\n",
       "      <th>3</th>\n",
       "      <td>4</td>\n",
       "      <td>0.724138</td>\n",
       "    </tr>\n",
       "    <tr>\n",
       "      <th>2</th>\n",
       "      <td>3</td>\n",
       "      <td>0.578431</td>\n",
       "    </tr>\n",
       "    <tr>\n",
       "      <th>1</th>\n",
       "      <td>2</td>\n",
       "      <td>0.552795</td>\n",
       "    </tr>\n",
       "    <tr>\n",
       "      <th>6</th>\n",
       "      <td>7</td>\n",
       "      <td>0.333333</td>\n",
       "    </tr>\n",
       "    <tr>\n",
       "      <th>0</th>\n",
       "      <td>1</td>\n",
       "      <td>0.303538</td>\n",
       "    </tr>\n",
       "    <tr>\n",
       "      <th>4</th>\n",
       "      <td>5</td>\n",
       "      <td>0.200000</td>\n",
       "    </tr>\n",
       "    <tr>\n",
       "      <th>5</th>\n",
       "      <td>6</td>\n",
       "      <td>0.136364</td>\n",
       "    </tr>\n",
       "    <tr>\n",
       "      <th>7</th>\n",
       "      <td>8</td>\n",
       "      <td>0.000000</td>\n",
       "    </tr>\n",
       "    <tr>\n",
       "      <th>8</th>\n",
       "      <td>11</td>\n",
       "      <td>0.000000</td>\n",
       "    </tr>\n",
       "  </tbody>\n",
       "</table>\n",
       "</div>"
      ],
      "text/plain": [
       "   FamilySize  Survived\n",
       "3           4  0.724138\n",
       "2           3  0.578431\n",
       "1           2  0.552795\n",
       "6           7  0.333333\n",
       "0           1  0.303538\n",
       "4           5  0.200000\n",
       "5           6  0.136364\n",
       "7           8  0.000000\n",
       "8          11  0.000000"
      ]
     },
     "execution_count": 65,
     "metadata": {},
     "output_type": "execute_result"
    }
   ],
   "source": [
    "for i in df:\n",
    "    df['FamilySize'] = df['SibSp'] + df['Parch'] + 1\n",
    "\n",
    "df[['FamilySize', 'Survived']].groupby(['FamilySize'], as_index=False).mean().sort_values(by='Survived', ascending=False)"
   ]
  },
  {
   "cell_type": "code",
   "execution_count": 66,
   "id": "08aae714",
   "metadata": {
    "execution": {
     "iopub.execute_input": "2022-10-24T17:16:09.820657Z",
     "iopub.status.busy": "2022-10-24T17:16:09.820109Z",
     "iopub.status.idle": "2022-10-24T17:16:09.838407Z",
     "shell.execute_reply": "2022-10-24T17:16:09.837687Z"
    },
    "papermill": {
     "duration": 0.069575,
     "end_time": "2022-10-24T17:16:09.840046",
     "exception": false,
     "start_time": "2022-10-24T17:16:09.770471",
     "status": "completed"
    },
    "tags": []
   },
   "outputs": [
    {
     "data": {
      "text/html": [
       "<div>\n",
       "<style scoped>\n",
       "    .dataframe tbody tr th:only-of-type {\n",
       "        vertical-align: middle;\n",
       "    }\n",
       "\n",
       "    .dataframe tbody tr th {\n",
       "        vertical-align: top;\n",
       "    }\n",
       "\n",
       "    .dataframe thead th {\n",
       "        text-align: right;\n",
       "    }\n",
       "</style>\n",
       "<table border=\"1\" class=\"dataframe\">\n",
       "  <thead>\n",
       "    <tr style=\"text-align: right;\">\n",
       "      <th></th>\n",
       "      <th>IsAlone</th>\n",
       "      <th>Survived</th>\n",
       "    </tr>\n",
       "  </thead>\n",
       "  <tbody>\n",
       "    <tr>\n",
       "      <th>0</th>\n",
       "      <td>0</td>\n",
       "      <td>0.505650</td>\n",
       "    </tr>\n",
       "    <tr>\n",
       "      <th>1</th>\n",
       "      <td>1</td>\n",
       "      <td>0.303538</td>\n",
       "    </tr>\n",
       "  </tbody>\n",
       "</table>\n",
       "</div>"
      ],
      "text/plain": [
       "   IsAlone  Survived\n",
       "0        0  0.505650\n",
       "1        1  0.303538"
      ]
     },
     "execution_count": 66,
     "metadata": {},
     "output_type": "execute_result"
    }
   ],
   "source": [
    "for i in df:\n",
    "    df['IsAlone'] = 0\n",
    "    df.loc[df['FamilySize'] == 1, 'IsAlone'] = 1\n",
    "\n",
    "df[['IsAlone', 'Survived']].groupby(['IsAlone'], as_index=False).mean()"
   ]
  },
  {
   "cell_type": "code",
   "execution_count": 67,
   "id": "c6623931",
   "metadata": {
    "execution": {
     "iopub.execute_input": "2022-10-24T17:16:09.941569Z",
     "iopub.status.busy": "2022-10-24T17:16:09.940498Z",
     "iopub.status.idle": "2022-10-24T17:16:09.946553Z",
     "shell.execute_reply": "2022-10-24T17:16:09.945808Z"
    },
    "papermill": {
     "duration": 0.058492,
     "end_time": "2022-10-24T17:16:09.948205",
     "exception": false,
     "start_time": "2022-10-24T17:16:09.889713",
     "status": "completed"
    },
    "tags": []
   },
   "outputs": [],
   "source": [
    "## Split all Dataset to Feature & Target\n",
    "X = df.drop(columns=['Survived' ,'Name','Ticket','Cabin'], axis=1)   ## Features\n",
    "y = df['Survived']   ## target"
   ]
  },
  {
   "cell_type": "markdown",
   "id": "306bd106",
   "metadata": {
    "papermill": {
     "duration": 0.051149,
     "end_time": "2022-10-24T17:16:10.047880",
     "exception": false,
     "start_time": "2022-10-24T17:16:09.996731",
     "status": "completed"
    },
    "tags": []
   },
   "source": [
    "### Splting data to train and test :"
   ]
  },
  {
   "cell_type": "code",
   "execution_count": 68,
   "id": "122fcba2",
   "metadata": {
    "execution": {
     "iopub.execute_input": "2022-10-24T17:16:10.150683Z",
     "iopub.status.busy": "2022-10-24T17:16:10.150110Z",
     "iopub.status.idle": "2022-10-24T17:16:10.155749Z",
     "shell.execute_reply": "2022-10-24T17:16:10.155172Z"
    },
    "papermill": {
     "duration": 0.059051,
     "end_time": "2022-10-24T17:16:10.157486",
     "exception": false,
     "start_time": "2022-10-24T17:16:10.098435",
     "status": "completed"
    },
    "tags": []
   },
   "outputs": [],
   "source": [
    "X_train, X_test, y_train, y_test = train_test_split(X, y, test_size=0.15, shuffle=True, random_state=1, stratify=None)"
   ]
  },
  {
   "cell_type": "markdown",
   "id": "c1089148",
   "metadata": {
    "papermill": {
     "duration": 0.049828,
     "end_time": "2022-10-24T17:16:10.258498",
     "exception": false,
     "start_time": "2022-10-24T17:16:10.208670",
     "status": "completed"
    },
    "tags": []
   },
   "source": [
    " "
   ]
  },
  {
   "cell_type": "code",
   "execution_count": 69,
   "id": "ef0af1bf",
   "metadata": {
    "execution": {
     "iopub.execute_input": "2022-10-24T17:16:10.359114Z",
     "iopub.status.busy": "2022-10-24T17:16:10.358559Z",
     "iopub.status.idle": "2022-10-24T17:16:10.364015Z",
     "shell.execute_reply": "2022-10-24T17:16:10.363457Z"
    },
    "papermill": {
     "duration": 0.058108,
     "end_time": "2022-10-24T17:16:10.365680",
     "exception": false,
     "start_time": "2022-10-24T17:16:10.307572",
     "status": "completed"
    },
    "tags": []
   },
   "outputs": [],
   "source": [
    "## Separete the columns according to type (numerical or categorical)\n",
    "num_cols = [col for col in X_train.columns if X_train[col].dtype in ['float32', 'float64', 'int32', 'int64']]\n",
    "categ_cols = [col for col in X_train.columns if X_train[col].dtype not in ['float32', 'float64', 'int32', 'int64']]"
   ]
  },
  {
   "cell_type": "code",
   "execution_count": 70,
   "id": "7340ae76",
   "metadata": {
    "execution": {
     "iopub.execute_input": "2022-10-24T17:16:10.466742Z",
     "iopub.status.busy": "2022-10-24T17:16:10.466183Z",
     "iopub.status.idle": "2022-10-24T17:16:10.471626Z",
     "shell.execute_reply": "2022-10-24T17:16:10.470611Z"
    },
    "papermill": {
     "duration": 0.058482,
     "end_time": "2022-10-24T17:16:10.473583",
     "exception": false,
     "start_time": "2022-10-24T17:16:10.415101",
     "status": "completed"
    },
    "tags": []
   },
   "outputs": [
    {
     "name": "stdout",
     "output_type": "stream",
     "text": [
      "Numerical Columns : \n",
      " ['PassengerId', 'Pclass', 'Age', 'SibSp', 'Parch', 'Fare', 'FamilySize', 'IsAlone']\n",
      "Categorical Columns : \n",
      " ['Sex', 'Embarked', 'Title']\n"
     ]
    }
   ],
   "source": [
    "print('Numerical Columns : \\n', num_cols)\n",
    "print('Categorical Columns : \\n', categ_cols)"
   ]
  },
  {
   "cell_type": "code",
   "execution_count": 71,
   "id": "ba32eefa",
   "metadata": {
    "execution": {
     "iopub.execute_input": "2022-10-24T17:16:10.574320Z",
     "iopub.status.busy": "2022-10-24T17:16:10.573950Z",
     "iopub.status.idle": "2022-10-24T17:16:10.578641Z",
     "shell.execute_reply": "2022-10-24T17:16:10.577761Z"
    },
    "papermill": {
     "duration": 0.057973,
     "end_time": "2022-10-24T17:16:10.580977",
     "exception": false,
     "start_time": "2022-10-24T17:16:10.523004",
     "status": "completed"
    },
    "tags": []
   },
   "outputs": [],
   "source": [
    "standardizer = StandardScaler()"
   ]
  },
  {
   "cell_type": "code",
   "execution_count": 72,
   "id": "17a4d26a",
   "metadata": {
    "execution": {
     "iopub.execute_input": "2022-10-24T17:16:10.685122Z",
     "iopub.status.busy": "2022-10-24T17:16:10.684752Z",
     "iopub.status.idle": "2022-10-24T17:16:10.689692Z",
     "shell.execute_reply": "2022-10-24T17:16:10.688674Z"
    },
    "papermill": {
     "duration": 0.059993,
     "end_time": "2022-10-24T17:16:10.691642",
     "exception": false,
     "start_time": "2022-10-24T17:16:10.631649",
     "status": "completed"
    },
    "tags": []
   },
   "outputs": [],
   "source": [
    "imputer = SimpleImputer()"
   ]
  },
  {
   "cell_type": "code",
   "execution_count": 73,
   "id": "42103bd5",
   "metadata": {
    "execution": {
     "iopub.execute_input": "2022-10-24T17:16:10.793466Z",
     "iopub.status.busy": "2022-10-24T17:16:10.793128Z",
     "iopub.status.idle": "2022-10-24T17:16:10.797692Z",
     "shell.execute_reply": "2022-10-24T17:16:10.796642Z"
    },
    "papermill": {
     "duration": 0.057258,
     "end_time": "2022-10-24T17:16:10.799393",
     "exception": false,
     "start_time": "2022-10-24T17:16:10.742135",
     "status": "completed"
    },
    "tags": []
   },
   "outputs": [],
   "source": [
    "Label_encoder = LabelEncoder()"
   ]
  },
  {
   "cell_type": "code",
   "execution_count": 74,
   "id": "d8d268bd",
   "metadata": {
    "execution": {
     "iopub.execute_input": "2022-10-24T17:16:10.900899Z",
     "iopub.status.busy": "2022-10-24T17:16:10.900532Z",
     "iopub.status.idle": "2022-10-24T17:16:10.906562Z",
     "shell.execute_reply": "2022-10-24T17:16:10.905686Z"
    },
    "papermill": {
     "duration": 0.058692,
     "end_time": "2022-10-24T17:16:10.908146",
     "exception": false,
     "start_time": "2022-10-24T17:16:10.849454",
     "status": "completed"
    },
    "tags": []
   },
   "outputs": [],
   "source": [
    "\n",
    "## numerical pipeline\n",
    "num_pipeline = Pipeline([\n",
    "                        ('selector', DataFrameSelector(num_cols)),    \n",
    "                        ('imputer', SimpleImputer(strategy='median')),\n",
    "                        ('scaler', StandardScaler())\n",
    "                        ])\n",
    "\n",
    "## categorical pipeline\n",
    "categ_pipeline = Pipeline(steps=[\n",
    "            ('selector', DataFrameSelector(categ_cols)),    \n",
    "            ('imputer', SimpleImputer(strategy='most_frequent', fill_value='missing')),\n",
    "            ('OHE', OneHotEncoder(sparse=False))])\n",
    "\n",
    "\n"
   ]
  },
  {
   "cell_type": "code",
   "execution_count": 75,
   "id": "93eaea04",
   "metadata": {
    "execution": {
     "iopub.execute_input": "2022-10-24T17:16:11.007710Z",
     "iopub.status.busy": "2022-10-24T17:16:11.007335Z",
     "iopub.status.idle": "2022-10-24T17:16:11.028255Z",
     "shell.execute_reply": "2022-10-24T17:16:11.027643Z"
    },
    "papermill": {
     "duration": 0.073732,
     "end_time": "2022-10-24T17:16:11.030837",
     "exception": false,
     "start_time": "2022-10-24T17:16:10.957105",
     "status": "completed"
    },
    "tags": []
   },
   "outputs": [],
   "source": [
    "total_pipeline = FeatureUnion(transformer_list=[\n",
    "                                            ('num_pipeline', num_pipeline),\n",
    "                                            ('categ_pipeline', categ_pipeline)\n",
    "                                               ]\n",
    "                             )\n",
    "## deal with (total_pipeline) as an instance -- fit and transform to train dataset and transform only to other datasets\n",
    "X_train_final = total_pipeline.fit_transform(X_train)\n",
    "X_test_final = total_pipeline.transform(X_test)     "
   ]
  },
  {
   "cell_type": "code",
   "execution_count": 76,
   "id": "5432e9f8",
   "metadata": {
    "execution": {
     "iopub.execute_input": "2022-10-24T17:16:11.134474Z",
     "iopub.status.busy": "2022-10-24T17:16:11.133739Z",
     "iopub.status.idle": "2022-10-24T17:16:11.137541Z",
     "shell.execute_reply": "2022-10-24T17:16:11.136727Z"
    },
    "papermill": {
     "duration": 0.056486,
     "end_time": "2022-10-24T17:16:11.139084",
     "exception": false,
     "start_time": "2022-10-24T17:16:11.082598",
     "status": "completed"
    },
    "tags": []
   },
   "outputs": [],
   "source": [
    "#"
   ]
  },
  {
   "cell_type": "code",
   "execution_count": 77,
   "id": "d5c26bd0",
   "metadata": {
    "execution": {
     "iopub.execute_input": "2022-10-24T17:16:11.242402Z",
     "iopub.status.busy": "2022-10-24T17:16:11.241786Z",
     "iopub.status.idle": "2022-10-24T17:16:11.245323Z",
     "shell.execute_reply": "2022-10-24T17:16:11.244530Z"
    },
    "papermill": {
     "duration": 0.057871,
     "end_time": "2022-10-24T17:16:11.247369",
     "exception": false,
     "start_time": "2022-10-24T17:16:11.189498",
     "status": "completed"
    },
    "tags": []
   },
   "outputs": [],
   "source": [
    "# #with numerical data will use meadian imputation Using SimpleImputer\n",
    "# imputer = SimpleImputer(strategy='median')   ## Intialization\n",
    "# imputer.fit(X_train[num_cols])   ## learn "
   ]
  },
  {
   "cell_type": "code",
   "execution_count": null,
   "id": "8289d277",
   "metadata": {
    "papermill": {
     "duration": 0.050234,
     "end_time": "2022-10-24T17:16:11.349209",
     "exception": false,
     "start_time": "2022-10-24T17:16:11.298975",
     "status": "completed"
    },
    "tags": []
   },
   "outputs": [],
   "source": []
  },
  {
   "cell_type": "markdown",
   "id": "2badce57",
   "metadata": {
    "papermill": {
     "duration": 0.04831,
     "end_time": "2022-10-24T17:16:11.448972",
     "exception": false,
     "start_time": "2022-10-24T17:16:11.400662",
     "status": "completed"
    },
    "tags": []
   },
   "source": [
    "# Imputing Missing Categorical  Data  :\n",
    "### An alternative solution is to fill in missing values with the feature’s most frequent value instead of  (KNN) classifier "
   ]
  },
  {
   "cell_type": "code",
   "execution_count": 78,
   "id": "beef6e4b",
   "metadata": {
    "execution": {
     "iopub.execute_input": "2022-10-24T17:16:11.550604Z",
     "iopub.status.busy": "2022-10-24T17:16:11.549959Z",
     "iopub.status.idle": "2022-10-24T17:16:11.555172Z",
     "shell.execute_reply": "2022-10-24T17:16:11.554161Z"
    },
    "papermill": {
     "duration": 0.058851,
     "end_time": "2022-10-24T17:16:11.556954",
     "exception": false,
     "start_time": "2022-10-24T17:16:11.498103",
     "status": "completed"
    },
    "tags": []
   },
   "outputs": [],
   "source": [
    "# #with caltegorical data will use  most freuqnt imputation stratigy  Using SimpleImputer\n",
    "# imputer = SimpleImputer(strategy='most_frequent')   ## Intialization\n",
    "# imputer.fit(X_train[categ_cols])   ## learn \n",
    "# ## Transform\n",
    "# X_train_filled = imputer.transform(X_train[categ_cols])\n",
    "# X_test_filled = imputer.transform(X_test[categ_cols])"
   ]
  },
  {
   "cell_type": "markdown",
   "id": "4803c3f7",
   "metadata": {
    "papermill": {
     "duration": 0.050631,
     "end_time": "2022-10-24T17:16:11.658965",
     "exception": false,
     "start_time": "2022-10-24T17:16:11.608334",
     "status": "completed"
    },
    "tags": []
   },
   "source": [
    "# Standardize the feature :"
   ]
  },
  {
   "cell_type": "code",
   "execution_count": 79,
   "id": "7eb6b8e1",
   "metadata": {
    "execution": {
     "iopub.execute_input": "2022-10-24T17:16:11.763424Z",
     "iopub.status.busy": "2022-10-24T17:16:11.763007Z",
     "iopub.status.idle": "2022-10-24T17:16:11.768120Z",
     "shell.execute_reply": "2022-10-24T17:16:11.766615Z"
    },
    "papermill": {
     "duration": 0.060202,
     "end_time": "2022-10-24T17:16:11.770464",
     "exception": false,
     "start_time": "2022-10-24T17:16:11.710262",
     "status": "completed"
    },
    "tags": []
   },
   "outputs": [],
   "source": [
    "# ## StandardScaler for each Feature to be (mean=0, std=1)\n",
    "# ## This techniques helps for better training and to converge faster and put all features in the same scale\n",
    "# scaler = StandardScaler()  \n",
    "\n",
    "# ## Learn and Transform in one step for train set , and transform only for test set\n",
    "# X_train_scaled = scaler.fit_transform(X_train_filled)  \n",
    "# X_test_scaled = scaler.transform(X_test_filled)  "
   ]
  },
  {
   "cell_type": "code",
   "execution_count": 80,
   "id": "2f83fb3e",
   "metadata": {
    "execution": {
     "iopub.execute_input": "2022-10-24T17:16:11.871946Z",
     "iopub.status.busy": "2022-10-24T17:16:11.870417Z",
     "iopub.status.idle": "2022-10-24T17:16:11.877508Z",
     "shell.execute_reply": "2022-10-24T17:16:11.876733Z"
    },
    "papermill": {
     "duration": 0.05883,
     "end_time": "2022-10-24T17:16:11.879217",
     "exception": false,
     "start_time": "2022-10-24T17:16:11.820387",
     "status": "completed"
    },
    "tags": []
   },
   "outputs": [
    {
     "data": {
      "text/plain": [
       "Index(['PassengerId', 'Pclass', 'Sex', 'Age', 'SibSp', 'Parch', 'Fare',\n",
       "       'Embarked', 'Title', 'FamilySize', 'IsAlone'],\n",
       "      dtype='object')"
      ]
     },
     "execution_count": 80,
     "metadata": {},
     "output_type": "execute_result"
    }
   ],
   "source": [
    "\n",
    "X_train.columns"
   ]
  },
  {
   "cell_type": "code",
   "execution_count": 81,
   "id": "f25fc5da",
   "metadata": {
    "execution": {
     "iopub.execute_input": "2022-10-24T17:16:11.979107Z",
     "iopub.status.busy": "2022-10-24T17:16:11.978610Z",
     "iopub.status.idle": "2022-10-24T17:16:45.964113Z",
     "shell.execute_reply": "2022-10-24T17:16:45.963031Z"
    },
    "papermill": {
     "duration": 34.08638,
     "end_time": "2022-10-24T17:16:46.014811",
     "exception": false,
     "start_time": "2022-10-24T17:16:11.928431",
     "status": "completed"
    },
    "tags": []
   },
   "outputs": [
    {
     "data": {
      "text/plain": [
       "RFECV(cv=StratifiedKFold(n_splits=10, random_state=None, shuffle=False),\n",
       "      estimator=RandomForestClassifier(random_state=101), scoring='accuracy')"
      ]
     },
     "execution_count": 81,
     "metadata": {},
     "output_type": "execute_result"
    }
   ],
   "source": [
    "rfc = RandomForestClassifier(random_state=101)\n",
    "rfecv = RFECV(estimator=rfc, step=1, cv=StratifiedKFold(10), scoring='accuracy')\n",
    "rfecv.fit(X_train_final, y_train)"
   ]
  },
  {
   "cell_type": "code",
   "execution_count": 82,
   "id": "fa65cab7",
   "metadata": {
    "execution": {
     "iopub.execute_input": "2022-10-24T17:16:46.116460Z",
     "iopub.status.busy": "2022-10-24T17:16:46.116025Z",
     "iopub.status.idle": "2022-10-24T17:16:46.120115Z",
     "shell.execute_reply": "2022-10-24T17:16:46.119546Z"
    },
    "papermill": {
     "duration": 0.058699,
     "end_time": "2022-10-24T17:16:46.122393",
     "exception": false,
     "start_time": "2022-10-24T17:16:46.063694",
     "status": "completed"
    },
    "tags": []
   },
   "outputs": [
    {
     "name": "stdout",
     "output_type": "stream",
     "text": [
      "Optimal number of features : 8\n"
     ]
    }
   ],
   "source": [
    "print('Optimal number of features :', rfecv.n_features_)\n"
   ]
  },
  {
   "cell_type": "code",
   "execution_count": 83,
   "id": "e4a18b5d",
   "metadata": {
    "execution": {
     "iopub.execute_input": "2022-10-24T17:16:46.225975Z",
     "iopub.status.busy": "2022-10-24T17:16:46.225405Z",
     "iopub.status.idle": "2022-10-24T17:16:46.229874Z",
     "shell.execute_reply": "2022-10-24T17:16:46.229192Z"
    },
    "papermill": {
     "duration": 0.058155,
     "end_time": "2022-10-24T17:16:46.232166",
     "exception": false,
     "start_time": "2022-10-24T17:16:46.174011",
     "status": "completed"
    },
    "tags": []
   },
   "outputs": [
    {
     "name": "stdout",
     "output_type": "stream",
     "text": [
      "Best features : [array([ True,  True,  True, False, False,  True,  True, False,  True,\n",
      "        True, False, False, False, False, False,  True, False, False])]\n"
     ]
    }
   ],
   "source": [
    "print('Best features :',[rfecv.support_])"
   ]
  },
  {
   "cell_type": "code",
   "execution_count": 84,
   "id": "f0828ef8",
   "metadata": {
    "execution": {
     "iopub.execute_input": "2022-10-24T17:16:46.332270Z",
     "iopub.status.busy": "2022-10-24T17:16:46.331880Z",
     "iopub.status.idle": "2022-10-24T17:16:46.337163Z",
     "shell.execute_reply": "2022-10-24T17:16:46.336307Z"
    },
    "papermill": {
     "duration": 0.057551,
     "end_time": "2022-10-24T17:16:46.339216",
     "exception": false,
     "start_time": "2022-10-24T17:16:46.281665",
     "status": "completed"
    },
    "tags": []
   },
   "outputs": [
    {
     "name": "stdout",
     "output_type": "stream",
     "text": [
      "Optimal number of features : 8\n",
      "Best features : [ True  True  True False False  True  True False  True  True False False\n",
      " False False False  True False False]\n"
     ]
    }
   ],
   "source": [
    "print('Optimal number of features :', rfecv.n_features_)\n",
    "print('Best features :', rfecv.support_)"
   ]
  },
  {
   "cell_type": "code",
   "execution_count": 85,
   "id": "c41c3e37",
   "metadata": {
    "execution": {
     "iopub.execute_input": "2022-10-24T17:16:46.484460Z",
     "iopub.status.busy": "2022-10-24T17:16:46.483842Z",
     "iopub.status.idle": "2022-10-24T17:16:46.497654Z",
     "shell.execute_reply": "2022-10-24T17:16:46.497023Z"
    },
    "papermill": {
     "duration": 0.110768,
     "end_time": "2022-10-24T17:16:46.499144",
     "exception": false,
     "start_time": "2022-10-24T17:16:46.388376",
     "status": "completed"
    },
    "tags": []
   },
   "outputs": [
    {
     "data": {
      "text/plain": [
       "array([0.18976483, 0.08404368, 0.15757951, 0.1803819 , 0.07260882,\n",
       "       0.10205649, 0.09936862, 0.11419614])"
      ]
     },
     "execution_count": 85,
     "metadata": {},
     "output_type": "execute_result"
    }
   ],
   "source": [
    "rfecv.estimator_.feature_importances_"
   ]
  },
  {
   "cell_type": "code",
   "execution_count": null,
   "id": "17cf0b0b",
   "metadata": {
    "papermill": {
     "duration": 0.048976,
     "end_time": "2022-10-24T17:16:46.597419",
     "exception": false,
     "start_time": "2022-10-24T17:16:46.548443",
     "status": "completed"
    },
    "tags": []
   },
   "outputs": [],
   "source": []
  },
  {
   "cell_type": "markdown",
   "id": "f8c10117",
   "metadata": {
    "papermill": {
     "duration": 0.049091,
     "end_time": "2022-10-24T17:16:46.695843",
     "exception": false,
     "start_time": "2022-10-24T17:16:46.646752",
     "status": "completed"
    },
    "tags": []
   },
   "source": [
    "# Modeling : "
   ]
  },
  {
   "cell_type": "markdown",
   "id": "86b04d85",
   "metadata": {
    "papermill": {
     "duration": 0.048878,
     "end_time": "2022-10-24T17:16:46.794152",
     "exception": false,
     "start_time": "2022-10-24T17:16:46.745274",
     "status": "completed"
    },
    "tags": []
   },
   "source": [
    "## Logistic regression"
   ]
  },
  {
   "cell_type": "code",
   "execution_count": 86,
   "id": "0b1643da",
   "metadata": {
    "execution": {
     "iopub.execute_input": "2022-10-24T17:16:46.892256Z",
     "iopub.status.busy": "2022-10-24T17:16:46.891699Z",
     "iopub.status.idle": "2022-10-24T17:16:46.895050Z",
     "shell.execute_reply": "2022-10-24T17:16:46.894491Z"
    },
    "papermill": {
     "duration": 0.053995,
     "end_time": "2022-10-24T17:16:46.896487",
     "exception": false,
     "start_time": "2022-10-24T17:16:46.842492",
     "status": "completed"
    },
    "tags": []
   },
   "outputs": [],
   "source": [
    "logit = LogisticRegression()\n"
   ]
  },
  {
   "cell_type": "code",
   "execution_count": 87,
   "id": "6135eb66",
   "metadata": {
    "execution": {
     "iopub.execute_input": "2022-10-24T17:16:46.995402Z",
     "iopub.status.busy": "2022-10-24T17:16:46.994734Z",
     "iopub.status.idle": "2022-10-24T17:16:46.999031Z",
     "shell.execute_reply": "2022-10-24T17:16:46.998345Z"
    },
    "papermill": {
     "duration": 0.055865,
     "end_time": "2022-10-24T17:16:47.000591",
     "exception": false,
     "start_time": "2022-10-24T17:16:46.944726",
     "status": "completed"
    },
    "tags": []
   },
   "outputs": [],
   "source": [
    "skf = StratifiedKFold(n_splits=5, shuffle=True, random_state=1)"
   ]
  },
  {
   "cell_type": "code",
   "execution_count": 88,
   "id": "9c5beb27",
   "metadata": {
    "execution": {
     "iopub.execute_input": "2022-10-24T17:16:47.101613Z",
     "iopub.status.busy": "2022-10-24T17:16:47.101011Z",
     "iopub.status.idle": "2022-10-24T17:16:47.104639Z",
     "shell.execute_reply": "2022-10-24T17:16:47.104021Z"
    },
    "papermill": {
     "duration": 0.057936,
     "end_time": "2022-10-24T17:16:47.106675",
     "exception": false,
     "start_time": "2022-10-24T17:16:47.048739",
     "status": "completed"
    },
    "tags": []
   },
   "outputs": [],
   "source": [
    "scoring = [ 'f1_score' ,'accuracy']"
   ]
  },
  {
   "cell_type": "code",
   "execution_count": 89,
   "id": "a787dac9",
   "metadata": {
    "execution": {
     "iopub.execute_input": "2022-10-24T17:16:47.224089Z",
     "iopub.status.busy": "2022-10-24T17:16:47.223542Z",
     "iopub.status.idle": "2022-10-24T17:16:48.650349Z",
     "shell.execute_reply": "2022-10-24T17:16:48.649389Z"
    },
    "papermill": {
     "duration": 1.48764,
     "end_time": "2022-10-24T17:16:48.653033",
     "exception": false,
     "start_time": "2022-10-24T17:16:47.165393",
     "status": "completed"
    },
    "tags": []
   },
   "outputs": [],
   "source": [
    "logit = LogisticRegression()\n",
    "\n",
    "skf = StratifiedKFold(n_splits=5, shuffle=True, random_state=1)\n",
    "\n",
    "scoring = [ 'f1' ,'accuracy']\n",
    "\n",
    "Cross_Val_Score = cross_validate(estimator=logit, X=X_train_final, y=y_train, \n",
    "                               cv=skf, scoring=scoring, n_jobs=-1)  "
   ]
  },
  {
   "cell_type": "code",
   "execution_count": 90,
   "id": "6fc12574",
   "metadata": {
    "execution": {
     "iopub.execute_input": "2022-10-24T17:16:48.758132Z",
     "iopub.status.busy": "2022-10-24T17:16:48.757736Z",
     "iopub.status.idle": "2022-10-24T17:16:48.765590Z",
     "shell.execute_reply": "2022-10-24T17:16:48.764703Z"
    },
    "papermill": {
     "duration": 0.061489,
     "end_time": "2022-10-24T17:16:48.767402",
     "exception": false,
     "start_time": "2022-10-24T17:16:48.705913",
     "status": "completed"
    },
    "tags": []
   },
   "outputs": [
    {
     "data": {
      "text/plain": [
       "{'fit_time': array([0.0175066 , 0.0109911 , 0.01431155, 0.01163816, 0.02608347]),\n",
       " 'score_time': array([0.00233603, 0.00160885, 0.001899  , 0.0017972 , 0.00216222]),\n",
       " 'test_f1': array([0.74782609, 0.75      , 0.78181818, 0.73873874, 0.83050847]),\n",
       " 'test_accuracy': array([0.80921053, 0.81578947, 0.8410596 , 0.80794702, 0.86754967])}"
      ]
     },
     "execution_count": 90,
     "metadata": {},
     "output_type": "execute_result"
    }
   ],
   "source": [
    "Cross_Val_Score"
   ]
  },
  {
   "cell_type": "code",
   "execution_count": 91,
   "id": "472516a2",
   "metadata": {
    "execution": {
     "iopub.execute_input": "2022-10-24T17:16:48.871893Z",
     "iopub.status.busy": "2022-10-24T17:16:48.870753Z",
     "iopub.status.idle": "2022-10-24T17:16:48.877704Z",
     "shell.execute_reply": "2022-10-24T17:16:48.876375Z"
    },
    "papermill": {
     "duration": 0.061725,
     "end_time": "2022-10-24T17:16:48.879973",
     "exception": false,
     "start_time": "2022-10-24T17:16:48.818248",
     "status": "completed"
    },
    "tags": []
   },
   "outputs": [
    {
     "name": "stdout",
     "output_type": "stream",
     "text": [
      "F1_score :  0.7697782964179427\n",
      "accuracy :  0.8675496688741722\n"
     ]
    }
   ],
   "source": [
    "print( \"F1_score : \" ,Cross_Val_Score['test_f1'].mean())\n",
    "print( \"accuracy : \" ,Cross_Val_Score['test_accuracy'].max())"
   ]
  },
  {
   "cell_type": "code",
   "execution_count": 92,
   "id": "0919b581",
   "metadata": {
    "execution": {
     "iopub.execute_input": "2022-10-24T17:16:48.980370Z",
     "iopub.status.busy": "2022-10-24T17:16:48.979995Z",
     "iopub.status.idle": "2022-10-24T17:16:49.038025Z",
     "shell.execute_reply": "2022-10-24T17:16:49.037139Z"
    },
    "papermill": {
     "duration": 0.110218,
     "end_time": "2022-10-24T17:16:49.039921",
     "exception": false,
     "start_time": "2022-10-24T17:16:48.929703",
     "status": "completed"
    },
    "tags": []
   },
   "outputs": [
    {
     "data": {
      "text/plain": [
       "array([[409,  60],\n",
       "       [ 70, 218]])"
      ]
     },
     "execution_count": 92,
     "metadata": {},
     "output_type": "execute_result"
    }
   ],
   "source": [
    "y_pred = cross_val_predict(estimator = logit ,X=X_train_final, y=y_train , cv=skf,n_jobs=-1)\n",
    "conf_mat = confusion_matrix(y_train, y_pred )\n",
    "conf_mat"
   ]
  },
  {
   "cell_type": "code",
   "execution_count": 93,
   "id": "434daa4e",
   "metadata": {
    "execution": {
     "iopub.execute_input": "2022-10-24T17:16:49.151492Z",
     "iopub.status.busy": "2022-10-24T17:16:49.150275Z",
     "iopub.status.idle": "2022-10-24T17:16:49.342144Z",
     "shell.execute_reply": "2022-10-24T17:16:49.341311Z"
    },
    "papermill": {
     "duration": 0.254263,
     "end_time": "2022-10-24T17:16:49.344015",
     "exception": false,
     "start_time": "2022-10-24T17:16:49.089752",
     "status": "completed"
    },
    "tags": []
   },
   "outputs": [
    {
     "data": {
      "text/plain": [
       "<AxesSubplot:>"
      ]
     },
     "execution_count": 93,
     "metadata": {},
     "output_type": "execute_result"
    },
    {
     "data": {
      "image/png": "[encoded data removed]",
      "text/plain": [
       "<Figure size 432x288 with 2 Axes>"
      ]
     },
     "metadata": {
      "needs_background": "light"
     },
     "output_type": "display_data"
    }
   ],
   "source": [
    "TF = ['True Neg','False Pos','False Neg','True Pos']\n",
    "counts = [f'{value:0.0f}'.format(value) for value in conf_mat.flatten()]\n",
    "labels = [f'{v1}\\n{v2}' for v1, v2 in\n",
    "          zip(TF,counts)]\n",
    "\n",
    "labels = np.asarray(labels).reshape(2,2)\n",
    "sns.heatmap(conf_mat ,annot=labels, fmt='',cbar=True ,cmap='Blues')"
   ]
  },
  {
   "cell_type": "code",
   "execution_count": 94,
   "id": "15527bbe",
   "metadata": {
    "execution": {
     "iopub.execute_input": "2022-10-24T17:16:49.444670Z",
     "iopub.status.busy": "2022-10-24T17:16:49.444068Z",
     "iopub.status.idle": "2022-10-24T17:16:49.448570Z",
     "shell.execute_reply": "2022-10-24T17:16:49.447950Z"
    },
    "papermill": {
     "duration": 0.056502,
     "end_time": "2022-10-24T17:16:49.450179",
     "exception": false,
     "start_time": "2022-10-24T17:16:49.393677",
     "status": "completed"
    },
    "tags": []
   },
   "outputs": [],
   "source": [
    "def clf_performance(classifier, model_name):\n",
    "    print(model_name)\n",
    "    print('Best Score: ' + str(classifier.best_score_))\n",
    "    print('Best Parameters: ' + str(classifier.best_params_))"
   ]
  },
  {
   "cell_type": "code",
   "execution_count": 95,
   "id": "c6ab334b",
   "metadata": {
    "execution": {
     "iopub.execute_input": "2022-10-24T17:16:49.558332Z",
     "iopub.status.busy": "2022-10-24T17:16:49.557749Z",
     "iopub.status.idle": "2022-10-24T17:16:51.433748Z",
     "shell.execute_reply": "2022-10-24T17:16:51.432521Z"
    },
    "papermill": {
     "duration": 1.930971,
     "end_time": "2022-10-24T17:16:51.435994",
     "exception": false,
     "start_time": "2022-10-24T17:16:49.505023",
     "status": "completed"
    },
    "tags": []
   },
   "outputs": [
    {
     "name": "stdout",
     "output_type": "stream",
     "text": [
      "Fitting 5 folds for each of 40 candidates, totalling 200 fits\n",
      "Logistic Regression\n",
      "Best Score: 0.8322847682119205\n",
      "Best Parameters: {'C': 0.615848211066026, 'max_iter': 2000, 'penalty': 'l1', 'solver': 'liblinear'}\n"
     ]
    }
   ],
   "source": [
    "param_grid = {'max_iter' : [2000],\n",
    "              'penalty' : ['l1', 'l2'],\n",
    "              'C' : np.logspace(-4, 4, 20),\n",
    "              'solver' : ['liblinear']}\n",
    "\n",
    "clf_lr = GridSearchCV(logit, param_grid = param_grid, cv = 5, verbose = True, n_jobs = -1)\n",
    "best_clf_lr = clf_lr.fit(X_train_final,y_train)\n",
    "clf_performance(best_clf_lr,'Logistic Regression')\n"
   ]
  },
  {
   "cell_type": "markdown",
   "id": "a85e090a",
   "metadata": {
    "papermill": {
     "duration": 0.053346,
     "end_time": "2022-10-24T17:16:51.540210",
     "exception": false,
     "start_time": "2022-10-24T17:16:51.486864",
     "status": "completed"
    },
    "tags": []
   },
   "source": [
    "## Perceptron : \n"
   ]
  },
  {
   "cell_type": "code",
   "execution_count": 96,
   "id": "62e6ae51",
   "metadata": {
    "execution": {
     "iopub.execute_input": "2022-10-24T17:16:51.641865Z",
     "iopub.status.busy": "2022-10-24T17:16:51.640881Z",
     "iopub.status.idle": "2022-10-24T17:16:51.674629Z",
     "shell.execute_reply": "2022-10-24T17:16:51.673887Z"
    },
    "papermill": {
     "duration": 0.086521,
     "end_time": "2022-10-24T17:16:51.677087",
     "exception": false,
     "start_time": "2022-10-24T17:16:51.590566",
     "status": "completed"
    },
    "tags": []
   },
   "outputs": [],
   "source": [
    "\n",
    "perceptron = Perceptron()\n",
    "skf = StratifiedKFold(n_splits=5, shuffle=True, random_state=1)\n",
    "\n",
    "scoring = [ 'f1' ,'accuracy']\n",
    "\n",
    "Cross_Val_Score = cross_validate(estimator=perceptron, X=X_train_final, y=y_train, \n",
    "                               cv=skf, scoring=scoring, n_jobs=-1) \n"
   ]
  },
  {
   "cell_type": "code",
   "execution_count": 97,
   "id": "ba87bdec",
   "metadata": {
    "execution": {
     "iopub.execute_input": "2022-10-24T17:16:51.782886Z",
     "iopub.status.busy": "2022-10-24T17:16:51.781991Z",
     "iopub.status.idle": "2022-10-24T17:16:51.788623Z",
     "shell.execute_reply": "2022-10-24T17:16:51.787614Z"
    },
    "papermill": {
     "duration": 0.061162,
     "end_time": "2022-10-24T17:16:51.790272",
     "exception": false,
     "start_time": "2022-10-24T17:16:51.729110",
     "status": "completed"
    },
    "tags": []
   },
   "outputs": [
    {
     "data": {
      "text/plain": [
       "{'fit_time': array([0.00268364, 0.00174379, 0.00196004, 0.00220323, 0.00185657]),\n",
       " 'score_time': array([0.00134802, 0.0015018 , 0.00218558, 0.00212264, 0.00144935]),\n",
       " 'test_f1': array([0.73076923, 0.67857143, 0.7       , 0.59887006, 0.64516129]),\n",
       " 'test_accuracy': array([0.81578947, 0.76315789, 0.8013245 , 0.52980132, 0.78145695])}"
      ]
     },
     "execution_count": 97,
     "metadata": {},
     "output_type": "execute_result"
    }
   ],
   "source": [
    "Cross_Val_Score"
   ]
  },
  {
   "cell_type": "code",
   "execution_count": 98,
   "id": "251bdca1",
   "metadata": {
    "execution": {
     "iopub.execute_input": "2022-10-24T17:16:51.893711Z",
     "iopub.status.busy": "2022-10-24T17:16:51.893201Z",
     "iopub.status.idle": "2022-10-24T17:16:51.898184Z",
     "shell.execute_reply": "2022-10-24T17:16:51.896828Z"
    },
    "papermill": {
     "duration": 0.05794,
     "end_time": "2022-10-24T17:16:51.900039",
     "exception": false,
     "start_time": "2022-10-24T17:16:51.842099",
     "status": "completed"
    },
    "tags": []
   },
   "outputs": [
    {
     "name": "stdout",
     "output_type": "stream",
     "text": [
      "F1_score :  0.670674401232083\n",
      "accuracy :  0.8157894736842105\n"
     ]
    }
   ],
   "source": [
    "print( \"F1_score : \" ,Cross_Val_Score['test_f1'].mean())\n",
    "print( \"accuracy : \" ,Cross_Val_Score['test_accuracy'].max())"
   ]
  },
  {
   "cell_type": "code",
   "execution_count": 99,
   "id": "ff988577",
   "metadata": {
    "execution": {
     "iopub.execute_input": "2022-10-24T17:16:52.000435Z",
     "iopub.status.busy": "2022-10-24T17:16:51.999948Z",
     "iopub.status.idle": "2022-10-24T17:16:52.004450Z",
     "shell.execute_reply": "2022-10-24T17:16:52.003551Z"
    },
    "papermill": {
     "duration": 0.056551,
     "end_time": "2022-10-24T17:16:52.006021",
     "exception": false,
     "start_time": "2022-10-24T17:16:51.949470",
     "status": "completed"
    },
    "tags": []
   },
   "outputs": [],
   "source": [
    "perceptron = Perceptron()"
   ]
  },
  {
   "cell_type": "code",
   "execution_count": 100,
   "id": "d8843f5f",
   "metadata": {
    "execution": {
     "iopub.execute_input": "2022-10-24T17:16:52.107352Z",
     "iopub.status.busy": "2022-10-24T17:16:52.106714Z",
     "iopub.status.idle": "2022-10-24T17:16:52.232432Z",
     "shell.execute_reply": "2022-10-24T17:16:52.231793Z"
    },
    "papermill": {
     "duration": 0.179031,
     "end_time": "2022-10-24T17:16:52.234708",
     "exception": false,
     "start_time": "2022-10-24T17:16:52.055677",
     "status": "completed"
    },
    "tags": []
   },
   "outputs": [
    {
     "name": "stdout",
     "output_type": "stream",
     "text": [
      "Fitting 5 folds for each of 6 candidates, totalling 30 fits\n",
      "perceptron\n",
      "Best Score: 0.788767863367027\n",
      "Best Parameters: {'max_iter': 2000, 'penalty': 'l1', 'random_state': 42}\n"
     ]
    }
   ],
   "source": [
    "param_grid = {'max_iter' : [2000],\n",
    "              'random_state':(1,42,1),\n",
    "              'penalty' : ['l1', 'l2']\n",
    "              }\n",
    "\n",
    "clf_perceptron = GridSearchCV(perceptron, param_grid = param_grid, cv = 5, verbose = True, n_jobs = -1)\n",
    "best_clf_perceptron = clf_perceptron.fit(X_train_final,y_train)\n",
    "clf_performance(best_clf_perceptron,'perceptron')"
   ]
  },
  {
   "cell_type": "code",
   "execution_count": 101,
   "id": "39de297d",
   "metadata": {
    "execution": {
     "iopub.execute_input": "2022-10-24T17:16:52.339576Z",
     "iopub.status.busy": "2022-10-24T17:16:52.338416Z",
     "iopub.status.idle": "2022-10-24T17:16:52.368900Z",
     "shell.execute_reply": "2022-10-24T17:16:52.367995Z"
    },
    "papermill": {
     "duration": 0.083738,
     "end_time": "2022-10-24T17:16:52.370813",
     "exception": false,
     "start_time": "2022-10-24T17:16:52.287075",
     "status": "completed"
    },
    "tags": []
   },
   "outputs": [
    {
     "data": {
      "text/plain": [
       "array([[365, 104],\n",
       "       [ 94, 194]])"
      ]
     },
     "execution_count": 101,
     "metadata": {},
     "output_type": "execute_result"
    }
   ],
   "source": [
    "y_pred = cross_val_predict(estimator = perceptron ,X=X_train_final, y=y_train , cv=skf,n_jobs=-1)\n",
    "conf_mat = confusion_matrix(y_train, y_pred )\n",
    "conf_mat"
   ]
  },
  {
   "cell_type": "code",
   "execution_count": 102,
   "id": "07c21d66",
   "metadata": {
    "execution": {
     "iopub.execute_input": "2022-10-24T17:16:52.476062Z",
     "iopub.status.busy": "2022-10-24T17:16:52.474863Z",
     "iopub.status.idle": "2022-10-24T17:16:52.626113Z",
     "shell.execute_reply": "2022-10-24T17:16:52.625249Z"
    },
    "papermill": {
     "duration": 0.20535,
     "end_time": "2022-10-24T17:16:52.627988",
     "exception": false,
     "start_time": "2022-10-24T17:16:52.422638",
     "status": "completed"
    },
    "tags": []
   },
   "outputs": [
    {
     "data": {
      "text/plain": [
       "<AxesSubplot:>"
      ]
     },
     "execution_count": 102,
     "metadata": {},
     "output_type": "execute_result"
    },
    {
     "data": {
      "image/png": "[encoded data removed]",
      "text/plain": [
       "<Figure size 432x288 with 2 Axes>"
      ]
     },
     "metadata": {
      "needs_background": "light"
     },
     "output_type": "display_data"
    }
   ],
   "source": [
    "TF = ['True Neg','False Pos','False Neg','True Pos']\n",
    "counts = [f'{value:0.0f}'.format(value) for value in conf_mat.flatten()]\n",
    "labels = [f'{v1}\\n{v2}' for v1, v2 in\n",
    "          zip(TF,counts)]\n",
    "\n",
    "labels = np.asarray(labels).reshape(2,2)\n",
    "sns.heatmap(conf_mat ,annot=labels, fmt='',cbar=True ,cmap='Blues')"
   ]
  },
  {
   "cell_type": "code",
   "execution_count": null,
   "id": "3797837f",
   "metadata": {
    "papermill": {
     "duration": 0.050179,
     "end_time": "2022-10-24T17:16:52.728410",
     "exception": false,
     "start_time": "2022-10-24T17:16:52.678231",
     "status": "completed"
    },
    "tags": []
   },
   "outputs": [],
   "source": []
  },
  {
   "cell_type": "markdown",
   "id": "940740dc",
   "metadata": {
    "papermill": {
     "duration": 0.05024,
     "end_time": "2022-10-24T17:16:52.829771",
     "exception": false,
     "start_time": "2022-10-24T17:16:52.779531",
     "status": "completed"
    },
    "tags": []
   },
   "source": [
    "## K-nearest neighbors"
   ]
  },
  {
   "cell_type": "code",
   "execution_count": 103,
   "id": "6f56e681",
   "metadata": {
    "execution": {
     "iopub.execute_input": "2022-10-24T17:16:52.934391Z",
     "iopub.status.busy": "2022-10-24T17:16:52.933564Z",
     "iopub.status.idle": "2022-10-24T17:16:52.985665Z",
     "shell.execute_reply": "2022-10-24T17:16:52.984995Z"
    },
    "papermill": {
     "duration": 0.106842,
     "end_time": "2022-10-24T17:16:52.987782",
     "exception": false,
     "start_time": "2022-10-24T17:16:52.880940",
     "status": "completed"
    },
    "tags": []
   },
   "outputs": [],
   "source": [
    "knn = KNeighborsClassifier()\n",
    "skf = StratifiedKFold(n_splits=5, shuffle=True, random_state=1)\n",
    "\n",
    "scoring = [ 'f1' ,'accuracy']\n",
    "\n",
    "Cross_Val_Score = cross_validate(estimator=knn , X=X_train_final, y=y_train, \n",
    "                               cv=skf, scoring=scoring, n_jobs=-1) "
   ]
  },
  {
   "cell_type": "code",
   "execution_count": 104,
   "id": "d17946c9",
   "metadata": {
    "execution": {
     "iopub.execute_input": "2022-10-24T17:16:53.089399Z",
     "iopub.status.busy": "2022-10-24T17:16:53.089021Z",
     "iopub.status.idle": "2022-10-24T17:16:53.094682Z",
     "shell.execute_reply": "2022-10-24T17:16:53.094100Z"
    },
    "papermill": {
     "duration": 0.058274,
     "end_time": "2022-10-24T17:16:53.096187",
     "exception": false,
     "start_time": "2022-10-24T17:16:53.037913",
     "status": "completed"
    },
    "tags": []
   },
   "outputs": [
    {
     "data": {
      "text/plain": [
       "{'fit_time': array([0.00117397, 0.00118661, 0.00102115, 0.00115299, 0.00099397]),\n",
       " 'score_time': array([0.01269484, 0.01087809, 0.01058412, 0.01051784, 0.00959229]),\n",
       " 'test_f1': array([0.75438596, 0.75      , 0.72380952, 0.69230769, 0.80357143]),\n",
       " 'test_accuracy': array([0.81578947, 0.81578947, 0.80794702, 0.78807947, 0.85430464])}"
      ]
     },
     "execution_count": 104,
     "metadata": {},
     "output_type": "execute_result"
    }
   ],
   "source": [
    "Cross_Val_Score"
   ]
  },
  {
   "cell_type": "code",
   "execution_count": 105,
   "id": "761896df",
   "metadata": {
    "execution": {
     "iopub.execute_input": "2022-10-24T17:16:53.198331Z",
     "iopub.status.busy": "2022-10-24T17:16:53.197700Z",
     "iopub.status.idle": "2022-10-24T17:16:53.202740Z",
     "shell.execute_reply": "2022-10-24T17:16:53.201612Z"
    },
    "papermill": {
     "duration": 0.061331,
     "end_time": "2022-10-24T17:16:53.205921",
     "exception": false,
     "start_time": "2022-10-24T17:16:53.144590",
     "status": "completed"
    },
    "tags": []
   },
   "outputs": [
    {
     "name": "stdout",
     "output_type": "stream",
     "text": [
      "F1_score :  0.7448149219201851\n",
      "accuracy :  0.8543046357615894\n"
     ]
    }
   ],
   "source": [
    "print( \"F1_score : \" ,Cross_Val_Score['test_f1'].mean())\n",
    "print( \"accuracy : \" ,Cross_Val_Score['test_accuracy'].max())"
   ]
  },
  {
   "cell_type": "code",
   "execution_count": 106,
   "id": "ae2b7740",
   "metadata": {
    "execution": {
     "iopub.execute_input": "2022-10-24T17:16:53.311358Z",
     "iopub.status.busy": "2022-10-24T17:16:53.310728Z",
     "iopub.status.idle": "2022-10-24T17:16:56.255394Z",
     "shell.execute_reply": "2022-10-24T17:16:56.254248Z"
    },
    "papermill": {
     "duration": 2.999342,
     "end_time": "2022-10-24T17:16:56.257154",
     "exception": false,
     "start_time": "2022-10-24T17:16:53.257812",
     "status": "completed"
    },
    "tags": []
   },
   "outputs": [
    {
     "name": "stdout",
     "output_type": "stream",
     "text": [
      "Fitting 7 folds for each of 216 candidates, totalling 1512 fits\n",
      "KNN\n",
      "Best Score: 0.8256880733944953\n",
      "Best Parameters: {'algorithm': 'auto', 'leaf_size': 20, 'metric': 'minkowski', 'n_neighbors': 10, 'p': 1, 'weights': 'distance'}\n"
     ]
    }
   ],
   "source": [
    "param_grid = {\n",
    "              'n_neighbors': (1,10, 1),\n",
    "              'leaf_size': (20,40,1),\n",
    "              'weights' : ['uniform', 'distance'],\n",
    "              'algorithm' : ['auto', 'ball_tree','kd_tree'],\n",
    "              'metric': ('minkowski', 'chebyshev'),\n",
    "              'p' : [1,2]}\n",
    "clf_knn = GridSearchCV(knn, param_grid = param_grid, cv = 7, verbose = True, n_jobs = -1)\n",
    "best_clf_knn = clf_knn.fit(X_train_final,y_train)\n",
    "clf_performance(best_clf_knn,'KNN')"
   ]
  },
  {
   "cell_type": "code",
   "execution_count": null,
   "id": "3503d637",
   "metadata": {
    "papermill": {
     "duration": 0.051426,
     "end_time": "2022-10-24T17:16:56.360673",
     "exception": false,
     "start_time": "2022-10-24T17:16:56.309247",
     "status": "completed"
    },
    "tags": []
   },
   "outputs": [],
   "source": []
  },
  {
   "cell_type": "code",
   "execution_count": null,
   "id": "daefb33d",
   "metadata": {
    "papermill": {
     "duration": 0.051897,
     "end_time": "2022-10-24T17:16:56.463528",
     "exception": false,
     "start_time": "2022-10-24T17:16:56.411631",
     "status": "completed"
    },
    "tags": []
   },
   "outputs": [],
   "source": []
  },
  {
   "cell_type": "markdown",
   "id": "8d1edc4e",
   "metadata": {
    "papermill": {
     "duration": 0.05588,
     "end_time": "2022-10-24T17:16:56.571898",
     "exception": false,
     "start_time": "2022-10-24T17:16:56.516018",
     "status": "completed"
    },
    "tags": []
   },
   "source": [
    "### ****Decision Tree Classifier****"
   ]
  },
  {
   "cell_type": "code",
   "execution_count": 107,
   "id": "3d819539",
   "metadata": {
    "execution": {
     "iopub.execute_input": "2022-10-24T17:16:56.677045Z",
     "iopub.status.busy": "2022-10-24T17:16:56.676424Z",
     "iopub.status.idle": "2022-10-24T17:16:56.710751Z",
     "shell.execute_reply": "2022-10-24T17:16:56.709574Z"
    },
    "papermill": {
     "duration": 0.089483,
     "end_time": "2022-10-24T17:16:56.713035",
     "exception": false,
     "start_time": "2022-10-24T17:16:56.623552",
     "status": "completed"
    },
    "tags": []
   },
   "outputs": [],
   "source": [
    "dt = DecisionTreeClassifier()\n",
    "skf = StratifiedKFold(n_splits=5, shuffle=True, random_state=1)\n",
    "\n",
    "scoring = [ 'f1' ,'accuracy']\n",
    "\n",
    "Cross_Val_Score = cross_validate(estimator=knn , X=X_train_final, y=y_train, \n",
    "                               cv=skf, scoring=scoring, n_jobs=-1) "
   ]
  },
  {
   "cell_type": "code",
   "execution_count": 108,
   "id": "bb4d2548",
   "metadata": {
    "execution": {
     "iopub.execute_input": "2022-10-24T17:16:56.814853Z",
     "iopub.status.busy": "2022-10-24T17:16:56.813955Z",
     "iopub.status.idle": "2022-10-24T17:16:56.819921Z",
     "shell.execute_reply": "2022-10-24T17:16:56.819331Z"
    },
    "papermill": {
     "duration": 0.058546,
     "end_time": "2022-10-24T17:16:56.821659",
     "exception": false,
     "start_time": "2022-10-24T17:16:56.763113",
     "status": "completed"
    },
    "tags": []
   },
   "outputs": [
    {
     "data": {
      "text/plain": [
       "{'fit_time': array([0.00096083, 0.00130796, 0.00093508, 0.0011642 , 0.0010314 ]),\n",
       " 'score_time': array([0.00662327, 0.01029015, 0.00782514, 0.00640059, 0.00641537]),\n",
       " 'test_f1': array([0.75438596, 0.75      , 0.72380952, 0.69230769, 0.80357143]),\n",
       " 'test_accuracy': array([0.81578947, 0.81578947, 0.80794702, 0.78807947, 0.85430464])}"
      ]
     },
     "execution_count": 108,
     "metadata": {},
     "output_type": "execute_result"
    }
   ],
   "source": [
    "Cross_Val_Score"
   ]
  },
  {
   "cell_type": "code",
   "execution_count": 109,
   "id": "88f8a820",
   "metadata": {
    "execution": {
     "iopub.execute_input": "2022-10-24T17:16:56.928417Z",
     "iopub.status.busy": "2022-10-24T17:16:56.927596Z",
     "iopub.status.idle": "2022-10-24T17:16:56.932716Z",
     "shell.execute_reply": "2022-10-24T17:16:56.931747Z"
    },
    "papermill": {
     "duration": 0.059953,
     "end_time": "2022-10-24T17:16:56.934313",
     "exception": false,
     "start_time": "2022-10-24T17:16:56.874360",
     "status": "completed"
    },
    "tags": []
   },
   "outputs": [
    {
     "name": "stdout",
     "output_type": "stream",
     "text": [
      "F1_score :  0.7448149219201851\n",
      "accuracy :  0.8543046357615894\n"
     ]
    }
   ],
   "source": [
    "print( \"F1_score : \" ,Cross_Val_Score['test_f1'].mean())\n",
    "print( \"accuracy : \" ,Cross_Val_Score['test_accuracy'].max())"
   ]
  },
  {
   "cell_type": "markdown",
   "id": "631942e9",
   "metadata": {
    "papermill": {
     "duration": 0.050681,
     "end_time": "2022-10-24T17:16:57.036196",
     "exception": false,
     "start_time": "2022-10-24T17:16:56.985515",
     "status": "completed"
    },
    "tags": []
   },
   "source": [
    "## **Randon forest classifier**"
   ]
  },
  {
   "cell_type": "code",
   "execution_count": 110,
   "id": "bc71724d",
   "metadata": {
    "execution": {
     "iopub.execute_input": "2022-10-24T17:16:57.143049Z",
     "iopub.status.busy": "2022-10-24T17:16:57.142479Z",
     "iopub.status.idle": "2022-10-24T17:16:57.181277Z",
     "shell.execute_reply": "2022-10-24T17:16:57.179880Z"
    },
    "papermill": {
     "duration": 0.095925,
     "end_time": "2022-10-24T17:16:57.183660",
     "exception": false,
     "start_time": "2022-10-24T17:16:57.087735",
     "status": "completed"
    },
    "tags": []
   },
   "outputs": [],
   "source": [
    "rf = RandomForestClassifier()\n",
    "skf = StratifiedKFold(n_splits=5, shuffle=True, random_state=1)\n",
    "\n",
    "scoring = [ 'f1' ,'accuracy']\n",
    "\n",
    "Cross_Val_Score = cross_validate(estimator=knn , X=X_train_final, y=y_train, \n",
    "                               cv=skf, scoring=scoring, n_jobs=-1)"
   ]
  },
  {
   "cell_type": "code",
   "execution_count": 111,
   "id": "9926bca9",
   "metadata": {
    "execution": {
     "iopub.execute_input": "2022-10-24T17:16:57.289789Z",
     "iopub.status.busy": "2022-10-24T17:16:57.289401Z",
     "iopub.status.idle": "2022-10-24T17:16:57.296702Z",
     "shell.execute_reply": "2022-10-24T17:16:57.295794Z"
    },
    "papermill": {
     "duration": 0.062948,
     "end_time": "2022-10-24T17:16:57.298480",
     "exception": false,
     "start_time": "2022-10-24T17:16:57.235532",
     "status": "completed"
    },
    "tags": []
   },
   "outputs": [
    {
     "data": {
      "text/plain": [
       "{'fit_time': array([0.00095654, 0.00098467, 0.00117254, 0.00112891, 0.00085568]),\n",
       " 'score_time': array([0.00953722, 0.00899744, 0.01014471, 0.00693774, 0.00604963]),\n",
       " 'test_f1': array([0.75438596, 0.75      , 0.72380952, 0.69230769, 0.80357143]),\n",
       " 'test_accuracy': array([0.81578947, 0.81578947, 0.80794702, 0.78807947, 0.85430464])}"
      ]
     },
     "execution_count": 111,
     "metadata": {},
     "output_type": "execute_result"
    }
   ],
   "source": [
    "Cross_Val_Score"
   ]
  },
  {
   "cell_type": "code",
   "execution_count": 112,
   "id": "68fb8ecb",
   "metadata": {
    "execution": {
     "iopub.execute_input": "2022-10-24T17:16:57.401983Z",
     "iopub.status.busy": "2022-10-24T17:16:57.401602Z",
     "iopub.status.idle": "2022-10-24T17:16:57.408415Z",
     "shell.execute_reply": "2022-10-24T17:16:57.407133Z"
    },
    "papermill": {
     "duration": 0.061446,
     "end_time": "2022-10-24T17:16:57.410329",
     "exception": false,
     "start_time": "2022-10-24T17:16:57.348883",
     "status": "completed"
    },
    "tags": []
   },
   "outputs": [
    {
     "name": "stdout",
     "output_type": "stream",
     "text": [
      "F1_score :  0.7448149219201851\n",
      "accuracy :  0.8543046357615894\n"
     ]
    }
   ],
   "source": [
    "print( \"F1_score : \" ,Cross_Val_Score['test_f1'].mean())\n",
    "print( \"accuracy : \" ,Cross_Val_Score['test_accuracy'].max())"
   ]
  },
  {
   "cell_type": "code",
   "execution_count": 113,
   "id": "a641b794",
   "metadata": {
    "execution": {
     "iopub.execute_input": "2022-10-24T17:16:57.515948Z",
     "iopub.status.busy": "2022-10-24T17:16:57.515579Z",
     "iopub.status.idle": "2022-10-24T17:19:08.155425Z",
     "shell.execute_reply": "2022-10-24T17:19:08.154220Z"
    },
    "papermill": {
     "duration": 130.749656,
     "end_time": "2022-10-24T17:19:08.211770",
     "exception": false,
     "start_time": "2022-10-24T17:16:57.462114",
     "status": "completed"
    },
    "tags": []
   },
   "outputs": [
    {
     "name": "stdout",
     "output_type": "stream",
     "text": [
      "Fitting 5 folds for each of 100 candidates, totalling 500 fits\n",
      "Random Forest\n",
      "Best Score: 0.8428807947019867\n",
      "Best Parameters: {'n_estimators': 500, 'min_samples_split': 5, 'min_samples_leaf': 2, 'max_features': 'sqrt', 'max_depth': None, 'bootstrap': False}\n"
     ]
    }
   ],
   "source": [
    "rf = RandomForestClassifier()\n",
    "param_grid =  {'n_estimators': [100,500,1000], \n",
    "                                  'bootstrap': [True,False],\n",
    "                                  'max_depth': [3,5,10,20,50,75,100,None],\n",
    "                                  'max_features': ['auto','sqrt'],\n",
    "                                  'min_samples_leaf': [1,2,4,10],\n",
    "                                  'min_samples_split': [2,5,10]}\n",
    "                                  \n",
    "clf_rf_rnd = RandomizedSearchCV(rf, param_distributions = param_grid, n_iter = 100, cv = 5, verbose = True, n_jobs = -1)\n",
    "best_clf_rf_rnd = clf_rf_rnd.fit(X_train_final,y_train)\n",
    "clf_performance(best_clf_rf_rnd,'Random Forest')"
   ]
  },
  {
   "cell_type": "code",
   "execution_count": 114,
   "id": "cb3d5690",
   "metadata": {
    "execution": {
     "iopub.execute_input": "2022-10-24T17:19:08.324108Z",
     "iopub.status.busy": "2022-10-24T17:19:08.323734Z",
     "iopub.status.idle": "2022-10-24T17:19:08.329811Z",
     "shell.execute_reply": "2022-10-24T17:19:08.328659Z"
    },
    "papermill": {
     "duration": 0.06418,
     "end_time": "2022-10-24T17:19:08.332912",
     "exception": false,
     "start_time": "2022-10-24T17:19:08.268732",
     "status": "completed"
    },
    "tags": []
   },
   "outputs": [
    {
     "name": "stdout",
     "output_type": "stream",
     "text": [
      "F1_score :  0.7448149219201851\n",
      "accuracy :  0.8543046357615894\n"
     ]
    }
   ],
   "source": [
    "print( \"F1_score : \" ,Cross_Val_Score['test_f1'].mean())\n",
    "print( \"accuracy : \" ,Cross_Val_Score['test_accuracy'].max())"
   ]
  },
  {
   "cell_type": "code",
   "execution_count": null,
   "id": "78933844",
   "metadata": {
    "papermill": {
     "duration": 0.053263,
     "end_time": "2022-10-24T17:19:08.438068",
     "exception": false,
     "start_time": "2022-10-24T17:19:08.384805",
     "status": "completed"
    },
    "tags": []
   },
   "outputs": [],
   "source": []
  },
  {
   "cell_type": "code",
   "execution_count": null,
   "id": "260f27e2",
   "metadata": {
    "papermill": {
     "duration": 0.052095,
     "end_time": "2022-10-24T17:19:08.542265",
     "exception": false,
     "start_time": "2022-10-24T17:19:08.490170",
     "status": "completed"
    },
    "tags": []
   },
   "outputs": [],
   "source": []
  },
  {
   "cell_type": "markdown",
   "id": "a2778539",
   "metadata": {
    "papermill": {
     "duration": 0.051378,
     "end_time": "2022-10-24T17:19:08.645437",
     "exception": false,
     "start_time": "2022-10-24T17:19:08.594059",
     "status": "completed"
    },
    "tags": []
   },
   "source": [
    "## **SVC**"
   ]
  },
  {
   "cell_type": "code",
   "execution_count": 115,
   "id": "2a6ab1c1",
   "metadata": {
    "execution": {
     "iopub.execute_input": "2022-10-24T17:19:08.750234Z",
     "iopub.status.busy": "2022-10-24T17:19:08.749861Z",
     "iopub.status.idle": "2022-10-24T17:19:08.803357Z",
     "shell.execute_reply": "2022-10-24T17:19:08.802611Z"
    },
    "papermill": {
     "duration": 0.10898,
     "end_time": "2022-10-24T17:19:08.805712",
     "exception": false,
     "start_time": "2022-10-24T17:19:08.696732",
     "status": "completed"
    },
    "tags": []
   },
   "outputs": [],
   "source": [
    "svc = SVC()\n",
    "skf = StratifiedKFold(n_splits=5, shuffle=True, random_state=1)\n",
    "\n",
    "scoring = [ 'f1' ,'accuracy']\n",
    "\n",
    "Cross_Val_Score = cross_validate(estimator=svc , X=X_train_final, y=y_train, \n",
    "                               cv=skf, scoring=scoring, n_jobs=-1)"
   ]
  },
  {
   "cell_type": "code",
   "execution_count": 116,
   "id": "a7b744dd",
   "metadata": {
    "execution": {
     "iopub.execute_input": "2022-10-24T17:19:08.911577Z",
     "iopub.status.busy": "2022-10-24T17:19:08.911153Z",
     "iopub.status.idle": "2022-10-24T17:19:08.917997Z",
     "shell.execute_reply": "2022-10-24T17:19:08.917252Z"
    },
    "papermill": {
     "duration": 0.061462,
     "end_time": "2022-10-24T17:19:08.919586",
     "exception": false,
     "start_time": "2022-10-24T17:19:08.858124",
     "status": "completed"
    },
    "tags": []
   },
   "outputs": [
    {
     "data": {
      "text/plain": [
       "{'fit_time': array([0.01021433, 0.01514125, 0.01546192, 0.01509213, 0.01541066]),\n",
       " 'score_time': array([0.00567603, 0.00530267, 0.00558639, 0.0055182 , 0.00417209]),\n",
       " 'test_f1': array([0.78571429, 0.74545455, 0.75      , 0.74074074, 0.8245614 ]),\n",
       " 'test_accuracy': array([0.84210526, 0.81578947, 0.82781457, 0.81456954, 0.86754967])}"
      ]
     },
     "execution_count": 116,
     "metadata": {},
     "output_type": "execute_result"
    }
   ],
   "source": [
    "Cross_Val_Score"
   ]
  },
  {
   "cell_type": "code",
   "execution_count": 117,
   "id": "f2296960",
   "metadata": {
    "execution": {
     "iopub.execute_input": "2022-10-24T17:19:09.024278Z",
     "iopub.status.busy": "2022-10-24T17:19:09.023682Z",
     "iopub.status.idle": "2022-10-24T17:19:09.028880Z",
     "shell.execute_reply": "2022-10-24T17:19:09.027831Z"
    },
    "papermill": {
     "duration": 0.059737,
     "end_time": "2022-10-24T17:19:09.030531",
     "exception": false,
     "start_time": "2022-10-24T17:19:08.970794",
     "status": "completed"
    },
    "tags": []
   },
   "outputs": [
    {
     "name": "stdout",
     "output_type": "stream",
     "text": [
      "F1_score :  0.7692941950836688\n",
      "accuracy :  0.8675496688741722\n"
     ]
    }
   ],
   "source": [
    "print( \"F1_score : \" ,Cross_Val_Score['test_f1'].mean())\n",
    "print( \"accuracy : \" ,Cross_Val_Score['test_accuracy'].max())"
   ]
  },
  {
   "cell_type": "code",
   "execution_count": 118,
   "id": "6e7e380a",
   "metadata": {
    "execution": {
     "iopub.execute_input": "2022-10-24T17:19:09.136258Z",
     "iopub.status.busy": "2022-10-24T17:19:09.135715Z",
     "iopub.status.idle": "2022-10-24T17:24:18.474380Z",
     "shell.execute_reply": "2022-10-24T17:24:18.473567Z"
    },
    "papermill": {
     "duration": 309.444962,
     "end_time": "2022-10-24T17:24:18.526944",
     "exception": false,
     "start_time": "2022-10-24T17:19:09.081982",
     "status": "completed"
    },
    "tags": []
   },
   "outputs": [
    {
     "name": "stdout",
     "output_type": "stream",
     "text": [
      "Fitting 5 folds for each of 66 candidates, totalling 330 fits\n",
      "SVC\n",
      "Best Score: 0.8349512025095851\n",
      "Best Parameters: {'C': 1, 'gamma': 0.1, 'kernel': 'rbf'}\n"
     ]
    }
   ],
   "source": [
    "svc = SVC(probability = True)\n",
    "param_grid = tuned_parameters = [{'kernel': ['rbf'], 'gamma': [.1,.5,1,2,5,10],\n",
    "                                  'C': [.1, 1, 10, 100, 1000]},\n",
    "                                 {'kernel': ['linear'], 'C': [.1, 1, 10, 100, 1000,2000]},\n",
    "                                 {'kernel': ['poly'], 'degree' : [2,3,4,5,6], 'C': [.1, 1, 10, 100, 1000,2000]}]\n",
    "clf_svc = GridSearchCV(svc, param_grid = param_grid, cv = 5, verbose = True, n_jobs = -1)\n",
    "best_clf_svc = clf_svc.fit(X_train_final,y_train)\n",
    "clf_performance(best_clf_svc,'SVC')"
   ]
  },
  {
   "cell_type": "code",
   "execution_count": null,
   "id": "9e6ba776",
   "metadata": {
    "papermill": {
     "duration": 0.05491,
     "end_time": "2022-10-24T17:24:18.682171",
     "exception": false,
     "start_time": "2022-10-24T17:24:18.627261",
     "status": "completed"
    },
    "tags": []
   },
   "outputs": [],
   "source": []
  },
  {
   "cell_type": "code",
   "execution_count": 119,
   "id": "7d1708c3",
   "metadata": {
    "execution": {
     "iopub.execute_input": "2022-10-24T17:24:18.790412Z",
     "iopub.status.busy": "2022-10-24T17:24:18.789762Z",
     "iopub.status.idle": "2022-10-24T17:24:20.081417Z",
     "shell.execute_reply": "2022-10-24T17:24:20.079994Z"
    },
    "papermill": {
     "duration": 1.348976,
     "end_time": "2022-10-24T17:24:20.085422",
     "exception": false,
     "start_time": "2022-10-24T17:24:18.736446",
     "status": "completed"
    },
    "tags": []
   },
   "outputs": [],
   "source": [
    "xgb = XGBClassifier()\n",
    "skf = StratifiedKFold(n_splits=5, shuffle=True, random_state=1)\n",
    "\n",
    "scoring = [ 'f1' ,'accuracy']\n",
    "\n",
    "Cross_Val_Score = cross_validate(estimator=xgb , X=X_train_final, y=y_train, \n",
    "                               cv=skf, scoring=scoring, n_jobs=-1)"
   ]
  },
  {
   "cell_type": "code",
   "execution_count": 120,
   "id": "f0f88e30",
   "metadata": {
    "execution": {
     "iopub.execute_input": "2022-10-24T17:24:20.195964Z",
     "iopub.status.busy": "2022-10-24T17:24:20.195487Z",
     "iopub.status.idle": "2022-10-24T17:24:20.201965Z",
     "shell.execute_reply": "2022-10-24T17:24:20.201329Z"
    },
    "papermill": {
     "duration": 0.064673,
     "end_time": "2022-10-24T17:24:20.203649",
     "exception": false,
     "start_time": "2022-10-24T17:24:20.138976",
     "status": "completed"
    },
    "tags": []
   },
   "outputs": [
    {
     "data": {
      "text/plain": [
       "{'fit_time': array([0.44196796, 0.38796329, 0.3721683 , 0.38612485, 0.26790476]),\n",
       " 'score_time': array([0.00581074, 0.00554442, 0.00568795, 0.0056622 , 0.00429225]),\n",
       " 'test_f1': array([0.75      , 0.73394495, 0.73214286, 0.71559633, 0.80733945]),\n",
       " 'test_accuracy': array([0.81578947, 0.80921053, 0.8013245 , 0.79470199, 0.86092715])}"
      ]
     },
     "execution_count": 120,
     "metadata": {},
     "output_type": "execute_result"
    }
   ],
   "source": [
    "Cross_Val_Score"
   ]
  },
  {
   "cell_type": "code",
   "execution_count": 121,
   "id": "a0da92cc",
   "metadata": {
    "execution": {
     "iopub.execute_input": "2022-10-24T17:24:20.317315Z",
     "iopub.status.busy": "2022-10-24T17:24:20.316401Z",
     "iopub.status.idle": "2022-10-24T17:24:20.323391Z",
     "shell.execute_reply": "2022-10-24T17:24:20.321767Z"
    },
    "papermill": {
     "duration": 0.066149,
     "end_time": "2022-10-24T17:24:20.325082",
     "exception": false,
     "start_time": "2022-10-24T17:24:20.258933",
     "status": "completed"
    },
    "tags": []
   },
   "outputs": [
    {
     "name": "stdout",
     "output_type": "stream",
     "text": [
      "F1_score :  0.7478047182175623\n",
      "accuracy :  0.8609271523178808\n"
     ]
    }
   ],
   "source": [
    "print( \"F1_score : \" ,Cross_Val_Score['test_f1'].mean())\n",
    "print( \"accuracy : \" ,Cross_Val_Score['test_accuracy'].max())"
   ]
  },
  {
   "cell_type": "code",
   "execution_count": 122,
   "id": "19fae031",
   "metadata": {
    "execution": {
     "iopub.execute_input": "2022-10-24T17:24:20.441253Z",
     "iopub.status.busy": "2022-10-24T17:24:20.440235Z",
     "iopub.status.idle": "2022-10-24T17:35:14.536967Z",
     "shell.execute_reply": "2022-10-24T17:35:14.535692Z"
    },
    "papermill": {
     "duration": 654.208628,
     "end_time": "2022-10-24T17:35:14.589565",
     "exception": false,
     "start_time": "2022-10-24T17:24:20.380937",
     "status": "completed"
    },
    "tags": []
   },
   "outputs": [
    {
     "name": "stdout",
     "output_type": "stream",
     "text": [
      "Fitting 5 folds for each of 1000 candidates, totalling 5000 fits\n",
      "XGB\n",
      "Best Score: 0.8481352387591496\n",
      "Best Parameters: {'subsample': 0.7, 'sampling_method': 'uniform', 'reg_lambda': 1, 'reg_alpha': 0.5, 'n_estimators': 20, 'min_child_weight': 0.01, 'max_depth': 10, 'learning_rate': 0.1, 'gamma': 0.1, 'colsample_bytree': 0.5}\n"
     ]
    }
   ],
   "source": [
    "param_grid = {\n",
    "    'n_estimators': [20, 50, 100, 250, 500,1000],\n",
    "    'colsample_bytree': [0.2, 0.5, 0.7, 0.8, 1],\n",
    "    'max_depth': [2, 5, 10, 15, 20, 25, None],\n",
    "    'reg_alpha': [0, 0.5, 1],\n",
    "    'reg_lambda': [1, 1.5, 2],\n",
    "    'subsample': [0.5,0.6,0.7, 0.8, 0.9],\n",
    "    'learning_rate':[.01,0.1,0.2,0.3,0.5, 0.7, 0.9],\n",
    "    'gamma':[0,.01,.1,1,10,100],\n",
    "    'min_child_weight':[0,.01,0.1,1,10,100],\n",
    "    'sampling_method': ['uniform', 'gradient_based']\n",
    "}\n",
    "\n",
    "\n",
    "clf_xgb_rnd = RandomizedSearchCV(xgb, param_distributions = param_grid, n_iter = 1000, cv = 5, verbose = True, n_jobs = -1)\n",
    "best_clf_xgb_rnd = clf_xgb_rnd.fit(X_train_final,y_train)\n",
    "clf_performance(best_clf_xgb_rnd,'XGB')\n"
   ]
  },
  {
   "cell_type": "code",
   "execution_count": 123,
   "id": "9ebf6b61",
   "metadata": {
    "execution": {
     "iopub.execute_input": "2022-10-24T17:35:14.696157Z",
     "iopub.status.busy": "2022-10-24T17:35:14.695814Z",
     "iopub.status.idle": "2022-10-24T17:35:14.703991Z",
     "shell.execute_reply": "2022-10-24T17:35:14.703073Z"
    },
    "papermill": {
     "duration": 0.063244,
     "end_time": "2022-10-24T17:35:14.705843",
     "exception": false,
     "start_time": "2022-10-24T17:35:14.642599",
     "status": "completed"
    },
    "tags": []
   },
   "outputs": [
    {
     "name": "stdout",
     "output_type": "stream",
     "text": [
      "best_xgb_params :  {'subsample': 0.7, 'sampling_method': 'uniform', 'reg_lambda': 1, 'reg_alpha': 0.5, 'n_estimators': 20, 'min_child_weight': 0.01, 'max_depth': 10, 'learning_rate': 0.1, 'gamma': 0.1, 'colsample_bytree': 0.5}\n",
      "best_xgb :  XGBClassifier(base_score=0.5, booster='gbtree', callbacks=None,\n",
      "              colsample_bylevel=1, colsample_bynode=1, colsample_bytree=0.5,\n",
      "              early_stopping_rounds=None, enable_categorical=False,\n",
      "              eval_metric=None, gamma=0.1, gpu_id=-1, grow_policy='depthwise',\n",
      "              importance_type=None, interaction_constraints='',\n",
      "              learning_rate=0.1, max_bin=256, max_cat_to_onehot=4,\n",
      "              max_delta_step=0, max_depth=10, max_leaves=0,\n",
      "              min_child_weight=0.01, missing=nan, monotone_constraints='()',\n",
      "              n_estimators=20, n_jobs=0, num_parallel_tree=1, predictor='auto',\n",
      "              random_state=0, reg_alpha=0.5, reg_lambda=1, ...)\n"
     ]
    }
   ],
   "source": [
    "best_xgb_params = best_clf_xgb_rnd.best_params_\n",
    "print('best_xgb_params : ', best_xgb_params)\n",
    "\n",
    "## Get the best estimator\n",
    "best_xgb = best_clf_xgb_rnd.best_estimator_  \n",
    "print('best_xgb : ', best_xgb)"
   ]
  },
  {
   "cell_type": "code",
   "execution_count": null,
   "id": "9a21dc25",
   "metadata": {
    "papermill": {
     "duration": 0.051548,
     "end_time": "2022-10-24T17:35:14.808633",
     "exception": false,
     "start_time": "2022-10-24T17:35:14.757085",
     "status": "completed"
    },
    "tags": []
   },
   "outputs": [],
   "source": []
  },
  {
   "cell_type": "markdown",
   "id": "885765a9",
   "metadata": {
    "papermill": {
     "duration": 0.051587,
     "end_time": "2022-10-24T17:35:14.911917",
     "exception": false,
     "start_time": "2022-10-24T17:35:14.860330",
     "status": "completed"
    },
    "tags": []
   },
   "source": [
    "## **Voting Classifier **"
   ]
  },
  {
   "cell_type": "code",
   "execution_count": 124,
   "id": "c1837b71",
   "metadata": {
    "execution": {
     "iopub.execute_input": "2022-10-24T17:35:15.016667Z",
     "iopub.status.busy": "2022-10-24T17:35:15.016126Z",
     "iopub.status.idle": "2022-10-24T17:35:15.020063Z",
     "shell.execute_reply": "2022-10-24T17:35:15.019488Z"
    },
    "papermill": {
     "duration": 0.058625,
     "end_time": "2022-10-24T17:35:15.021596",
     "exception": false,
     "start_time": "2022-10-24T17:35:14.962971",
     "status": "completed"
    },
    "tags": []
   },
   "outputs": [],
   "source": [
    "votting_cls = VotingClassifier(estimators=[\n",
    "...         ('logit', logit), ('knn',knn), ('xgb', xgb)],\n",
    "...         voting='hard',\n",
    "            weights=(0.2,0.3,0.5))"
   ]
  },
  {
   "cell_type": "code",
   "execution_count": 125,
   "id": "988d61c8",
   "metadata": {
    "execution": {
     "iopub.execute_input": "2022-10-24T17:35:15.126160Z",
     "iopub.status.busy": "2022-10-24T17:35:15.125615Z",
     "iopub.status.idle": "2022-10-24T17:35:15.543123Z",
     "shell.execute_reply": "2022-10-24T17:35:15.542447Z"
    },
    "papermill": {
     "duration": 0.472019,
     "end_time": "2022-10-24T17:35:15.544926",
     "exception": false,
     "start_time": "2022-10-24T17:35:15.072907",
     "status": "completed"
    },
    "tags": []
   },
   "outputs": [
    {
     "data": {
      "text/plain": [
       "VotingClassifier(estimators=[('logit', LogisticRegression()),\n",
       "                             ('knn', KNeighborsClassifier()),\n",
       "                             ('xgb',\n",
       "                              XGBClassifier(base_score=None, booster=None,\n",
       "                                            callbacks=None,\n",
       "                                            colsample_bylevel=None,\n",
       "                                            colsample_bynode=None,\n",
       "                                            colsample_bytree=None,\n",
       "                                            early_stopping_rounds=None,\n",
       "                                            enable_categorical=False,\n",
       "                                            eval_metric=None, gamma=None,\n",
       "                                            gpu_id=None, grow_policy=None,\n",
       "                                            importance_type=None,\n",
       "                                            interaction_constraints=None,\n",
       "                                            learning_rate=None, max_bin=None,\n",
       "                                            max_cat_to_onehot=None,\n",
       "                                            max_delta_step=None, max_depth=None,\n",
       "                                            max_leaves=None,\n",
       "                                            min_child_weight=None, missing=nan,\n",
       "                                            monotone_constraints=None,\n",
       "                                            n_estimators=100, n_jobs=None,\n",
       "                                            num_parallel_tree=None,\n",
       "                                            predictor=None, random_state=None,\n",
       "                                            reg_alpha=None, reg_lambda=None, ...))],\n",
       "                 weights=(0.2, 0.3, 0.5))"
      ]
     },
     "execution_count": 125,
     "metadata": {},
     "output_type": "execute_result"
    }
   ],
   "source": [
    "votting_cls.fit(X_train_final, y_train)"
   ]
  },
  {
   "cell_type": "code",
   "execution_count": 126,
   "id": "93ec0a6d",
   "metadata": {
    "execution": {
     "iopub.execute_input": "2022-10-24T17:35:15.655573Z",
     "iopub.status.busy": "2022-10-24T17:35:15.654770Z",
     "iopub.status.idle": "2022-10-24T17:35:15.717985Z",
     "shell.execute_reply": "2022-10-24T17:35:15.717316Z"
    },
    "papermill": {
     "duration": 0.119776,
     "end_time": "2022-10-24T17:35:15.719887",
     "exception": false,
     "start_time": "2022-10-24T17:35:15.600111",
     "status": "completed"
    },
    "tags": []
   },
   "outputs": [
    {
     "name": "stdout",
     "output_type": "stream",
     "text": [
      "VotingClassifierModel Train Score is :  0.9379128137384413\n",
      "VotingClassifierModel Test Score is :  0.7761194029850746\n"
     ]
    }
   ],
   "source": [
    "print('VotingClassifierModel Train Score is : ' , votting_cls.score(X_train_final, y_train))\n",
    "print('VotingClassifierModel Test Score is : ' , votting_cls.score(X_test_final, y_test))\n"
   ]
  },
  {
   "cell_type": "code",
   "execution_count": 127,
   "id": "c5f1ecfa",
   "metadata": {
    "execution": {
     "iopub.execute_input": "2022-10-24T17:35:15.857016Z",
     "iopub.status.busy": "2022-10-24T17:35:15.856637Z",
     "iopub.status.idle": "2022-10-24T17:35:15.875826Z",
     "shell.execute_reply": "2022-10-24T17:35:15.875021Z"
    },
    "papermill": {
     "duration": 0.084736,
     "end_time": "2022-10-24T17:35:15.880775",
     "exception": false,
     "start_time": "2022-10-24T17:35:15.796039",
     "status": "completed"
    },
    "tags": []
   },
   "outputs": [
    {
     "name": "stdout",
     "output_type": "stream",
     "text": [
      "Predicted Value for Voting Classifier Model is :  [1. 0. 1. 1. 1. 0. 0. 1. 0. 1. 0. 0. 0. 0. 1. 0. 0. 0. 0. 0. 0. 0. 1. 0.\n",
      " 0. 0. 1. 1. 0. 1. 0. 0. 0. 0. 0. 0. 1. 0. 0. 0. 0. 1. 1. 0. 1. 0. 0. 0.\n",
      " 0. 0. 0. 1. 0. 0. 0. 0. 0. 0. 0. 0. 0. 0. 0. 0. 0. 0. 0. 0. 1. 0. 0. 0.\n",
      " 0. 0. 1. 0. 1. 0. 0. 1. 0. 0. 0. 0. 1. 0. 0. 0. 0. 1. 0. 0. 0. 1. 0. 1.\n",
      " 0. 1. 0. 0. 1. 0. 1. 1. 1. 0. 0. 0. 0. 0. 1. 0. 0. 0. 0. 0. 0. 1. 1. 0.\n",
      " 1. 0. 0. 0. 1. 1. 1. 0. 0. 0. 0. 0. 1. 1.]\n"
     ]
    }
   ],
   "source": [
    "y_pred = votting_cls.predict(X_test_final)\n",
    "print('Predicted Value for Voting Classifier Model is : ' , y_pred)"
   ]
  },
  {
   "cell_type": "code",
   "execution_count": 128,
   "id": "ced45a17",
   "metadata": {
    "execution": {
     "iopub.execute_input": "2022-10-24T17:35:16.011457Z",
     "iopub.status.busy": "2022-10-24T17:35:16.011044Z",
     "iopub.status.idle": "2022-10-24T17:35:16.019019Z",
     "shell.execute_reply": "2022-10-24T17:35:16.018197Z"
    },
    "papermill": {
     "duration": 0.06998,
     "end_time": "2022-10-24T17:35:16.020939",
     "exception": false,
     "start_time": "2022-10-24T17:35:15.950959",
     "status": "completed"
    },
    "tags": []
   },
   "outputs": [
    {
     "data": {
      "text/plain": [
       "array([[73,  7],\n",
       "       [23, 31]])"
      ]
     },
     "execution_count": 128,
     "metadata": {},
     "output_type": "execute_result"
    }
   ],
   "source": [
    "conf_mat = confusion_matrix(y_test, y_pred )\n",
    "conf_mat"
   ]
  },
  {
   "cell_type": "code",
   "execution_count": 129,
   "id": "16c0013a",
   "metadata": {
    "execution": {
     "iopub.execute_input": "2022-10-24T17:35:16.130747Z",
     "iopub.status.busy": "2022-10-24T17:35:16.130371Z",
     "iopub.status.idle": "2022-10-24T17:35:16.314395Z",
     "shell.execute_reply": "2022-10-24T17:35:16.313176Z"
    },
    "papermill": {
     "duration": 0.240353,
     "end_time": "2022-10-24T17:35:16.316483",
     "exception": false,
     "start_time": "2022-10-24T17:35:16.076130",
     "status": "completed"
    },
    "tags": []
   },
   "outputs": [
    {
     "data": {
      "text/plain": [
       "<AxesSubplot:>"
      ]
     },
     "execution_count": 129,
     "metadata": {},
     "output_type": "execute_result"
    },
    {
     "data": {
      "image/png": "[encoded data removed]",
      "text/plain": [
       "<Figure size 432x288 with 2 Axes>"
      ]
     },
     "metadata": {
      "needs_background": "light"
     },
     "output_type": "display_data"
    }
   ],
   "source": [
    "TF = ['True Neg','False Pos','False Neg','True Pos']\n",
    "counts = [f'{value:0.0f}'.format(value) for value in conf_mat.flatten()]\n",
    "labels = [f'{v1}\\n{v2}' for v1, v2 in\n",
    "          zip(TF,counts)]\n",
    "\n",
    "labels = np.asarray(labels).reshape(2,2)\n",
    "sns.heatmap(conf_mat ,annot=labels, fmt='',cbar=True ,cmap='Blues')"
   ]
  },
  {
   "cell_type": "code",
   "execution_count": 130,
   "id": "8c6bfbb3",
   "metadata": {
    "execution": {
     "iopub.execute_input": "2022-10-24T17:35:16.423771Z",
     "iopub.status.busy": "2022-10-24T17:35:16.423434Z",
     "iopub.status.idle": "2022-10-24T17:35:17.190743Z",
     "shell.execute_reply": "2022-10-24T17:35:17.189881Z"
    },
    "papermill": {
     "duration": 0.823874,
     "end_time": "2022-10-24T17:35:17.193264",
     "exception": false,
     "start_time": "2022-10-24T17:35:16.369390",
     "status": "completed"
    },
    "tags": []
   },
   "outputs": [],
   "source": [
    "skf = StratifiedKFold(n_splits=5, shuffle=True, random_state=1)\n",
    "\n",
    "scoring = [ 'f1' ,'accuracy']\n",
    "\n",
    "vote_Cross_Val_Score = cross_validate(estimator=votting_cls , X=X_train_final, y=y_train, \n",
    "                               cv=skf, scoring=scoring, n_jobs=-1)"
   ]
  },
  {
   "cell_type": "code",
   "execution_count": 131,
   "id": "77ff9fc3",
   "metadata": {
    "execution": {
     "iopub.execute_input": "2022-10-24T17:35:17.305178Z",
     "iopub.status.busy": "2022-10-24T17:35:17.304013Z",
     "iopub.status.idle": "2022-10-24T17:35:17.310667Z",
     "shell.execute_reply": "2022-10-24T17:35:17.310056Z"
    },
    "papermill": {
     "duration": 0.062341,
     "end_time": "2022-10-24T17:35:17.312263",
     "exception": false,
     "start_time": "2022-10-24T17:35:17.249922",
     "status": "completed"
    },
    "tags": []
   },
   "outputs": [
    {
     "data": {
      "text/plain": [
       "{'fit_time': array([0.44196796, 0.38796329, 0.3721683 , 0.38612485, 0.26790476]),\n",
       " 'score_time': array([0.00581074, 0.00554442, 0.00568795, 0.0056622 , 0.00429225]),\n",
       " 'test_f1': array([0.75      , 0.73394495, 0.73214286, 0.71559633, 0.80733945]),\n",
       " 'test_accuracy': array([0.81578947, 0.80921053, 0.8013245 , 0.79470199, 0.86092715])}"
      ]
     },
     "execution_count": 131,
     "metadata": {},
     "output_type": "execute_result"
    }
   ],
   "source": [
    "Cross_Val_Score"
   ]
  },
  {
   "cell_type": "code",
   "execution_count": 132,
   "id": "72632fe4",
   "metadata": {
    "execution": {
     "iopub.execute_input": "2022-10-24T17:35:17.422555Z",
     "iopub.status.busy": "2022-10-24T17:35:17.421416Z",
     "iopub.status.idle": "2022-10-24T17:35:17.427244Z",
     "shell.execute_reply": "2022-10-24T17:35:17.426234Z"
    },
    "papermill": {
     "duration": 0.062201,
     "end_time": "2022-10-24T17:35:17.429174",
     "exception": false,
     "start_time": "2022-10-24T17:35:17.366973",
     "status": "completed"
    },
    "tags": []
   },
   "outputs": [
    {
     "name": "stdout",
     "output_type": "stream",
     "text": [
      "F1_score :  0.7467370116996034\n",
      "accuracy :  0.8741721854304636\n"
     ]
    }
   ],
   "source": [
    "print( \"F1_score : \" ,vote_Cross_Val_Score['test_f1'].mean())\n",
    "print( \"accuracy : \" ,vote_Cross_Val_Score['test_accuracy'].max())"
   ]
  },
  {
   "cell_type": "code",
   "execution_count": 133,
   "id": "7fc3fd86",
   "metadata": {
    "execution": {
     "iopub.execute_input": "2022-10-24T17:35:17.538658Z",
     "iopub.status.busy": "2022-10-24T17:35:17.538287Z",
     "iopub.status.idle": "2022-10-24T17:35:18.253953Z",
     "shell.execute_reply": "2022-10-24T17:35:18.253100Z"
    },
    "papermill": {
     "duration": 0.77295,
     "end_time": "2022-10-24T17:35:18.256232",
     "exception": false,
     "start_time": "2022-10-24T17:35:17.483282",
     "status": "completed"
    },
    "tags": []
   },
   "outputs": [],
   "source": [
    "y_pred_voting = cross_val_predict(estimator=votting_cls, X=X_train_final, y=y_train, cv=5, \n",
    "                                        method='predict', n_jobs=-1)"
   ]
  },
  {
   "cell_type": "code",
   "execution_count": 134,
   "id": "412e4185",
   "metadata": {
    "execution": {
     "iopub.execute_input": "2022-10-24T17:35:18.365860Z",
     "iopub.status.busy": "2022-10-24T17:35:18.365540Z",
     "iopub.status.idle": "2022-10-24T17:35:18.521777Z",
     "shell.execute_reply": "2022-10-24T17:35:18.520939Z"
    },
    "papermill": {
     "duration": 0.213039,
     "end_time": "2022-10-24T17:35:18.523680",
     "exception": false,
     "start_time": "2022-10-24T17:35:18.310641",
     "status": "completed"
    },
    "tags": []
   },
   "outputs": [
    {
     "data": {
      "text/plain": [
       "<AxesSubplot:>"
      ]
     },
     "execution_count": 134,
     "metadata": {},
     "output_type": "execute_result"
    },
    {
     "data": {
      "image/png": "[encoded data removed]",
      "text/plain": [
       "<Figure size 432x288 with 2 Axes>"
      ]
     },
     "metadata": {
      "needs_background": "light"
     },
     "output_type": "display_data"
    }
   ],
   "source": [
    "conf_mat = confusion_matrix(y_test, y_pred )\n",
    "conf_mat\n",
    "TF = ['True Neg','False Pos','False Neg','True Pos']\n",
    "counts = [f'{value:0.0f}'.format(value) for value in conf_mat.flatten()]\n",
    "labels = [f'{v1}\\n{v2}' for v1, v2 in\n",
    "          zip(TF,counts)]\n",
    "\n",
    "labels = np.asarray(labels).reshape(2,2)\n",
    "sns.heatmap(conf_mat ,annot=labels, fmt='',cbar=True ,cmap='Blues')"
   ]
  },
  {
   "cell_type": "code",
   "execution_count": 135,
   "id": "f1d300d3",
   "metadata": {
    "execution": {
     "iopub.execute_input": "2022-10-24T17:35:18.630377Z",
     "iopub.status.busy": "2022-10-24T17:35:18.629787Z",
     "iopub.status.idle": "2022-10-24T17:35:18.636484Z",
     "shell.execute_reply": "2022-10-24T17:35:18.635607Z"
    },
    "papermill": {
     "duration": 0.062235,
     "end_time": "2022-10-24T17:35:18.638267",
     "exception": false,
     "start_time": "2022-10-24T17:35:18.576032",
     "status": "completed"
    },
    "tags": []
   },
   "outputs": [
    {
     "data": {
      "text/plain": [
       "['best_xgb.pkl']"
      ]
     },
     "execution_count": 135,
     "metadata": {},
     "output_type": "execute_result"
    }
   ],
   "source": [
    "joblib.dump(xgb, 'best_xgb.pkl')"
   ]
  },
  {
   "cell_type": "code",
   "execution_count": 136,
   "id": "562e82a4",
   "metadata": {
    "execution": {
     "iopub.execute_input": "2022-10-24T17:35:18.749402Z",
     "iopub.status.busy": "2022-10-24T17:35:18.749023Z",
     "iopub.status.idle": "2022-10-24T17:35:18.756004Z",
     "shell.execute_reply": "2022-10-24T17:35:18.755347Z"
    },
    "papermill": {
     "duration": 0.064882,
     "end_time": "2022-10-24T17:35:18.757703",
     "exception": false,
     "start_time": "2022-10-24T17:35:18.692821",
     "status": "completed"
    },
    "tags": []
   },
   "outputs": [
    {
     "data": {
      "text/plain": [
       "XGBClassifier(base_score=None, booster=None, callbacks=None,\n",
       "              colsample_bylevel=None, colsample_bynode=None,\n",
       "              colsample_bytree=None, early_stopping_rounds=None,\n",
       "              enable_categorical=False, eval_metric=None, gamma=None,\n",
       "              gpu_id=None, grow_policy=None, importance_type=None,\n",
       "              interaction_constraints=None, learning_rate=None, max_bin=None,\n",
       "              max_cat_to_onehot=None, max_delta_step=None, max_depth=None,\n",
       "              max_leaves=None, min_child_weight=None, missing=nan,\n",
       "              monotone_constraints=None, n_estimators=100, n_jobs=None,\n",
       "              num_parallel_tree=None, predictor=None, random_state=None,\n",
       "              reg_alpha=None, reg_lambda=None, ...)"
      ]
     },
     "execution_count": 136,
     "metadata": {},
     "output_type": "execute_result"
    }
   ],
   "source": [
    "loaded_model = joblib.load('best_xgb.pkl')\n",
    "loaded_model\n"
   ]
  },
  {
   "cell_type": "code",
   "execution_count": null,
   "id": "c08cf777",
   "metadata": {
    "papermill": {
     "duration": 0.054102,
     "end_time": "2022-10-24T17:35:18.865588",
     "exception": false,
     "start_time": "2022-10-24T17:35:18.811486",
     "status": "completed"
    },
    "tags": []
   },
   "outputs": [],
   "source": [
    "\n"
   ]
  },
  {
   "cell_type": "code",
   "execution_count": null,
   "id": "459511fe",
   "metadata": {
    "papermill": {
     "duration": 0.053385,
     "end_time": "2022-10-24T17:35:18.973451",
     "exception": false,
     "start_time": "2022-10-24T17:35:18.920066",
     "status": "completed"
    },
    "tags": []
   },
   "outputs": [],
   "source": []
  },
  {
   "cell_type": "code",
   "execution_count": null,
   "id": "2150b691",
   "metadata": {
    "papermill": {
     "duration": 0.053806,
     "end_time": "2022-10-24T17:35:19.082053",
     "exception": false,
     "start_time": "2022-10-24T17:35:19.028247",
     "status": "completed"
    },
    "tags": []
   },
   "outputs": [],
   "source": []
  },
  {
   "cell_type": "code",
   "execution_count": null,
   "id": "30792a60",
   "metadata": {
    "papermill": {
     "duration": 0.053667,
     "end_time": "2022-10-24T17:35:19.191449",
     "exception": false,
     "start_time": "2022-10-24T17:35:19.137782",
     "status": "completed"
    },
    "tags": []
   },
   "outputs": [],
   "source": []
  },
  {
   "cell_type": "code",
   "execution_count": null,
   "id": "23241547",
   "metadata": {
    "papermill": {
     "duration": 0.053017,
     "end_time": "2022-10-24T17:35:19.297127",
     "exception": false,
     "start_time": "2022-10-24T17:35:19.244110",
     "status": "completed"
    },
    "tags": []
   },
   "outputs": [],
   "source": []
  },
  {
   "cell_type": "code",
   "execution_count": null,
   "id": "36ac13a2",
   "metadata": {
    "papermill": {
     "duration": 0.05385,
     "end_time": "2022-10-24T17:35:19.404553",
     "exception": false,
     "start_time": "2022-10-24T17:35:19.350703",
     "status": "completed"
    },
    "tags": []
   },
   "outputs": [],
   "source": []
  },
  {
   "cell_type": "code",
   "execution_count": null,
   "id": "44167b3d",
   "metadata": {
    "papermill": {
     "duration": 0.052481,
     "end_time": "2022-10-24T17:35:19.510593",
     "exception": false,
     "start_time": "2022-10-24T17:35:19.458112",
     "status": "completed"
    },
    "tags": []
   },
   "outputs": [],
   "source": []
  },
  {
   "cell_type": "code",
   "execution_count": null,
   "id": "6cd215a0",
   "metadata": {
    "papermill": {
     "duration": 0.053437,
     "end_time": "2022-10-24T17:35:19.617187",
     "exception": false,
     "start_time": "2022-10-24T17:35:19.563750",
     "status": "completed"
    },
    "tags": []
   },
   "outputs": [],
   "source": []
  },
  {
   "cell_type": "code",
   "execution_count": null,
   "id": "4baefbdc",
   "metadata": {
    "papermill": {
     "duration": 0.054163,
     "end_time": "2022-10-24T17:35:19.729853",
     "exception": false,
     "start_time": "2022-10-24T17:35:19.675690",
     "status": "completed"
    },
    "tags": []
   },
   "outputs": [],
   "source": []
  },
  {
   "cell_type": "code",
   "execution_count": null,
   "id": "c7894f00",
   "metadata": {
    "papermill": {
     "duration": 0.056469,
     "end_time": "2022-10-24T17:35:19.840259",
     "exception": false,
     "start_time": "2022-10-24T17:35:19.783790",
     "status": "completed"
    },
    "tags": []
   },
   "outputs": [],
   "source": []
  },
  {
   "cell_type": "code",
   "execution_count": null,
   "id": "f4cc84a5",
   "metadata": {
    "papermill": {
     "duration": 0.053829,
     "end_time": "2022-10-24T17:35:19.949055",
     "exception": false,
     "start_time": "2022-10-24T17:35:19.895226",
     "status": "completed"
    },
    "tags": []
   },
   "outputs": [],
   "source": []
  },
  {
   "cell_type": "code",
   "execution_count": null,
   "id": "d1583e4f",
   "metadata": {
    "papermill": {
     "duration": 0.054061,
     "end_time": "2022-10-24T17:35:20.056979",
     "exception": false,
     "start_time": "2022-10-24T17:35:20.002918",
     "status": "completed"
    },
    "tags": []
   },
   "outputs": [],
   "source": []
  }
 ],
 "metadata": {
  "kernelspec": {
   "display_name": "Python 3",
   "language": "python",
   "name": "python3"
  },
  "language_info": {
   "codemirror_mode": {
    "name": "ipython",
    "version": 3
   },
   "file_extension": ".py",
   "mimetype": "text/x-python",
   "name": "python",
   "nbconvert_exporter": "python",
   "pygments_lexer": "ipython3",
   "version": "3.7.12"
  },
  "papermill": {
   "default_parameters": {},
   "duration": 1192.779435,
   "end_time": "2022-10-24T17:35:22.732464",
   "environment_variables": {},
   "exception": null,
   "input_path": "__notebook__.ipynb",
   "output_path": "__notebook__.ipynb",
   "parameters": {},
   "start_time": "2022-10-24T17:15:29.953029",
   "version": "2.3.4"
  }
 },
 "nbformat": 4,
 "nbformat_minor": 5
}
